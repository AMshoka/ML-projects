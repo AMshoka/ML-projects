{
  "nbformat": 4,
  "nbformat_minor": 0,
  "metadata": {
    "accelerator": "GPU",
    "colab": {
      "name": "ML_HW5_P11.ipynb",
      "provenance": [],
      "collapsed_sections": []
    },
    "kernelspec": {
      "display_name": "Python 3",
      "language": "python",
      "name": "python3"
    },
    "language_info": {
      "codemirror_mode": {
        "name": "ipython",
        "version": 3
      },
      "file_extension": ".py",
      "mimetype": "text/x-python",
      "name": "python",
      "nbconvert_exporter": "python",
      "pygments_lexer": "ipython3",
      "version": "3.8.5"
    },
    "widgets": {
      "application/vnd.jupyter.widget-state+json": {
        "1ac606f13272485a8a17a0ca5fee9f91": {
          "model_module": "@jupyter-widgets/controls",
          "model_name": "HBoxModel",
          "model_module_version": "1.5.0",
          "state": {
            "_dom_classes": [],
            "_model_module": "@jupyter-widgets/controls",
            "_model_module_version": "1.5.0",
            "_model_name": "HBoxModel",
            "_view_count": null,
            "_view_module": "@jupyter-widgets/controls",
            "_view_module_version": "1.5.0",
            "_view_name": "HBoxView",
            "box_style": "",
            "children": [
              "IPY_MODEL_ab72005701cf45f5a38caf3ce50ea847",
              "IPY_MODEL_e5551021b7c24fe5b67e28718d1207aa"
            ],
            "layout": "IPY_MODEL_96f5a97030504e529be643ca9c9adb5d"
          }
        },
        "ab72005701cf45f5a38caf3ce50ea847": {
          "model_module": "@jupyter-widgets/controls",
          "model_name": "FloatProgressModel",
          "model_module_version": "1.5.0",
          "state": {
            "_dom_classes": [],
            "_model_module": "@jupyter-widgets/controls",
            "_model_module_version": "1.5.0",
            "_model_name": "FloatProgressModel",
            "_view_count": null,
            "_view_module": "@jupyter-widgets/controls",
            "_view_module_version": "1.5.0",
            "_view_name": "ProgressView",
            "bar_style": "success",
            "description": "Test: 100%",
            "description_tooltip": null,
            "layout": "IPY_MODEL_2513521786e048a583f3b5777dc39499",
            "max": 343,
            "min": 0,
            "orientation": "horizontal",
            "style": "IPY_MODEL_123cd9368d9e4dfdb254d15c13f9a80e",
            "value": 343
          }
        },
        "e5551021b7c24fe5b67e28718d1207aa": {
          "model_module": "@jupyter-widgets/controls",
          "model_name": "HTMLModel",
          "model_module_version": "1.5.0",
          "state": {
            "_dom_classes": [],
            "_model_module": "@jupyter-widgets/controls",
            "_model_module_version": "1.5.0",
            "_model_name": "HTMLModel",
            "_view_count": null,
            "_view_module": "@jupyter-widgets/controls",
            "_view_module_version": "1.5.0",
            "_view_name": "HTMLView",
            "description": "",
            "description_tooltip": null,
            "layout": "IPY_MODEL_6d47a4c030874ab491c83eced136202a",
            "placeholder": "​",
            "style": "IPY_MODEL_1e7adda5cefd4c3d9dfb155501216aed",
            "value": " 343/343 [06:31&lt;00:00,  1.14s/it]"
          }
        },
        "96f5a97030504e529be643ca9c9adb5d": {
          "model_module": "@jupyter-widgets/base",
          "model_name": "LayoutModel",
          "model_module_version": "1.2.0",
          "state": {
            "_model_module": "@jupyter-widgets/base",
            "_model_module_version": "1.2.0",
            "_model_name": "LayoutModel",
            "_view_count": null,
            "_view_module": "@jupyter-widgets/base",
            "_view_module_version": "1.2.0",
            "_view_name": "LayoutView",
            "align_content": null,
            "align_items": null,
            "align_self": null,
            "border": null,
            "bottom": null,
            "display": null,
            "flex": null,
            "flex_flow": null,
            "grid_area": null,
            "grid_auto_columns": null,
            "grid_auto_flow": null,
            "grid_auto_rows": null,
            "grid_column": null,
            "grid_gap": null,
            "grid_row": null,
            "grid_template_areas": null,
            "grid_template_columns": null,
            "grid_template_rows": null,
            "height": null,
            "justify_content": null,
            "justify_items": null,
            "left": null,
            "margin": null,
            "max_height": null,
            "max_width": null,
            "min_height": null,
            "min_width": null,
            "object_fit": null,
            "object_position": null,
            "order": null,
            "overflow": null,
            "overflow_x": null,
            "overflow_y": null,
            "padding": null,
            "right": null,
            "top": null,
            "visibility": null,
            "width": null
          }
        },
        "2513521786e048a583f3b5777dc39499": {
          "model_module": "@jupyter-widgets/base",
          "model_name": "LayoutModel",
          "model_module_version": "1.2.0",
          "state": {
            "_model_module": "@jupyter-widgets/base",
            "_model_module_version": "1.2.0",
            "_model_name": "LayoutModel",
            "_view_count": null,
            "_view_module": "@jupyter-widgets/base",
            "_view_module_version": "1.2.0",
            "_view_name": "LayoutView",
            "align_content": null,
            "align_items": null,
            "align_self": null,
            "border": null,
            "bottom": null,
            "display": null,
            "flex": null,
            "flex_flow": null,
            "grid_area": null,
            "grid_auto_columns": null,
            "grid_auto_flow": null,
            "grid_auto_rows": null,
            "grid_column": null,
            "grid_gap": null,
            "grid_row": null,
            "grid_template_areas": null,
            "grid_template_columns": null,
            "grid_template_rows": null,
            "height": null,
            "justify_content": null,
            "justify_items": null,
            "left": null,
            "margin": null,
            "max_height": null,
            "max_width": null,
            "min_height": null,
            "min_width": null,
            "object_fit": null,
            "object_position": null,
            "order": null,
            "overflow": null,
            "overflow_x": null,
            "overflow_y": null,
            "padding": null,
            "right": null,
            "top": null,
            "visibility": null,
            "width": null
          }
        },
        "123cd9368d9e4dfdb254d15c13f9a80e": {
          "model_module": "@jupyter-widgets/controls",
          "model_name": "ProgressStyleModel",
          "model_module_version": "1.5.0",
          "state": {
            "_model_module": "@jupyter-widgets/controls",
            "_model_module_version": "1.5.0",
            "_model_name": "ProgressStyleModel",
            "_view_count": null,
            "_view_module": "@jupyter-widgets/base",
            "_view_module_version": "1.2.0",
            "_view_name": "StyleView",
            "bar_color": null,
            "description_width": "initial"
          }
        },
        "6d47a4c030874ab491c83eced136202a": {
          "model_module": "@jupyter-widgets/base",
          "model_name": "LayoutModel",
          "model_module_version": "1.2.0",
          "state": {
            "_model_module": "@jupyter-widgets/base",
            "_model_module_version": "1.2.0",
            "_model_name": "LayoutModel",
            "_view_count": null,
            "_view_module": "@jupyter-widgets/base",
            "_view_module_version": "1.2.0",
            "_view_name": "LayoutView",
            "align_content": null,
            "align_items": null,
            "align_self": null,
            "border": null,
            "bottom": null,
            "display": null,
            "flex": null,
            "flex_flow": null,
            "grid_area": null,
            "grid_auto_columns": null,
            "grid_auto_flow": null,
            "grid_auto_rows": null,
            "grid_column": null,
            "grid_gap": null,
            "grid_row": null,
            "grid_template_areas": null,
            "grid_template_columns": null,
            "grid_template_rows": null,
            "height": null,
            "justify_content": null,
            "justify_items": null,
            "left": null,
            "margin": null,
            "max_height": null,
            "max_width": null,
            "min_height": null,
            "min_width": null,
            "object_fit": null,
            "object_position": null,
            "order": null,
            "overflow": null,
            "overflow_x": null,
            "overflow_y": null,
            "padding": null,
            "right": null,
            "top": null,
            "visibility": null,
            "width": null
          }
        },
        "1e7adda5cefd4c3d9dfb155501216aed": {
          "model_module": "@jupyter-widgets/controls",
          "model_name": "DescriptionStyleModel",
          "model_module_version": "1.5.0",
          "state": {
            "_model_module": "@jupyter-widgets/controls",
            "_model_module_version": "1.5.0",
            "_model_name": "DescriptionStyleModel",
            "_view_count": null,
            "_view_module": "@jupyter-widgets/base",
            "_view_module_version": "1.2.0",
            "_view_name": "StyleView",
            "description_width": ""
          }
        },
        "2fdbc5e061934ea2aff34ca7ee047f61": {
          "model_module": "@jupyter-widgets/controls",
          "model_name": "HBoxModel",
          "model_module_version": "1.5.0",
          "state": {
            "_dom_classes": [],
            "_model_module": "@jupyter-widgets/controls",
            "_model_module_version": "1.5.0",
            "_model_name": "HBoxModel",
            "_view_count": null,
            "_view_module": "@jupyter-widgets/controls",
            "_view_module_version": "1.5.0",
            "_view_name": "HBoxView",
            "box_style": "",
            "children": [
              "IPY_MODEL_b5aef8317a604784b13181136d9e9058",
              "IPY_MODEL_4c7a1ab655b14f699e710bc5b2cd7f8d"
            ],
            "layout": "IPY_MODEL_04d4c8bb3e71413ab3c9c0a5523254ab"
          }
        },
        "b5aef8317a604784b13181136d9e9058": {
          "model_module": "@jupyter-widgets/controls",
          "model_name": "FloatProgressModel",
          "model_module_version": "1.5.0",
          "state": {
            "_dom_classes": [],
            "_model_module": "@jupyter-widgets/controls",
            "_model_module_version": "1.5.0",
            "_model_name": "FloatProgressModel",
            "_view_count": null,
            "_view_module": "@jupyter-widgets/controls",
            "_view_module_version": "1.5.0",
            "_view_name": "ProgressView",
            "bar_style": "success",
            "description": "Test: 100%",
            "description_tooltip": null,
            "layout": "IPY_MODEL_af71854a3ac840ee8ff453a4d47a350a",
            "max": 343,
            "min": 0,
            "orientation": "horizontal",
            "style": "IPY_MODEL_68cbe38d65ff40d4b1a491049bb40790",
            "value": 343
          }
        },
        "4c7a1ab655b14f699e710bc5b2cd7f8d": {
          "model_module": "@jupyter-widgets/controls",
          "model_name": "HTMLModel",
          "model_module_version": "1.5.0",
          "state": {
            "_dom_classes": [],
            "_model_module": "@jupyter-widgets/controls",
            "_model_module_version": "1.5.0",
            "_model_name": "HTMLModel",
            "_view_count": null,
            "_view_module": "@jupyter-widgets/controls",
            "_view_module_version": "1.5.0",
            "_view_name": "HTMLView",
            "description": "",
            "description_tooltip": null,
            "layout": "IPY_MODEL_0ff3ab681606411e9ca391dc030b3752",
            "placeholder": "​",
            "style": "IPY_MODEL_3270631ed6b446c1aec720532e34dd9c",
            "value": " 343/343 [00:00&lt;00:00, 740.70it/s]"
          }
        },
        "04d4c8bb3e71413ab3c9c0a5523254ab": {
          "model_module": "@jupyter-widgets/base",
          "model_name": "LayoutModel",
          "model_module_version": "1.2.0",
          "state": {
            "_model_module": "@jupyter-widgets/base",
            "_model_module_version": "1.2.0",
            "_model_name": "LayoutModel",
            "_view_count": null,
            "_view_module": "@jupyter-widgets/base",
            "_view_module_version": "1.2.0",
            "_view_name": "LayoutView",
            "align_content": null,
            "align_items": null,
            "align_self": null,
            "border": null,
            "bottom": null,
            "display": null,
            "flex": null,
            "flex_flow": null,
            "grid_area": null,
            "grid_auto_columns": null,
            "grid_auto_flow": null,
            "grid_auto_rows": null,
            "grid_column": null,
            "grid_gap": null,
            "grid_row": null,
            "grid_template_areas": null,
            "grid_template_columns": null,
            "grid_template_rows": null,
            "height": null,
            "justify_content": null,
            "justify_items": null,
            "left": null,
            "margin": null,
            "max_height": null,
            "max_width": null,
            "min_height": null,
            "min_width": null,
            "object_fit": null,
            "object_position": null,
            "order": null,
            "overflow": null,
            "overflow_x": null,
            "overflow_y": null,
            "padding": null,
            "right": null,
            "top": null,
            "visibility": null,
            "width": null
          }
        },
        "af71854a3ac840ee8ff453a4d47a350a": {
          "model_module": "@jupyter-widgets/base",
          "model_name": "LayoutModel",
          "model_module_version": "1.2.0",
          "state": {
            "_model_module": "@jupyter-widgets/base",
            "_model_module_version": "1.2.0",
            "_model_name": "LayoutModel",
            "_view_count": null,
            "_view_module": "@jupyter-widgets/base",
            "_view_module_version": "1.2.0",
            "_view_name": "LayoutView",
            "align_content": null,
            "align_items": null,
            "align_self": null,
            "border": null,
            "bottom": null,
            "display": null,
            "flex": null,
            "flex_flow": null,
            "grid_area": null,
            "grid_auto_columns": null,
            "grid_auto_flow": null,
            "grid_auto_rows": null,
            "grid_column": null,
            "grid_gap": null,
            "grid_row": null,
            "grid_template_areas": null,
            "grid_template_columns": null,
            "grid_template_rows": null,
            "height": null,
            "justify_content": null,
            "justify_items": null,
            "left": null,
            "margin": null,
            "max_height": null,
            "max_width": null,
            "min_height": null,
            "min_width": null,
            "object_fit": null,
            "object_position": null,
            "order": null,
            "overflow": null,
            "overflow_x": null,
            "overflow_y": null,
            "padding": null,
            "right": null,
            "top": null,
            "visibility": null,
            "width": null
          }
        },
        "68cbe38d65ff40d4b1a491049bb40790": {
          "model_module": "@jupyter-widgets/controls",
          "model_name": "ProgressStyleModel",
          "model_module_version": "1.5.0",
          "state": {
            "_model_module": "@jupyter-widgets/controls",
            "_model_module_version": "1.5.0",
            "_model_name": "ProgressStyleModel",
            "_view_count": null,
            "_view_module": "@jupyter-widgets/base",
            "_view_module_version": "1.2.0",
            "_view_name": "StyleView",
            "bar_color": null,
            "description_width": "initial"
          }
        },
        "0ff3ab681606411e9ca391dc030b3752": {
          "model_module": "@jupyter-widgets/base",
          "model_name": "LayoutModel",
          "model_module_version": "1.2.0",
          "state": {
            "_model_module": "@jupyter-widgets/base",
            "_model_module_version": "1.2.0",
            "_model_name": "LayoutModel",
            "_view_count": null,
            "_view_module": "@jupyter-widgets/base",
            "_view_module_version": "1.2.0",
            "_view_name": "LayoutView",
            "align_content": null,
            "align_items": null,
            "align_self": null,
            "border": null,
            "bottom": null,
            "display": null,
            "flex": null,
            "flex_flow": null,
            "grid_area": null,
            "grid_auto_columns": null,
            "grid_auto_flow": null,
            "grid_auto_rows": null,
            "grid_column": null,
            "grid_gap": null,
            "grid_row": null,
            "grid_template_areas": null,
            "grid_template_columns": null,
            "grid_template_rows": null,
            "height": null,
            "justify_content": null,
            "justify_items": null,
            "left": null,
            "margin": null,
            "max_height": null,
            "max_width": null,
            "min_height": null,
            "min_width": null,
            "object_fit": null,
            "object_position": null,
            "order": null,
            "overflow": null,
            "overflow_x": null,
            "overflow_y": null,
            "padding": null,
            "right": null,
            "top": null,
            "visibility": null,
            "width": null
          }
        },
        "3270631ed6b446c1aec720532e34dd9c": {
          "model_module": "@jupyter-widgets/controls",
          "model_name": "DescriptionStyleModel",
          "model_module_version": "1.5.0",
          "state": {
            "_model_module": "@jupyter-widgets/controls",
            "_model_module_version": "1.5.0",
            "_model_name": "DescriptionStyleModel",
            "_view_count": null,
            "_view_module": "@jupyter-widgets/base",
            "_view_module_version": "1.2.0",
            "_view_name": "StyleView",
            "description_width": ""
          }
        }
      }
    }
  },
  "cells": [
    {
      "cell_type": "markdown",
      "metadata": {
        "id": "em32Y0zdSQut"
      },
      "source": [
        "# ML for Bioinformatics (30 points)\n",
        "## HW5 - Long short-term memory\n",
        "\n",
        "---\n",
        "\n",
        "Name: AmirHossein Mohammadi\n",
        "\n",
        "Student No.: 99201081\n",
        "\n",
        "---\n"
      ]
    },
    {
      "cell_type": "markdown",
      "metadata": {
        "id": "b7AEKlrozS6J"
      },
      "source": [
        "# ECG Heartbeat Classification"
      ]
    },
    {
      "cell_type": "markdown",
      "metadata": {
        "id": "QcS0LXgezkNM"
      },
      "source": [
        "In this exercise we aim to perform a classification task on a bunch of ECG recorded signals. To this end, you will implement two models with different architectures: 1- LSTM neural network 2- Convolutional neural network. You are supposed to achieve a high performance on both models.\n",
        "\n",
        "Attention: In this notebook you are only allowed to change the sections denoted by the following mark:\n",
        "\n",
        "    # ========================= Place Your Code Here ========================= #\n",
        "\n",
        "    # ======================================================================== #\n",
        "\n"
      ]
    },
    {
      "cell_type": "markdown",
      "metadata": {
        "id": "2pAEksut0ds-"
      },
      "source": [
        "# Collect Data\n",
        "We use a preprocessed version of a famous datasets in heartbeat classification, [the MIT-BIH Arrhythmia Dataset](https://physionet.org/content/mitdb/1.0.0/). \n",
        "The signals in this dataset correspond to electrocardiogram (ECG) shapes of heartbeats for the normal case and the cases affected by different arrhythmias and myocardial infarction. We will use the Arrhythmia Dataset used in [this paper](https://arxiv.org/abs/1805.00794) which is the preprocessed arrhythmia dataset consisting of signals that are preprocessed and segmented, with each segment corresponding to a heartbeat in the dataset. This dataset is composed of 109446 samples which are classified into 5 categories."
      ]
    },
    {
      "cell_type": "markdown",
      "metadata": {
        "id": "x28te2lu3vtG"
      },
      "source": [
        "You must download the dataset from [here](https://drive.google.com/file/d/1BhedBaKpVPT_QJgGFPIc-UiCj_PhoOwo/view?usp=sharing). It is also accessible on [kaggle](https://www.kaggle.com/shayanfazeli/heartbeat).\n",
        "The training and test data are located in mitbih_train.csv and mitbih_test.csv files. Locate these files in dataset folder next to this notebook. If you are running this notebook on colab (which is strongly recommended), you should first copy the dataset into your Google drive and the then running the code bellow will do the rest."
      ]
    },
    {
      "cell_type": "code",
      "metadata": {
        "id": "U_qvnT2nSQux"
      },
      "source": [
        "FOLDERNAME = 'HW05-1'   #تغییر#"
      ],
      "execution_count": null,
      "outputs": []
    },
    {
      "cell_type": "code",
      "metadata": {
        "id": "0-igA1-XSQuy"
      },
      "source": [
        "assert FOLDERNAME is not None, 'HW05-1'"
      ],
      "execution_count": null,
      "outputs": []
    },
    {
      "cell_type": "code",
      "metadata": {
        "colab": {
          "base_uri": "https://localhost:8080/"
        },
        "id": "KbLhdqNkGjsD",
        "outputId": "91cc5563-1693-4934-c7f6-b50821360f79"
      },
      "source": [
        "from google.colab import drive\n",
        "\n",
        "drive.mount('/content/drive', force_remount=True)\n",
        "\n",
        "%cp -r /content/drive/MyDrive/$FOLDERNAME /content/\n",
        "!unzip /content/$FOLDERNAME/29414_37484_bundle_archive.zip\n",
        "\n"
      ],
      "execution_count": null,
      "outputs": [
        {
          "name": "stdout",
          "output_type": "stream",
          "text": [
            "Mounted at /content/drive\n",
            "Archive:  /content/HW05-1/29414_37484_bundle_archive.zip\n",
            "  inflating: mitbih_test.csv         \n",
            "  inflating: mitbih_train.csv        \n"
          ]
        }
      ]
    },
    {
      "cell_type": "code",
      "metadata": {
        "id": "5rNDU40outel"
      },
      "source": [
        "import numpy as np\n",
        "import pandas as pd\n",
        "import matplotlib.pyplot as plt\n",
        "import torch\n",
        "import torch.nn as nn\n",
        "import torch.nn.functional as F\n",
        "from torch.utils.data import Dataset, DataLoader\n",
        "from tqdm.auto import tqdm, trange\n",
        "from sklearn.metrics import roc_auc_score\n",
        "from sklearn.metrics import classification_report\n",
        "from IPython import display\n",
        "import torch.backends.cudnn as cudnn\n",
        "import random\n",
        "\n",
        "def set_seed(seed):\n",
        "    cudnn.deterministic = True\n",
        "    torch.cuda.manual_seed(seed)\n",
        "    np.random.seed(seed)\n",
        "    torch.manual_seed(seed)\n",
        "    torch.cuda.manual_seed_all(seed)\n",
        "    random.seed(seed)"
      ],
      "execution_count": null,
      "outputs": []
    },
    {
      "cell_type": "code",
      "metadata": {
        "colab": {
          "base_uri": "https://localhost:8080/"
        },
        "id": "PFJ31xvIzrwC",
        "outputId": "7a731a20-f055-4ec8-e3a5-da85785e5986"
      },
      "source": [
        "if torch.cuda.is_available():\n",
        "    device = torch.device(\"cuda:0\")\n",
        "    print(\"Running on the GPU\")\n",
        "else:\n",
        "    device = torch.device(\"cpu\")\n",
        "    print(\"Running on the CPU\")"
      ],
      "execution_count": null,
      "outputs": [
        {
          "name": "stdout",
          "output_type": "stream",
          "text": [
            "Running on the GPU\n"
          ]
        }
      ]
    },
    {
      "cell_type": "markdown",
      "metadata": {
        "id": "992l0fxXSQuz"
      },
      "source": [
        "# Read The Dataset (3 points)\n",
        "This dataset consists of a series of CSV files. Each of these CSV files contain a matrix, with each row representing an example in that portion of the dataset. The final element of each row denotes the class to which that example belongs. In this section you are asked to load the samples from \"mitbih_train.csv\" and \"mitbih_test.csv\" files into seperate numpy arrays. \n",
        "\n",
        "hint: you can use pandas.read_csv function for reading csv files."
      ]
    },
    {
      "cell_type": "code",
      "metadata": {
        "colab": {
          "background_save": true
        },
        "id": "0LX0i3GgSQuz"
      },
      "source": [
        "# ========================= Place Your Code Here ========================= #\n",
        "#تغییر# \n",
        "dataframe_train = pd.read_csv(\"mitbih_train.csv\",skiprows=[0])\n",
        "dataframe_train\n",
        "dataframe_test = pd.read_csv(\"mitbih_test.csv\", header=None)\n",
        "\n",
        "#data_train = np.array(dataframe_train.drop(columns=187)).astype('float32')\n",
        "#labels_train = np.array(dataframe_train[187]).astype('int64')\n",
        "\n",
        "#data_test = np.array(dataframe_test.drop(columns=187)).astype('float32')\n",
        "#labels_test = np.array(dataframe_test[187]).astype('int64')\n",
        "\n",
        "# ======================================================================== #"
      ],
      "execution_count": null,
      "outputs": []
    },
    {
      "cell_type": "code",
      "metadata": {
        "colab": {
          "base_uri": "https://localhost:8080/",
          "height": 443
        },
        "id": "6a3zeCqo1jDz",
        "outputId": "3bdc06f9-3273-4ec0-8452-b1ee64f4a195"
      },
      "source": [
        "dataframe_train"
      ],
      "execution_count": null,
      "outputs": [
        {
          "data": {
            "text/html": [
              "<div>\n",
              "<style scoped>\n",
              "    .dataframe tbody tr th:only-of-type {\n",
              "        vertical-align: middle;\n",
              "    }\n",
              "\n",
              "    .dataframe tbody tr th {\n",
              "        vertical-align: top;\n",
              "    }\n",
              "\n",
              "    .dataframe thead th {\n",
              "        text-align: right;\n",
              "    }\n",
              "</style>\n",
              "<table border=\"1\" class=\"dataframe\">\n",
              "  <thead>\n",
              "    <tr style=\"text-align: right;\">\n",
              "      <th></th>\n",
              "      <th>9.601139426231384277e-01</th>\n",
              "      <th>8.632478713989257812e-01</th>\n",
              "      <th>4.615384638309478760e-01</th>\n",
              "      <th>1.965811997652053833e-01</th>\n",
              "      <th>9.401709586381912231e-02</th>\n",
              "      <th>1.253561228513717651e-01</th>\n",
              "      <th>9.971509873867034912e-02</th>\n",
              "      <th>8.831908553838729858e-02</th>\n",
              "      <th>7.407407462596893311e-02</th>\n",
              "      <th>8.262108266353607178e-02</th>\n",
              "      <th>7.407407462596893311e-02.1</th>\n",
              "      <th>6.267806142568588257e-02</th>\n",
              "      <th>6.552706658840179443e-02</th>\n",
              "      <th>6.552706658840179443e-02.1</th>\n",
              "      <th>6.267806142568588257e-02.1</th>\n",
              "      <th>7.692307978868484497e-02</th>\n",
              "      <th>7.122506946325302124e-02</th>\n",
              "      <th>8.262108266353607178e-02.1</th>\n",
              "      <th>9.116809070110321045e-02</th>\n",
              "      <th>9.686609357595443726e-02</th>\n",
              "      <th>8.262108266353607178e-02.2</th>\n",
              "      <th>8.262108266353607178e-02.3</th>\n",
              "      <th>9.116809070110321045e-02.1</th>\n",
              "      <th>1.054131090641021729e-01</th>\n",
              "      <th>1.225071251392364502e-01</th>\n",
              "      <th>1.481481492519378662e-01</th>\n",
              "      <th>1.823361814022064209e-01</th>\n",
              "      <th>1.937321871519088745e-01</th>\n",
              "      <th>2.136752158403396606e-01</th>\n",
              "      <th>2.079772055149078369e-01</th>\n",
              "      <th>2.222222238779067993e-01</th>\n",
              "      <th>2.535612583160400391e-01</th>\n",
              "      <th>2.706552743911743164e-01</th>\n",
              "      <th>2.877492904663085938e-01</th>\n",
              "      <th>2.849002778530120850e-01</th>\n",
              "      <th>2.934472858905792236e-01</th>\n",
              "      <th>2.564102709293365479e-01</th>\n",
              "      <th>2.478632479906082153e-01</th>\n",
              "      <th>1.880341917276382446e-01</th>\n",
              "      <th>1.452991515398025513e-01</th>\n",
              "      <th>...</th>\n",
              "      <th>0.000000000000000000e+00.13</th>\n",
              "      <th>0.000000000000000000e+00.14</th>\n",
              "      <th>0.000000000000000000e+00.15</th>\n",
              "      <th>0.000000000000000000e+00.16</th>\n",
              "      <th>0.000000000000000000e+00.17</th>\n",
              "      <th>0.000000000000000000e+00.18</th>\n",
              "      <th>0.000000000000000000e+00.19</th>\n",
              "      <th>0.000000000000000000e+00.20</th>\n",
              "      <th>0.000000000000000000e+00.21</th>\n",
              "      <th>0.000000000000000000e+00.22</th>\n",
              "      <th>0.000000000000000000e+00.23</th>\n",
              "      <th>0.000000000000000000e+00.24</th>\n",
              "      <th>0.000000000000000000e+00.25</th>\n",
              "      <th>0.000000000000000000e+00.26</th>\n",
              "      <th>0.000000000000000000e+00.27</th>\n",
              "      <th>0.000000000000000000e+00.28</th>\n",
              "      <th>0.000000000000000000e+00.29</th>\n",
              "      <th>0.000000000000000000e+00.30</th>\n",
              "      <th>0.000000000000000000e+00.31</th>\n",
              "      <th>0.000000000000000000e+00.32</th>\n",
              "      <th>0.000000000000000000e+00.33</th>\n",
              "      <th>0.000000000000000000e+00.34</th>\n",
              "      <th>0.000000000000000000e+00.35</th>\n",
              "      <th>0.000000000000000000e+00.36</th>\n",
              "      <th>0.000000000000000000e+00.37</th>\n",
              "      <th>0.000000000000000000e+00.38</th>\n",
              "      <th>0.000000000000000000e+00.39</th>\n",
              "      <th>0.000000000000000000e+00.40</th>\n",
              "      <th>0.000000000000000000e+00.41</th>\n",
              "      <th>0.000000000000000000e+00.42</th>\n",
              "      <th>0.000000000000000000e+00.43</th>\n",
              "      <th>0.000000000000000000e+00.44</th>\n",
              "      <th>0.000000000000000000e+00.45</th>\n",
              "      <th>0.000000000000000000e+00.46</th>\n",
              "      <th>0.000000000000000000e+00.47</th>\n",
              "      <th>0.000000000000000000e+00.48</th>\n",
              "      <th>0.000000000000000000e+00.49</th>\n",
              "      <th>0.000000000000000000e+00.50</th>\n",
              "      <th>0.000000000000000000e+00.51</th>\n",
              "      <th>0.000000000000000000e+00.52</th>\n",
              "    </tr>\n",
              "  </thead>\n",
              "  <tbody>\n",
              "    <tr>\n",
              "      <th>0</th>\n",
              "      <td>1.000000</td>\n",
              "      <td>0.659459</td>\n",
              "      <td>0.186486</td>\n",
              "      <td>0.070270</td>\n",
              "      <td>0.070270</td>\n",
              "      <td>0.059459</td>\n",
              "      <td>0.056757</td>\n",
              "      <td>0.043243</td>\n",
              "      <td>0.054054</td>\n",
              "      <td>0.045946</td>\n",
              "      <td>0.056757</td>\n",
              "      <td>0.043243</td>\n",
              "      <td>0.067568</td>\n",
              "      <td>0.062162</td>\n",
              "      <td>0.078378</td>\n",
              "      <td>0.072973</td>\n",
              "      <td>0.086486</td>\n",
              "      <td>0.081081</td>\n",
              "      <td>0.108108</td>\n",
              "      <td>0.110811</td>\n",
              "      <td>0.135135</td>\n",
              "      <td>0.135135</td>\n",
              "      <td>0.170270</td>\n",
              "      <td>0.183784</td>\n",
              "      <td>0.216216</td>\n",
              "      <td>0.237838</td>\n",
              "      <td>0.270270</td>\n",
              "      <td>0.286486</td>\n",
              "      <td>0.316216</td>\n",
              "      <td>0.318919</td>\n",
              "      <td>0.332432</td>\n",
              "      <td>0.297297</td>\n",
              "      <td>0.267568</td>\n",
              "      <td>0.216216</td>\n",
              "      <td>0.189189</td>\n",
              "      <td>0.132432</td>\n",
              "      <td>0.118919</td>\n",
              "      <td>0.064865</td>\n",
              "      <td>0.064865</td>\n",
              "      <td>0.043243</td>\n",
              "      <td>...</td>\n",
              "      <td>0.0</td>\n",
              "      <td>0.0</td>\n",
              "      <td>0.0</td>\n",
              "      <td>0.0</td>\n",
              "      <td>0.0</td>\n",
              "      <td>0.0</td>\n",
              "      <td>0.0</td>\n",
              "      <td>0.0</td>\n",
              "      <td>0.0</td>\n",
              "      <td>0.0</td>\n",
              "      <td>0.0</td>\n",
              "      <td>0.0</td>\n",
              "      <td>0.0</td>\n",
              "      <td>0.0</td>\n",
              "      <td>0.0</td>\n",
              "      <td>0.0</td>\n",
              "      <td>0.0</td>\n",
              "      <td>0.0</td>\n",
              "      <td>0.0</td>\n",
              "      <td>0.0</td>\n",
              "      <td>0.0</td>\n",
              "      <td>0.0</td>\n",
              "      <td>0.0</td>\n",
              "      <td>0.0</td>\n",
              "      <td>0.0</td>\n",
              "      <td>0.0</td>\n",
              "      <td>0.0</td>\n",
              "      <td>0.0</td>\n",
              "      <td>0.0</td>\n",
              "      <td>0.0</td>\n",
              "      <td>0.0</td>\n",
              "      <td>0.0</td>\n",
              "      <td>0.0</td>\n",
              "      <td>0.0</td>\n",
              "      <td>0.0</td>\n",
              "      <td>0.0</td>\n",
              "      <td>0.0</td>\n",
              "      <td>0.0</td>\n",
              "      <td>0.0</td>\n",
              "      <td>0.0</td>\n",
              "    </tr>\n",
              "    <tr>\n",
              "      <th>1</th>\n",
              "      <td>0.925414</td>\n",
              "      <td>0.665746</td>\n",
              "      <td>0.541436</td>\n",
              "      <td>0.276243</td>\n",
              "      <td>0.196133</td>\n",
              "      <td>0.077348</td>\n",
              "      <td>0.071823</td>\n",
              "      <td>0.060773</td>\n",
              "      <td>0.066298</td>\n",
              "      <td>0.058011</td>\n",
              "      <td>0.063536</td>\n",
              "      <td>0.082873</td>\n",
              "      <td>0.085635</td>\n",
              "      <td>0.093923</td>\n",
              "      <td>0.113260</td>\n",
              "      <td>0.124309</td>\n",
              "      <td>0.140884</td>\n",
              "      <td>0.132597</td>\n",
              "      <td>0.140884</td>\n",
              "      <td>0.091160</td>\n",
              "      <td>0.085635</td>\n",
              "      <td>0.074586</td>\n",
              "      <td>0.071823</td>\n",
              "      <td>0.080110</td>\n",
              "      <td>0.096685</td>\n",
              "      <td>0.118785</td>\n",
              "      <td>0.138122</td>\n",
              "      <td>0.140884</td>\n",
              "      <td>0.138122</td>\n",
              "      <td>0.146409</td>\n",
              "      <td>0.110497</td>\n",
              "      <td>0.102210</td>\n",
              "      <td>0.060773</td>\n",
              "      <td>0.027624</td>\n",
              "      <td>0.038674</td>\n",
              "      <td>0.013812</td>\n",
              "      <td>0.011050</td>\n",
              "      <td>0.013812</td>\n",
              "      <td>0.033149</td>\n",
              "      <td>0.005525</td>\n",
              "      <td>...</td>\n",
              "      <td>0.0</td>\n",
              "      <td>0.0</td>\n",
              "      <td>0.0</td>\n",
              "      <td>0.0</td>\n",
              "      <td>0.0</td>\n",
              "      <td>0.0</td>\n",
              "      <td>0.0</td>\n",
              "      <td>0.0</td>\n",
              "      <td>0.0</td>\n",
              "      <td>0.0</td>\n",
              "      <td>0.0</td>\n",
              "      <td>0.0</td>\n",
              "      <td>0.0</td>\n",
              "      <td>0.0</td>\n",
              "      <td>0.0</td>\n",
              "      <td>0.0</td>\n",
              "      <td>0.0</td>\n",
              "      <td>0.0</td>\n",
              "      <td>0.0</td>\n",
              "      <td>0.0</td>\n",
              "      <td>0.0</td>\n",
              "      <td>0.0</td>\n",
              "      <td>0.0</td>\n",
              "      <td>0.0</td>\n",
              "      <td>0.0</td>\n",
              "      <td>0.0</td>\n",
              "      <td>0.0</td>\n",
              "      <td>0.0</td>\n",
              "      <td>0.0</td>\n",
              "      <td>0.0</td>\n",
              "      <td>0.0</td>\n",
              "      <td>0.0</td>\n",
              "      <td>0.0</td>\n",
              "      <td>0.0</td>\n",
              "      <td>0.0</td>\n",
              "      <td>0.0</td>\n",
              "      <td>0.0</td>\n",
              "      <td>0.0</td>\n",
              "      <td>0.0</td>\n",
              "      <td>0.0</td>\n",
              "    </tr>\n",
              "    <tr>\n",
              "      <th>2</th>\n",
              "      <td>0.967136</td>\n",
              "      <td>1.000000</td>\n",
              "      <td>0.830986</td>\n",
              "      <td>0.586854</td>\n",
              "      <td>0.356808</td>\n",
              "      <td>0.248826</td>\n",
              "      <td>0.145540</td>\n",
              "      <td>0.089202</td>\n",
              "      <td>0.117371</td>\n",
              "      <td>0.150235</td>\n",
              "      <td>0.131455</td>\n",
              "      <td>0.122066</td>\n",
              "      <td>0.140845</td>\n",
              "      <td>0.159624</td>\n",
              "      <td>0.150235</td>\n",
              "      <td>0.145540</td>\n",
              "      <td>0.136150</td>\n",
              "      <td>0.169014</td>\n",
              "      <td>0.178404</td>\n",
              "      <td>0.173709</td>\n",
              "      <td>0.183099</td>\n",
              "      <td>0.201878</td>\n",
              "      <td>0.187793</td>\n",
              "      <td>0.164319</td>\n",
              "      <td>0.187793</td>\n",
              "      <td>0.215962</td>\n",
              "      <td>0.215962</td>\n",
              "      <td>0.201878</td>\n",
              "      <td>0.211268</td>\n",
              "      <td>0.230047</td>\n",
              "      <td>0.215962</td>\n",
              "      <td>0.230047</td>\n",
              "      <td>0.239437</td>\n",
              "      <td>0.267606</td>\n",
              "      <td>0.253521</td>\n",
              "      <td>0.230047</td>\n",
              "      <td>0.220657</td>\n",
              "      <td>0.225352</td>\n",
              "      <td>0.211268</td>\n",
              "      <td>0.173709</td>\n",
              "      <td>...</td>\n",
              "      <td>0.0</td>\n",
              "      <td>0.0</td>\n",
              "      <td>0.0</td>\n",
              "      <td>0.0</td>\n",
              "      <td>0.0</td>\n",
              "      <td>0.0</td>\n",
              "      <td>0.0</td>\n",
              "      <td>0.0</td>\n",
              "      <td>0.0</td>\n",
              "      <td>0.0</td>\n",
              "      <td>0.0</td>\n",
              "      <td>0.0</td>\n",
              "      <td>0.0</td>\n",
              "      <td>0.0</td>\n",
              "      <td>0.0</td>\n",
              "      <td>0.0</td>\n",
              "      <td>0.0</td>\n",
              "      <td>0.0</td>\n",
              "      <td>0.0</td>\n",
              "      <td>0.0</td>\n",
              "      <td>0.0</td>\n",
              "      <td>0.0</td>\n",
              "      <td>0.0</td>\n",
              "      <td>0.0</td>\n",
              "      <td>0.0</td>\n",
              "      <td>0.0</td>\n",
              "      <td>0.0</td>\n",
              "      <td>0.0</td>\n",
              "      <td>0.0</td>\n",
              "      <td>0.0</td>\n",
              "      <td>0.0</td>\n",
              "      <td>0.0</td>\n",
              "      <td>0.0</td>\n",
              "      <td>0.0</td>\n",
              "      <td>0.0</td>\n",
              "      <td>0.0</td>\n",
              "      <td>0.0</td>\n",
              "      <td>0.0</td>\n",
              "      <td>0.0</td>\n",
              "      <td>0.0</td>\n",
              "    </tr>\n",
              "    <tr>\n",
              "      <th>3</th>\n",
              "      <td>0.927461</td>\n",
              "      <td>1.000000</td>\n",
              "      <td>0.626943</td>\n",
              "      <td>0.193437</td>\n",
              "      <td>0.094991</td>\n",
              "      <td>0.072539</td>\n",
              "      <td>0.043178</td>\n",
              "      <td>0.053541</td>\n",
              "      <td>0.093264</td>\n",
              "      <td>0.189983</td>\n",
              "      <td>0.328152</td>\n",
              "      <td>0.417962</td>\n",
              "      <td>0.426598</td>\n",
              "      <td>0.442142</td>\n",
              "      <td>0.433506</td>\n",
              "      <td>0.435233</td>\n",
              "      <td>0.449050</td>\n",
              "      <td>0.435233</td>\n",
              "      <td>0.402418</td>\n",
              "      <td>0.404145</td>\n",
              "      <td>0.405872</td>\n",
              "      <td>0.390328</td>\n",
              "      <td>0.369603</td>\n",
              "      <td>0.373057</td>\n",
              "      <td>0.367876</td>\n",
              "      <td>0.348877</td>\n",
              "      <td>0.317789</td>\n",
              "      <td>0.316062</td>\n",
              "      <td>0.319516</td>\n",
              "      <td>0.322971</td>\n",
              "      <td>0.324698</td>\n",
              "      <td>0.336788</td>\n",
              "      <td>0.359240</td>\n",
              "      <td>0.364421</td>\n",
              "      <td>0.379965</td>\n",
              "      <td>0.407599</td>\n",
              "      <td>0.417962</td>\n",
              "      <td>0.430052</td>\n",
              "      <td>0.442142</td>\n",
              "      <td>0.452504</td>\n",
              "      <td>...</td>\n",
              "      <td>0.0</td>\n",
              "      <td>0.0</td>\n",
              "      <td>0.0</td>\n",
              "      <td>0.0</td>\n",
              "      <td>0.0</td>\n",
              "      <td>0.0</td>\n",
              "      <td>0.0</td>\n",
              "      <td>0.0</td>\n",
              "      <td>0.0</td>\n",
              "      <td>0.0</td>\n",
              "      <td>0.0</td>\n",
              "      <td>0.0</td>\n",
              "      <td>0.0</td>\n",
              "      <td>0.0</td>\n",
              "      <td>0.0</td>\n",
              "      <td>0.0</td>\n",
              "      <td>0.0</td>\n",
              "      <td>0.0</td>\n",
              "      <td>0.0</td>\n",
              "      <td>0.0</td>\n",
              "      <td>0.0</td>\n",
              "      <td>0.0</td>\n",
              "      <td>0.0</td>\n",
              "      <td>0.0</td>\n",
              "      <td>0.0</td>\n",
              "      <td>0.0</td>\n",
              "      <td>0.0</td>\n",
              "      <td>0.0</td>\n",
              "      <td>0.0</td>\n",
              "      <td>0.0</td>\n",
              "      <td>0.0</td>\n",
              "      <td>0.0</td>\n",
              "      <td>0.0</td>\n",
              "      <td>0.0</td>\n",
              "      <td>0.0</td>\n",
              "      <td>0.0</td>\n",
              "      <td>0.0</td>\n",
              "      <td>0.0</td>\n",
              "      <td>0.0</td>\n",
              "      <td>0.0</td>\n",
              "    </tr>\n",
              "    <tr>\n",
              "      <th>4</th>\n",
              "      <td>0.423611</td>\n",
              "      <td>0.791667</td>\n",
              "      <td>1.000000</td>\n",
              "      <td>0.256944</td>\n",
              "      <td>0.000000</td>\n",
              "      <td>0.277778</td>\n",
              "      <td>0.465278</td>\n",
              "      <td>0.520833</td>\n",
              "      <td>0.472222</td>\n",
              "      <td>0.555556</td>\n",
              "      <td>0.534722</td>\n",
              "      <td>0.590278</td>\n",
              "      <td>0.576389</td>\n",
              "      <td>0.597222</td>\n",
              "      <td>0.576389</td>\n",
              "      <td>0.597222</td>\n",
              "      <td>0.576389</td>\n",
              "      <td>0.625000</td>\n",
              "      <td>0.611111</td>\n",
              "      <td>0.652778</td>\n",
              "      <td>0.625000</td>\n",
              "      <td>0.659722</td>\n",
              "      <td>0.652778</td>\n",
              "      <td>0.687500</td>\n",
              "      <td>0.666667</td>\n",
              "      <td>0.715278</td>\n",
              "      <td>0.722222</td>\n",
              "      <td>0.763889</td>\n",
              "      <td>0.770833</td>\n",
              "      <td>0.826389</td>\n",
              "      <td>0.833333</td>\n",
              "      <td>0.895833</td>\n",
              "      <td>0.923611</td>\n",
              "      <td>0.958333</td>\n",
              "      <td>0.944444</td>\n",
              "      <td>0.965278</td>\n",
              "      <td>0.902778</td>\n",
              "      <td>0.875000</td>\n",
              "      <td>0.743056</td>\n",
              "      <td>0.750000</td>\n",
              "      <td>...</td>\n",
              "      <td>0.0</td>\n",
              "      <td>0.0</td>\n",
              "      <td>0.0</td>\n",
              "      <td>0.0</td>\n",
              "      <td>0.0</td>\n",
              "      <td>0.0</td>\n",
              "      <td>0.0</td>\n",
              "      <td>0.0</td>\n",
              "      <td>0.0</td>\n",
              "      <td>0.0</td>\n",
              "      <td>0.0</td>\n",
              "      <td>0.0</td>\n",
              "      <td>0.0</td>\n",
              "      <td>0.0</td>\n",
              "      <td>0.0</td>\n",
              "      <td>0.0</td>\n",
              "      <td>0.0</td>\n",
              "      <td>0.0</td>\n",
              "      <td>0.0</td>\n",
              "      <td>0.0</td>\n",
              "      <td>0.0</td>\n",
              "      <td>0.0</td>\n",
              "      <td>0.0</td>\n",
              "      <td>0.0</td>\n",
              "      <td>0.0</td>\n",
              "      <td>0.0</td>\n",
              "      <td>0.0</td>\n",
              "      <td>0.0</td>\n",
              "      <td>0.0</td>\n",
              "      <td>0.0</td>\n",
              "      <td>0.0</td>\n",
              "      <td>0.0</td>\n",
              "      <td>0.0</td>\n",
              "      <td>0.0</td>\n",
              "      <td>0.0</td>\n",
              "      <td>0.0</td>\n",
              "      <td>0.0</td>\n",
              "      <td>0.0</td>\n",
              "      <td>0.0</td>\n",
              "      <td>0.0</td>\n",
              "    </tr>\n",
              "    <tr>\n",
              "      <th>...</th>\n",
              "      <td>...</td>\n",
              "      <td>...</td>\n",
              "      <td>...</td>\n",
              "      <td>...</td>\n",
              "      <td>...</td>\n",
              "      <td>...</td>\n",
              "      <td>...</td>\n",
              "      <td>...</td>\n",
              "      <td>...</td>\n",
              "      <td>...</td>\n",
              "      <td>...</td>\n",
              "      <td>...</td>\n",
              "      <td>...</td>\n",
              "      <td>...</td>\n",
              "      <td>...</td>\n",
              "      <td>...</td>\n",
              "      <td>...</td>\n",
              "      <td>...</td>\n",
              "      <td>...</td>\n",
              "      <td>...</td>\n",
              "      <td>...</td>\n",
              "      <td>...</td>\n",
              "      <td>...</td>\n",
              "      <td>...</td>\n",
              "      <td>...</td>\n",
              "      <td>...</td>\n",
              "      <td>...</td>\n",
              "      <td>...</td>\n",
              "      <td>...</td>\n",
              "      <td>...</td>\n",
              "      <td>...</td>\n",
              "      <td>...</td>\n",
              "      <td>...</td>\n",
              "      <td>...</td>\n",
              "      <td>...</td>\n",
              "      <td>...</td>\n",
              "      <td>...</td>\n",
              "      <td>...</td>\n",
              "      <td>...</td>\n",
              "      <td>...</td>\n",
              "      <td>...</td>\n",
              "      <td>...</td>\n",
              "      <td>...</td>\n",
              "      <td>...</td>\n",
              "      <td>...</td>\n",
              "      <td>...</td>\n",
              "      <td>...</td>\n",
              "      <td>...</td>\n",
              "      <td>...</td>\n",
              "      <td>...</td>\n",
              "      <td>...</td>\n",
              "      <td>...</td>\n",
              "      <td>...</td>\n",
              "      <td>...</td>\n",
              "      <td>...</td>\n",
              "      <td>...</td>\n",
              "      <td>...</td>\n",
              "      <td>...</td>\n",
              "      <td>...</td>\n",
              "      <td>...</td>\n",
              "      <td>...</td>\n",
              "      <td>...</td>\n",
              "      <td>...</td>\n",
              "      <td>...</td>\n",
              "      <td>...</td>\n",
              "      <td>...</td>\n",
              "      <td>...</td>\n",
              "      <td>...</td>\n",
              "      <td>...</td>\n",
              "      <td>...</td>\n",
              "      <td>...</td>\n",
              "      <td>...</td>\n",
              "      <td>...</td>\n",
              "      <td>...</td>\n",
              "      <td>...</td>\n",
              "      <td>...</td>\n",
              "      <td>...</td>\n",
              "      <td>...</td>\n",
              "      <td>...</td>\n",
              "      <td>...</td>\n",
              "      <td>...</td>\n",
              "    </tr>\n",
              "    <tr>\n",
              "      <th>87547</th>\n",
              "      <td>0.807018</td>\n",
              "      <td>0.494737</td>\n",
              "      <td>0.536842</td>\n",
              "      <td>0.529825</td>\n",
              "      <td>0.491228</td>\n",
              "      <td>0.484211</td>\n",
              "      <td>0.456140</td>\n",
              "      <td>0.396491</td>\n",
              "      <td>0.284211</td>\n",
              "      <td>0.136842</td>\n",
              "      <td>0.052632</td>\n",
              "      <td>0.140351</td>\n",
              "      <td>0.119298</td>\n",
              "      <td>0.091228</td>\n",
              "      <td>0.140351</td>\n",
              "      <td>0.161404</td>\n",
              "      <td>0.105263</td>\n",
              "      <td>0.143860</td>\n",
              "      <td>0.143860</td>\n",
              "      <td>0.129825</td>\n",
              "      <td>0.147368</td>\n",
              "      <td>0.157895</td>\n",
              "      <td>0.164912</td>\n",
              "      <td>0.168421</td>\n",
              "      <td>0.154386</td>\n",
              "      <td>0.175439</td>\n",
              "      <td>0.164912</td>\n",
              "      <td>0.154386</td>\n",
              "      <td>0.182456</td>\n",
              "      <td>0.192982</td>\n",
              "      <td>0.196491</td>\n",
              "      <td>0.207018</td>\n",
              "      <td>0.217544</td>\n",
              "      <td>0.217544</td>\n",
              "      <td>0.256140</td>\n",
              "      <td>0.284211</td>\n",
              "      <td>0.294737</td>\n",
              "      <td>0.301754</td>\n",
              "      <td>0.301754</td>\n",
              "      <td>0.322807</td>\n",
              "      <td>...</td>\n",
              "      <td>0.0</td>\n",
              "      <td>0.0</td>\n",
              "      <td>0.0</td>\n",
              "      <td>0.0</td>\n",
              "      <td>0.0</td>\n",
              "      <td>0.0</td>\n",
              "      <td>0.0</td>\n",
              "      <td>0.0</td>\n",
              "      <td>0.0</td>\n",
              "      <td>0.0</td>\n",
              "      <td>0.0</td>\n",
              "      <td>0.0</td>\n",
              "      <td>0.0</td>\n",
              "      <td>0.0</td>\n",
              "      <td>0.0</td>\n",
              "      <td>0.0</td>\n",
              "      <td>0.0</td>\n",
              "      <td>0.0</td>\n",
              "      <td>0.0</td>\n",
              "      <td>0.0</td>\n",
              "      <td>0.0</td>\n",
              "      <td>0.0</td>\n",
              "      <td>0.0</td>\n",
              "      <td>0.0</td>\n",
              "      <td>0.0</td>\n",
              "      <td>0.0</td>\n",
              "      <td>0.0</td>\n",
              "      <td>0.0</td>\n",
              "      <td>0.0</td>\n",
              "      <td>0.0</td>\n",
              "      <td>0.0</td>\n",
              "      <td>0.0</td>\n",
              "      <td>0.0</td>\n",
              "      <td>0.0</td>\n",
              "      <td>0.0</td>\n",
              "      <td>0.0</td>\n",
              "      <td>0.0</td>\n",
              "      <td>0.0</td>\n",
              "      <td>0.0</td>\n",
              "      <td>4.0</td>\n",
              "    </tr>\n",
              "    <tr>\n",
              "      <th>87548</th>\n",
              "      <td>0.718333</td>\n",
              "      <td>0.605000</td>\n",
              "      <td>0.486667</td>\n",
              "      <td>0.361667</td>\n",
              "      <td>0.231667</td>\n",
              "      <td>0.120000</td>\n",
              "      <td>0.051667</td>\n",
              "      <td>0.001667</td>\n",
              "      <td>0.000000</td>\n",
              "      <td>0.013333</td>\n",
              "      <td>0.078333</td>\n",
              "      <td>0.183333</td>\n",
              "      <td>0.275000</td>\n",
              "      <td>0.315000</td>\n",
              "      <td>0.361667</td>\n",
              "      <td>0.430000</td>\n",
              "      <td>0.481667</td>\n",
              "      <td>0.526667</td>\n",
              "      <td>0.543333</td>\n",
              "      <td>0.563333</td>\n",
              "      <td>0.581667</td>\n",
              "      <td>0.588333</td>\n",
              "      <td>0.600000</td>\n",
              "      <td>0.603333</td>\n",
              "      <td>0.613333</td>\n",
              "      <td>0.621667</td>\n",
              "      <td>0.636667</td>\n",
              "      <td>0.651667</td>\n",
              "      <td>0.665000</td>\n",
              "      <td>0.681667</td>\n",
              "      <td>0.700000</td>\n",
              "      <td>0.711667</td>\n",
              "      <td>0.735000</td>\n",
              "      <td>0.763333</td>\n",
              "      <td>0.785000</td>\n",
              "      <td>0.810000</td>\n",
              "      <td>0.835000</td>\n",
              "      <td>0.856667</td>\n",
              "      <td>0.876667</td>\n",
              "      <td>0.880000</td>\n",
              "      <td>...</td>\n",
              "      <td>0.0</td>\n",
              "      <td>0.0</td>\n",
              "      <td>0.0</td>\n",
              "      <td>0.0</td>\n",
              "      <td>0.0</td>\n",
              "      <td>0.0</td>\n",
              "      <td>0.0</td>\n",
              "      <td>0.0</td>\n",
              "      <td>0.0</td>\n",
              "      <td>0.0</td>\n",
              "      <td>0.0</td>\n",
              "      <td>0.0</td>\n",
              "      <td>0.0</td>\n",
              "      <td>0.0</td>\n",
              "      <td>0.0</td>\n",
              "      <td>0.0</td>\n",
              "      <td>0.0</td>\n",
              "      <td>0.0</td>\n",
              "      <td>0.0</td>\n",
              "      <td>0.0</td>\n",
              "      <td>0.0</td>\n",
              "      <td>0.0</td>\n",
              "      <td>0.0</td>\n",
              "      <td>0.0</td>\n",
              "      <td>0.0</td>\n",
              "      <td>0.0</td>\n",
              "      <td>0.0</td>\n",
              "      <td>0.0</td>\n",
              "      <td>0.0</td>\n",
              "      <td>0.0</td>\n",
              "      <td>0.0</td>\n",
              "      <td>0.0</td>\n",
              "      <td>0.0</td>\n",
              "      <td>0.0</td>\n",
              "      <td>0.0</td>\n",
              "      <td>0.0</td>\n",
              "      <td>0.0</td>\n",
              "      <td>0.0</td>\n",
              "      <td>0.0</td>\n",
              "      <td>4.0</td>\n",
              "    </tr>\n",
              "    <tr>\n",
              "      <th>87549</th>\n",
              "      <td>0.906122</td>\n",
              "      <td>0.624490</td>\n",
              "      <td>0.595918</td>\n",
              "      <td>0.575510</td>\n",
              "      <td>0.530612</td>\n",
              "      <td>0.481633</td>\n",
              "      <td>0.444898</td>\n",
              "      <td>0.387755</td>\n",
              "      <td>0.322449</td>\n",
              "      <td>0.191837</td>\n",
              "      <td>0.097959</td>\n",
              "      <td>0.048980</td>\n",
              "      <td>0.036735</td>\n",
              "      <td>0.053061</td>\n",
              "      <td>0.053061</td>\n",
              "      <td>0.097959</td>\n",
              "      <td>0.183673</td>\n",
              "      <td>0.269388</td>\n",
              "      <td>0.351020</td>\n",
              "      <td>0.408163</td>\n",
              "      <td>0.436735</td>\n",
              "      <td>0.469388</td>\n",
              "      <td>0.481633</td>\n",
              "      <td>0.518367</td>\n",
              "      <td>0.530612</td>\n",
              "      <td>0.534694</td>\n",
              "      <td>0.555102</td>\n",
              "      <td>0.591837</td>\n",
              "      <td>0.628571</td>\n",
              "      <td>0.632653</td>\n",
              "      <td>0.624490</td>\n",
              "      <td>0.616327</td>\n",
              "      <td>0.616327</td>\n",
              "      <td>0.608163</td>\n",
              "      <td>0.608163</td>\n",
              "      <td>0.620408</td>\n",
              "      <td>0.628571</td>\n",
              "      <td>0.624490</td>\n",
              "      <td>0.632653</td>\n",
              "      <td>0.644898</td>\n",
              "      <td>...</td>\n",
              "      <td>0.0</td>\n",
              "      <td>0.0</td>\n",
              "      <td>0.0</td>\n",
              "      <td>0.0</td>\n",
              "      <td>0.0</td>\n",
              "      <td>0.0</td>\n",
              "      <td>0.0</td>\n",
              "      <td>0.0</td>\n",
              "      <td>0.0</td>\n",
              "      <td>0.0</td>\n",
              "      <td>0.0</td>\n",
              "      <td>0.0</td>\n",
              "      <td>0.0</td>\n",
              "      <td>0.0</td>\n",
              "      <td>0.0</td>\n",
              "      <td>0.0</td>\n",
              "      <td>0.0</td>\n",
              "      <td>0.0</td>\n",
              "      <td>0.0</td>\n",
              "      <td>0.0</td>\n",
              "      <td>0.0</td>\n",
              "      <td>0.0</td>\n",
              "      <td>0.0</td>\n",
              "      <td>0.0</td>\n",
              "      <td>0.0</td>\n",
              "      <td>0.0</td>\n",
              "      <td>0.0</td>\n",
              "      <td>0.0</td>\n",
              "      <td>0.0</td>\n",
              "      <td>0.0</td>\n",
              "      <td>0.0</td>\n",
              "      <td>0.0</td>\n",
              "      <td>0.0</td>\n",
              "      <td>0.0</td>\n",
              "      <td>0.0</td>\n",
              "      <td>0.0</td>\n",
              "      <td>0.0</td>\n",
              "      <td>0.0</td>\n",
              "      <td>0.0</td>\n",
              "      <td>4.0</td>\n",
              "    </tr>\n",
              "    <tr>\n",
              "      <th>87550</th>\n",
              "      <td>0.858228</td>\n",
              "      <td>0.645570</td>\n",
              "      <td>0.845570</td>\n",
              "      <td>0.248101</td>\n",
              "      <td>0.167089</td>\n",
              "      <td>0.131646</td>\n",
              "      <td>0.121519</td>\n",
              "      <td>0.121519</td>\n",
              "      <td>0.118987</td>\n",
              "      <td>0.103797</td>\n",
              "      <td>0.101266</td>\n",
              "      <td>0.101266</td>\n",
              "      <td>0.088608</td>\n",
              "      <td>0.081013</td>\n",
              "      <td>0.073418</td>\n",
              "      <td>0.065823</td>\n",
              "      <td>0.065823</td>\n",
              "      <td>0.053165</td>\n",
              "      <td>0.048101</td>\n",
              "      <td>0.037975</td>\n",
              "      <td>0.035443</td>\n",
              "      <td>0.025316</td>\n",
              "      <td>0.020253</td>\n",
              "      <td>0.020253</td>\n",
              "      <td>0.017722</td>\n",
              "      <td>0.002532</td>\n",
              "      <td>0.005063</td>\n",
              "      <td>0.007595</td>\n",
              "      <td>0.000000</td>\n",
              "      <td>0.010127</td>\n",
              "      <td>0.010127</td>\n",
              "      <td>0.015190</td>\n",
              "      <td>0.035443</td>\n",
              "      <td>0.040506</td>\n",
              "      <td>0.050633</td>\n",
              "      <td>0.058228</td>\n",
              "      <td>0.070886</td>\n",
              "      <td>0.086076</td>\n",
              "      <td>0.098734</td>\n",
              "      <td>0.106329</td>\n",
              "      <td>...</td>\n",
              "      <td>0.0</td>\n",
              "      <td>0.0</td>\n",
              "      <td>0.0</td>\n",
              "      <td>0.0</td>\n",
              "      <td>0.0</td>\n",
              "      <td>0.0</td>\n",
              "      <td>0.0</td>\n",
              "      <td>0.0</td>\n",
              "      <td>0.0</td>\n",
              "      <td>0.0</td>\n",
              "      <td>0.0</td>\n",
              "      <td>0.0</td>\n",
              "      <td>0.0</td>\n",
              "      <td>0.0</td>\n",
              "      <td>0.0</td>\n",
              "      <td>0.0</td>\n",
              "      <td>0.0</td>\n",
              "      <td>0.0</td>\n",
              "      <td>0.0</td>\n",
              "      <td>0.0</td>\n",
              "      <td>0.0</td>\n",
              "      <td>0.0</td>\n",
              "      <td>0.0</td>\n",
              "      <td>0.0</td>\n",
              "      <td>0.0</td>\n",
              "      <td>0.0</td>\n",
              "      <td>0.0</td>\n",
              "      <td>0.0</td>\n",
              "      <td>0.0</td>\n",
              "      <td>0.0</td>\n",
              "      <td>0.0</td>\n",
              "      <td>0.0</td>\n",
              "      <td>0.0</td>\n",
              "      <td>0.0</td>\n",
              "      <td>0.0</td>\n",
              "      <td>0.0</td>\n",
              "      <td>0.0</td>\n",
              "      <td>0.0</td>\n",
              "      <td>0.0</td>\n",
              "      <td>4.0</td>\n",
              "    </tr>\n",
              "    <tr>\n",
              "      <th>87551</th>\n",
              "      <td>0.901506</td>\n",
              "      <td>0.845886</td>\n",
              "      <td>0.800695</td>\n",
              "      <td>0.748552</td>\n",
              "      <td>0.687138</td>\n",
              "      <td>0.599073</td>\n",
              "      <td>0.512167</td>\n",
              "      <td>0.427578</td>\n",
              "      <td>0.395133</td>\n",
              "      <td>0.402086</td>\n",
              "      <td>0.370800</td>\n",
              "      <td>0.287370</td>\n",
              "      <td>0.236385</td>\n",
              "      <td>0.324450</td>\n",
              "      <td>0.403244</td>\n",
              "      <td>0.409038</td>\n",
              "      <td>0.407880</td>\n",
              "      <td>0.390498</td>\n",
              "      <td>0.390498</td>\n",
              "      <td>0.419467</td>\n",
              "      <td>0.443801</td>\n",
              "      <td>0.487833</td>\n",
              "      <td>0.544612</td>\n",
              "      <td>0.574739</td>\n",
              "      <td>0.582851</td>\n",
              "      <td>0.592121</td>\n",
              "      <td>0.601390</td>\n",
              "      <td>0.611819</td>\n",
              "      <td>0.624565</td>\n",
              "      <td>0.634994</td>\n",
              "      <td>0.650058</td>\n",
              "      <td>0.661645</td>\n",
              "      <td>0.677868</td>\n",
              "      <td>0.691773</td>\n",
              "      <td>0.712630</td>\n",
              "      <td>0.726535</td>\n",
              "      <td>0.741599</td>\n",
              "      <td>0.749710</td>\n",
              "      <td>0.761298</td>\n",
              "      <td>0.763615</td>\n",
              "      <td>...</td>\n",
              "      <td>0.0</td>\n",
              "      <td>0.0</td>\n",
              "      <td>0.0</td>\n",
              "      <td>0.0</td>\n",
              "      <td>0.0</td>\n",
              "      <td>0.0</td>\n",
              "      <td>0.0</td>\n",
              "      <td>0.0</td>\n",
              "      <td>0.0</td>\n",
              "      <td>0.0</td>\n",
              "      <td>0.0</td>\n",
              "      <td>0.0</td>\n",
              "      <td>0.0</td>\n",
              "      <td>0.0</td>\n",
              "      <td>0.0</td>\n",
              "      <td>0.0</td>\n",
              "      <td>0.0</td>\n",
              "      <td>0.0</td>\n",
              "      <td>0.0</td>\n",
              "      <td>0.0</td>\n",
              "      <td>0.0</td>\n",
              "      <td>0.0</td>\n",
              "      <td>0.0</td>\n",
              "      <td>0.0</td>\n",
              "      <td>0.0</td>\n",
              "      <td>0.0</td>\n",
              "      <td>0.0</td>\n",
              "      <td>0.0</td>\n",
              "      <td>0.0</td>\n",
              "      <td>0.0</td>\n",
              "      <td>0.0</td>\n",
              "      <td>0.0</td>\n",
              "      <td>0.0</td>\n",
              "      <td>0.0</td>\n",
              "      <td>0.0</td>\n",
              "      <td>0.0</td>\n",
              "      <td>0.0</td>\n",
              "      <td>0.0</td>\n",
              "      <td>0.0</td>\n",
              "      <td>4.0</td>\n",
              "    </tr>\n",
              "  </tbody>\n",
              "</table>\n",
              "<p>87552 rows × 188 columns</p>\n",
              "</div>"
            ],
            "text/plain": [
              "       9.601139426231384277e-01  ...  0.000000000000000000e+00.52\n",
              "0                      1.000000  ...                          0.0\n",
              "1                      0.925414  ...                          0.0\n",
              "2                      0.967136  ...                          0.0\n",
              "3                      0.927461  ...                          0.0\n",
              "4                      0.423611  ...                          0.0\n",
              "...                         ...  ...                          ...\n",
              "87547                  0.807018  ...                          4.0\n",
              "87548                  0.718333  ...                          4.0\n",
              "87549                  0.906122  ...                          4.0\n",
              "87550                  0.858228  ...                          4.0\n",
              "87551                  0.901506  ...                          4.0\n",
              "\n",
              "[87552 rows x 188 columns]"
            ]
          },
          "execution_count": 14,
          "metadata": {
            "tags": []
          },
          "output_type": "execute_result"
        }
      ]
    },
    {
      "cell_type": "markdown",
      "metadata": {
        "id": "99qSNNULSQu0"
      },
      "source": [
        "Let's check your code. You may be able to pass the following tests if the data is loaded correctly."
      ]
    },
    {
      "cell_type": "code",
      "metadata": {
        "colab": {
          "base_uri": "https://localhost:8080/"
        },
        "id": "3QLwsV-BSQu0",
        "outputId": "65ea1f53-1eee-47d0-c482-efd5bad366c4"
      },
      "source": [
        "\n",
        "assert data_train.shape == (87554, 187)\n",
        "assert labels_train.shape == (87554,)\n",
        "assert len (labels_train[labels_train == 4]) == 6431\n",
        "assert data_test.shape == (21892, 187)\n",
        "assert labels_test.shape == (21892,)\n",
        "\n",
        "assert data_train.dtype == np.float32\n",
        "assert labels_train.dtype == np.int64\n",
        "assert data_test.dtype  == np.float32\n",
        "assert labels_test.dtype  == np.int64\n",
        "print (\"Test passed\")"
      ],
      "execution_count": null,
      "outputs": [
        {
          "name": "stdout",
          "output_type": "stream",
          "text": [
            "Test passed\n"
          ]
        }
      ]
    },
    {
      "cell_type": "markdown",
      "metadata": {
        "id": "XMSnAXlYSQu0"
      },
      "source": [
        "Now let's see an example of the signals in the dataset. By running the code bellow you should be able to see a graph containing two plots with labels 1 and 4."
      ]
    },
    {
      "cell_type": "code",
      "metadata": {
        "colab": {
          "base_uri": "https://localhost:8080/",
          "height": 279
        },
        "id": "uqHvy543SQu1",
        "outputId": "5aa03646-bd73-4413-ad79-abba57a8e498"
      },
      "source": [
        "t = np.linspace (0,(187/125)*1000, 187)\n",
        "plt.plot (t,data_train[labels_train == 1][0] , label = f\"label:{labels_train[labels_train == 1][0]}\")\n",
        "plt.plot (t,data_train[labels_train == 4][0] , label = f\"label:{labels_train[labels_train == 4][0]}\")\n",
        "plt.legend()\n",
        "plt.xlabel(\"time (ms)\")\n",
        "plt.show()"
      ],
      "execution_count": null,
      "outputs": [
        {
          "data": {
            "image/png": "[encoded data removed]",
            "text/plain": [
              "<Figure size 432x288 with 1 Axes>"
            ]
          },
          "metadata": {
            "tags": []
          },
          "output_type": "display_data"
        }
      ]
    },
    {
      "cell_type": "markdown",
      "metadata": {
        "id": "6cYl6SFb5LK_"
      },
      "source": [
        "# Create Custom Dataset (3 points)\n",
        "You need to create your custom dataset so you can define a dataloader to use in the train and test phase. Your class must implement init, getitem and len methods."
      ]
    },
    {
      "cell_type": "code",
      "metadata": {
        "id": "Q74ZiMGXv_iU"
      },
      "source": [
        "class HeartbeatDataset(Dataset):\n",
        "  #تغییر#\n",
        "    \n",
        "    def __init__(self, data, labels):\n",
        "        # ========================= Place Your Code Here ========================= #\n",
        "        self.LB = labels\n",
        "        self.Train_LB = data\n",
        "        # ======================================================================== #\n",
        "        \n",
        "    def __getitem__(self, index):\n",
        "        # ========================= Place Your Code Here ========================= #\n",
        "        t,l=self.Train_LB[index], self.LB[index]\n",
        "        return t,l\n",
        "        # ======================================================================== #        \n",
        "         \n",
        "    def __len__(self):\n",
        "        # ========================= Place Your Code Here ========================= #\n",
        "        return len(self.Train_LB)\n",
        "        # ======================================================================== #                \n",
        "\n",
        "\n",
        "batch_size = 64\n",
        "\n",
        "train_set = HeartbeatDataset(data_train, labels_train)\n",
        "train_loader = DataLoader(dataset=train_set,\n",
        "                          batch_size=batch_size,\n",
        "                          shuffle=True)\n",
        "\n",
        "test_set = HeartbeatDataset(data_test, labels_test)\n",
        "test_loader = DataLoader(dataset=test_set,\n",
        "                        batch_size=batch_size,\n",
        "                         shuffle=True)\n",
        "\n"
      ],
      "execution_count": null,
      "outputs": []
    },
    {
      "cell_type": "markdown",
      "metadata": {
        "id": "4VgRwgRoSQu2"
      },
      "source": [
        "Make sure that the following test passes."
      ]
    },
    {
      "cell_type": "code",
      "metadata": {
        "colab": {
          "base_uri": "https://localhost:8080/"
        },
        "id": "7a1OBg0fSQu2",
        "outputId": "8645bb5a-9dd7-457b-d92f-32d619e7e6ee"
      },
      "source": [
        "assert len (train_set) == 87554\n",
        "assert len (test_set) == 21892\n",
        "(batch_data, batch_label) = next (iter (train_loader))\n",
        "assert batch_data.shape == (batch_size, 187)\n",
        "assert batch_label.shape == (batch_size,)\n",
        "print (\"passed\")"
      ],
      "execution_count": null,
      "outputs": [
        {
          "name": "stdout",
          "output_type": "stream",
          "text": [
            "passed\n"
          ]
        }
      ]
    },
    {
      "cell_type": "markdown",
      "metadata": {
        "id": "1rTFtUpfSQu2"
      },
      "source": [
        "In this part we will find the number of samples in each class. We are going to need this in next sections."
      ]
    },
    {
      "cell_type": "code",
      "metadata": {
        "colab": {
          "base_uri": "https://localhost:8080/"
        },
        "id": "zWmDSRw5z3mR",
        "outputId": "edd15372-ba19-4cd4-9d3a-2d23cd1ebf25"
      },
      "source": [
        "num_classes = 5\n",
        "class_samples_num = [0 for i in range(num_classes)]\n",
        "for data in train_loader:\n",
        "    inputs, labels = data        \n",
        "    for i in labels:\n",
        "        class_samples_num[i] += 1\n",
        "\n",
        "print(class_samples_num)"
      ],
      "execution_count": null,
      "outputs": [
        {
          "name": "stdout",
          "output_type": "stream",
          "text": [
            "[72471, 2223, 5788, 641, 6431]\n"
          ]
        }
      ]
    },
    {
      "cell_type": "markdown",
      "metadata": {
        "id": "k84-xDUs6j02"
      },
      "source": [
        "# Create LSTM Classifier (8 points)\n",
        "Now you are ready to implement your LSTM neural network which inherits from nn.Module. The structure of the network must be as follows:\n",
        "\n",
        "  (lstm): LSTM(1, 64, batch_first=True)<br>\n",
        "  (fc1): Linear(in_features=64, out_features=32, bias=True)<br>\n",
        "  (relu): ReLU()<br>\n",
        "  (fc2): Linear(in_features=32, out_features=5, bias=True)<br>\n",
        "\n",
        "At each step the value of signal is given as input to the LSTM block. The hidden state and cell state get updated. Finally the output is computed by two fully connected on top of hidden states with a softmax layer at the end.\n",
        "\n",
        "Attention: Be carefull about tensor shapes, Dont forget to unsqueeze the input."
      ]
    },
    {
      "cell_type": "code",
      "metadata": {
        "id": "MYCYQzmoBFmy"
      },
      "source": [
        "class LSTMClassifier(nn.Module):\n",
        "\n",
        "    def __init__(self):\n",
        "        super(LSTMClassifier, self).__init__() \n",
        "        # ========================= Place Your Code Here ========================= #\n",
        "        self.LSTM_RNN = nn.LSTM(1, 64, batch_first=True)\n",
        "        self.fully_connected_1= nn.Linear(in_features=64, out_features=32, bias=True)\n",
        "        self.Activation_function = nn.ReLU()\n",
        "        self.fully_connected_2= nn.Linear(in_features=32, out_features=5, bias=True)\n",
        "        self.SoftMax=nn.Softmax()\n",
        "        # ======================================================================== #   \n",
        "\n",
        "    def forward(self, x):\n",
        "        # ========================= Place Your Code Here ========================= #\n",
        "        temp=torch.unsqueeze(x,-1)\n",
        "        temp = self.LSTM_RNN(temp)[1][0][-1]\n",
        "        temp = self.Activation_function(self.fully_connected_1(temp))\n",
        "        output = self.fully_connected_2(temp)\n",
        "        return self.SoftMax(output)\n",
        "        # ======================================================================== #   \n"
      ],
      "execution_count": null,
      "outputs": []
    },
    {
      "cell_type": "code",
      "metadata": {
        "colab": {
          "base_uri": "https://localhost:8080/"
        },
        "id": "r07WaDsYSQu3",
        "outputId": "75d86b50-99c4-472f-eeb0-532356d2ed82"
      },
      "source": [
        "(batch_data, batch_label) = next (iter (train_loader))\n",
        "model = LSTMClassifier().to(device)\n",
        "output = model (batch_data.to(device)).cpu()\n",
        "assert output.shape == (batch_size, 5)\n",
        "print (\"passed\")"
      ],
      "execution_count": null,
      "outputs": [
        {
          "name": "stdout",
          "output_type": "stream",
          "text": [
            "passed\n"
          ]
        },
        {
          "name": "stderr",
          "output_type": "stream",
          "text": [
            "/usr/local/lib/python3.7/dist-packages/ipykernel_launcher.py:19: UserWarning: Implicit dimension choice for softmax has been deprecated. Change the call to include dim=X as an argument.\n"
          ]
        }
      ]
    },
    {
      "cell_type": "markdown",
      "metadata": {
        "id": "SB65oPgCSQu3"
      },
      "source": [
        "Now let's check if your output shape is correct:"
      ]
    },
    {
      "cell_type": "markdown",
      "metadata": {
        "id": "i7mM-W9l835A"
      },
      "source": [
        "# Define loss function and optimizer (2 points)\n",
        "Next you can instance a classifier, loss function and optimizer. Because of the imbalanced dataset, the model may tend to label the whole test data as \"normal\". So we must make the model pay more attention to the minor cases. There are different ways to do so. One of them is the upsampling technique in which we produce enough samples for all categories, by resampling from the present data. Another way is to weight loss of each sample proportional to inverse of its caregory's number of samples. So weights of samples of each category sum to one, and the model pays equal attention to all categories. We are going to use this technique by providing the CrossEntropyLoss loss function an array of weights (You can also use other techniques like upsampling). Make sure to visit the [PyTorch page](https://pytorch.org/docs/stable/generated/torch.nn.CrossEntropyLoss.html) on cross entropy loss. "
      ]
    },
    {
      "cell_type": "code",
      "metadata": {
        "id": "VgiXWDO5U3XV"
      },
      "source": [
        "lstm_classifier = LSTMClassifier()\n",
        "lstm_classifier.to(device)\n",
        "\n",
        "def get_loss_weights(class_samples_num):\n",
        "    # ========================= Place Your Code Here ========================= #\n",
        "    temp=[]\n",
        "    for i in range(len(class_samples_num)):\n",
        "      temp.append(1/(class_samples_num[i]))\n",
        "    loss_weight = torch.tensor(temp)\n",
        "    loss_weight = loss_weight.type(torch.FloatTensor)   \n",
        "    return loss_weight\n",
        "    # ======================================================================== #   \n",
        "criterion = nn.CrossEntropyLoss(weight=get_loss_weights(class_samples_num))\n",
        "criterion.to(device)\n",
        "optimizer = torch.optim.Adam(lstm_classifier.parameters() , lr=1e-3)"
      ],
      "execution_count": null,
      "outputs": []
    },
    {
      "cell_type": "code",
      "metadata": {
        "colab": {
          "base_uri": "https://localhost:8080/"
        },
        "id": "snKRe7beSQu4",
        "outputId": "761311f8-a3bf-42af-cfb8-5307713b9d41"
      },
      "source": [
        "data , label = next(iter(train_loader))\n",
        "output = lstm_classifier(data.to(device))\n",
        "\n",
        "assert output.shape == (batch_size, 5) "
      ],
      "execution_count": null,
      "outputs": [
        {
          "name": "stderr",
          "output_type": "stream",
          "text": [
            "/usr/local/lib/python3.7/dist-packages/ipykernel_launcher.py:19: UserWarning: Implicit dimension choice for softmax has been deprecated. Change the call to include dim=X as an argument.\n"
          ]
        }
      ]
    },
    {
      "cell_type": "markdown",
      "metadata": {
        "id": "5VfHNXhf9QQj"
      },
      "source": [
        "# Train the classifier\n",
        "The following code runs the training phase using what you have build so far. It also feeds the test data to the model at each epoch without updating the weights, so we can study the loss on both training and test data during the training phase by plotting its diagram at the end. You are free to change the number of epochs to acheive the best soloution."
      ]
    },
    {
      "cell_type": "code",
      "metadata": {
        "colab": {
          "base_uri": "https://localhost:8080/",
          "height": 513
        },
        "id": "bgquaPZQRtCw",
        "outputId": "528da583-6ece-4c3d-abd5-c1a81da97cb7"
      },
      "source": [
        "# ========================= Place Your Code Here ========================= #\n",
        "epoch_num =100\n",
        "# ======================================================================== #   \n",
        "train_log = []\n",
        "test_log = []\n",
        "set_seed(111)\n",
        "for epoch in range(1, epoch_num+1):\n",
        "    \n",
        "    running_loss = 0    \n",
        "    train_loss = []\n",
        "    lstm_classifier.train()\n",
        "    for (inputs, labels) in tqdm(train_loader, desc='Training epoch ' + str(epoch), leave=False):        \n",
        "        inputs, labels = inputs.to(device), labels.to(device)        \n",
        "        optimizer.zero_grad()\n",
        "        outputs = lstm_classifier(inputs)\n",
        "        loss = criterion(outputs, labels)        \n",
        "        loss.backward()                \n",
        "        optimizer.step()        \n",
        "        train_loss.append(loss.item())\n",
        "    train_log.append(np.mean(train_loss))\n",
        "\n",
        "    running_loss = 0\n",
        "    test_loss = []\n",
        "    lstm_classifier.eval()\n",
        "    with torch.no_grad():                \n",
        "        for (inputs, labels) in tqdm(test_loader, desc='Test', leave=False):         \n",
        "            inputs, labels = inputs.to(device), labels.to(device)        \n",
        "            outputs = lstm_classifier(inputs)                       \n",
        "            loss = criterion(outputs, labels)            \n",
        "            test_loss.append(loss.item())\n",
        "    test_log.append(np.mean(test_loss))    \n",
        "    plt.plot(range(1, epoch+1), train_log, color='C0')\n",
        "    plt.plot(range(1, epoch+1), test_log, color='C1')\n",
        "    display.clear_output(wait=True)\n",
        "    display.display(plt.gcf())"
      ],
      "execution_count": null,
      "outputs": [
        {
          "data": {
            "image/png": "[encoded data removed]",
            "text/plain": [
              "<Figure size 432x288 with 1 Axes>"
            ]
          },
          "metadata": {
            "tags": []
          },
          "output_type": "display_data"
        },
        {
          "data": {
            "image/png": "[encoded data removed]",
            "text/plain": [
              "<Figure size 432x288 with 1 Axes>"
            ]
          },
          "metadata": {
            "tags": []
          },
          "output_type": "display_data"
        }
      ]
    },
    {
      "cell_type": "markdown",
      "metadata": {
        "id": "SCdYMdlf9yhv"
      },
      "source": [
        "# Test the classifier\n",
        "The following code runs the LSTM classifier on test data and reports the [classification report](https://scikit-learn.org/stable/modules/generated/sklearn.metrics.classification_report.html). It also reports the [ROC AUC score](https://scikit-learn.org/stable/modules/generated/sklearn.metrics.roc_auc_score.html) which shows us how much we have succeeded in handling the imbalanced data. The ROC AUC score is the evaluation criterion of your model. ROC AUC score and accuracy of more than 0.9 are achievable by the model. You are supposed to achieve ROC AUC score and accuracy of at least 0.8."
      ]
    },
    {
      "cell_type": "code",
      "metadata": {
        "colab": {
          "base_uri": "https://localhost:8080/",
          "height": 329,
          "referenced_widgets": [
            "1ac606f13272485a8a17a0ca5fee9f91",
            "ab72005701cf45f5a38caf3ce50ea847",
            "e5551021b7c24fe5b67e28718d1207aa",
            "96f5a97030504e529be643ca9c9adb5d",
            "2513521786e048a583f3b5777dc39499",
            "123cd9368d9e4dfdb254d15c13f9a80e",
            "6d47a4c030874ab491c83eced136202a",
            "1e7adda5cefd4c3d9dfb155501216aed"
          ]
        },
        "id": "VYymO6cwR3tS",
        "scrolled": true,
        "outputId": "14d35542-3743-4aa3-8aed-f27193260ce8"
      },
      "source": [
        "y_true = []\n",
        "y_pred = []\n",
        "with torch.no_grad():\n",
        "    lstm_classifier.eval()\n",
        "    for (inputs, labels) in tqdm(test_loader, desc='Test'):         \n",
        "        inputs, labels = inputs.to(device), labels.to(device)        \n",
        "        outputs = lstm_classifier(inputs)                       \n",
        "        y_true += torch.eye(num_classes)[labels].tolist()\n",
        "        y_pred += outputs.tolist()\n",
        "y_true = np.array(y_true)\n",
        "y_pred = np.array(y_pred)\n",
        "print('ROC_AUC Score:', roc_auc_score(y_true, y_pred))\n",
        "print(classification_report(y_true.argmax(axis=1), y_pred.argmax(axis=1)))"
      ],
      "execution_count": null,
      "outputs": [
        {
          "data": {
            "application/vnd.jupyter.widget-view+json": {
              "model_id": "1ac606f13272485a8a17a0ca5fee9f91",
              "version_major": 2,
              "version_minor": 0
            },
            "text/plain": [
              "HBox(children=(FloatProgress(value=0.0, description='Test', max=343.0, style=ProgressStyle(description_width='…"
            ]
          },
          "metadata": {
            "tags": []
          },
          "output_type": "display_data"
        },
        {
          "name": "stderr",
          "output_type": "stream",
          "text": [
            "/usr/local/lib/python3.7/dist-packages/ipykernel_launcher.py:19: UserWarning: Implicit dimension choice for softmax has been deprecated. Change the call to include dim=X as an argument.\n"
          ]
        },
        {
          "name": "stdout",
          "output_type": "stream",
          "text": [
            "\n",
            "ROC_AUC Score: 0.9176364114189477\n",
            "              precision    recall  f1-score   support\n",
            "\n",
            "           0       0.98      0.77      0.86     18118\n",
            "           1       0.21      0.59      0.31       556\n",
            "           2       0.49      0.90      0.64      1448\n",
            "           3       0.11      0.87      0.20       162\n",
            "           4       0.66      0.91      0.77      1608\n",
            "\n",
            "    accuracy                           0.79     21892\n",
            "   macro avg       0.49      0.81      0.56     21892\n",
            "weighted avg       0.90      0.79      0.82     21892\n",
            "\n"
          ]
        }
      ]
    },
    {
      "cell_type": "markdown",
      "metadata": {
        "id": "1slffGSTSQu5"
      },
      "source": [
        "# Create Convolutional Classifier (8 points)\n",
        "Next we are going to assemble a convolution neural netwok. Use the following blocks: <br>\n",
        "  (conv1): Conv1d(cin = 1, cout = 64, kernel size = 19)<br>\n",
        "  (fc1): Linear(in_features=64*187, out_features=32, bias=True)<br>\n",
        "  (relu): ReLU()<br>\n",
        "  (fc2): Linear(in_features=32, out_features=5, bias=True)<br>\n",
        "\n",
        "  Again in the same way fill the placeholders and train the conv model.\n"
      ]
    },
    {
      "cell_type": "code",
      "metadata": {
        "id": "i179umysSQu5"
      },
      "source": [
        "class ConvClassifier(nn.Module):\n",
        "\n",
        "    def __init__(self):\n",
        "        super(ConvClassifier, self).__init__()\n",
        "        # ========================= Place Your Code Here ========================= #\n",
        "        self.Convolution_1 = nn.Conv1d(1,64, kernel_size=19,padding=9)\n",
        "        self.Fully_Con_1 = nn.Linear(64*187,32, bias=True)\n",
        "        self.Activ_funct=nn.ReLU(inplace=True)\n",
        "        self.Fully_Con_2 = nn.Linear(32,5, bias=True)\n",
        "        self.Soft_max=nn.Softmax()\n",
        "        # ======================================================================== #   \n",
        "\n",
        "    def forward(self, x):\n",
        "        # ========================= Place Your Code Here ========================= #\n",
        "        temp = x.unsqueeze(1)\n",
        "        temp = self.Convolution_1(temp)\n",
        "        temp = self.Fully_Con_1(temp.reshape(temp.shape[0],(temp.shape[1]*temp.shape[2])))\n",
        "        temp = self.Activ_funct(temp)\n",
        "        return self.Soft_max(self.Fully_Con_2(temp))\n",
        "        # ======================================================================== #           \n"
      ],
      "execution_count": null,
      "outputs": []
    },
    {
      "cell_type": "code",
      "metadata": {
        "id": "s1m2am0DSQu5"
      },
      "source": [
        "conv_classifier = ConvClassifier()\n",
        "conv_classifier.to(device)\n",
        "\n",
        "criterion = nn.CrossEntropyLoss(weight = get_loss_weights(class_samples_num))\n",
        "criterion.to(device)\n",
        "optimizer = torch.optim.Adam(conv_classifier.parameters())\n"
      ],
      "execution_count": null,
      "outputs": []
    },
    {
      "cell_type": "code",
      "metadata": {
        "colab": {
          "base_uri": "https://localhost:8080/"
        },
        "id": "B-hf75vUeOO4",
        "outputId": "b90e8d8a-ee3d-4eb2-8619-187cbc95eee8"
      },
      "source": [
        "data , label = next(iter(train_loader))\n",
        "output = conv_classifier(data.to(device))\n",
        "\n",
        "assert output.shape == (batch_size, 5) "
      ],
      "execution_count": null,
      "outputs": [
        {
          "name": "stderr",
          "output_type": "stream",
          "text": [
            "/usr/local/lib/python3.7/dist-packages/ipykernel_launcher.py:19: UserWarning: Implicit dimension choice for softmax has been deprecated. Change the call to include dim=X as an argument.\n"
          ]
        }
      ]
    },
    {
      "cell_type": "code",
      "metadata": {
        "colab": {
          "base_uri": "https://localhost:8080/",
          "height": 515
        },
        "id": "Yt4VoNlVewSJ",
        "outputId": "a964e0bc-97cb-4871-9e74-312a12d3e875"
      },
      "source": [
        "# ========================= Place Your Code Here ========================= #\n",
        "epoch_num = 30\n",
        "# ======================================================================== #   \n",
        "\n",
        "train_log = []\n",
        "test_log = []\n",
        "set_seed(111)\n",
        "for epoch in range(1, epoch_num+1):\n",
        "    \n",
        "    running_loss = 0    \n",
        "    train_loss = []\n",
        "    conv_classifier.train()\n",
        "    for (inputs, labels) in tqdm(train_loader, desc='Training epoch ' + str(epoch), leave=False):        \n",
        "        inputs, labels = inputs.to(device), labels.to(device)        \n",
        "        optimizer.zero_grad()\n",
        "        outputs = conv_classifier(inputs)          \n",
        "        loss = criterion(outputs, labels)        \n",
        "        loss.backward()                \n",
        "        optimizer.step()        \n",
        "        train_loss.append(loss.item())\n",
        "    train_log.append(np.mean(train_loss))\n",
        "\n",
        "    running_loss = 0\n",
        "    test_loss = []\n",
        "    conv_classifier.eval()\n",
        "    with torch.no_grad():                \n",
        "        for (inputs, labels) in tqdm(test_loader, desc='Test', leave=False):         \n",
        "            inputs, labels = inputs.to(device), labels.to(device)        \n",
        "            outputs = conv_classifier(inputs)                       \n",
        "            loss = criterion(outputs, labels)            \n",
        "            test_loss.append(loss.item())\n",
        "    test_log.append(np.mean(test_loss))    \n",
        "    plt.plot(range(1, epoch+1), train_log, color='C0')\n",
        "    plt.plot(range(1, epoch+1), test_log, color='C1')\n",
        "    display.clear_output(wait=True)\n",
        "    display.display(plt.gcf())"
      ],
      "execution_count": null,
      "outputs": [
        {
          "data": {
            "image/png": "[encoded data removed]",
            "text/plain": [
              "<Figure size 432x288 with 1 Axes>"
            ]
          },
          "metadata": {
            "tags": []
          },
          "output_type": "display_data"
        },
        {
          "data": {
            "image/png": "[encoded data removed]",
            "text/plain": [
              "<Figure size 432x288 with 1 Axes>"
            ]
          },
          "metadata": {
            "tags": []
          },
          "output_type": "display_data"
        }
      ]
    },
    {
      "cell_type": "code",
      "metadata": {
        "colab": {
          "base_uri": "https://localhost:8080/",
          "height": 329,
          "referenced_widgets": [
            "2fdbc5e061934ea2aff34ca7ee047f61",
            "b5aef8317a604784b13181136d9e9058",
            "4c7a1ab655b14f699e710bc5b2cd7f8d",
            "04d4c8bb3e71413ab3c9c0a5523254ab",
            "af71854a3ac840ee8ff453a4d47a350a",
            "68cbe38d65ff40d4b1a491049bb40790",
            "0ff3ab681606411e9ca391dc030b3752",
            "3270631ed6b446c1aec720532e34dd9c"
          ]
        },
        "id": "84eplxp1e5fR",
        "outputId": "444c26c8-732a-41b6-bc32-fda0614e8809"
      },
      "source": [
        "y_true = []\n",
        "y_pred = []\n",
        "with torch.no_grad():\n",
        "    conv_classifier.eval()\n",
        "    for (inputs, labels) in tqdm(test_loader, desc='Test'):         \n",
        "        inputs, labels = inputs.to(device), labels.to(device)        \n",
        "        outputs = conv_classifier(inputs)                       \n",
        "        y_true += torch.eye(num_classes)[labels].tolist()\n",
        "        y_pred += outputs.tolist()\n",
        "y_true = np.array(y_true)\n",
        "y_pred = np.array(y_pred)\n",
        "print('ROC_AUC Score:', roc_auc_score(y_true, y_pred))\n",
        "print(classification_report(y_true.argmax(axis=1), y_pred.argmax(axis=1)))"
      ],
      "execution_count": null,
      "outputs": [
        {
          "data": {
            "application/vnd.jupyter.widget-view+json": {
              "model_id": "2fdbc5e061934ea2aff34ca7ee047f61",
              "version_major": 2,
              "version_minor": 0
            },
            "text/plain": [
              "HBox(children=(FloatProgress(value=0.0, description='Test', max=343.0, style=ProgressStyle(description_width='…"
            ]
          },
          "metadata": {
            "tags": []
          },
          "output_type": "display_data"
        },
        {
          "name": "stderr",
          "output_type": "stream",
          "text": [
            "/usr/local/lib/python3.7/dist-packages/ipykernel_launcher.py:19: UserWarning: Implicit dimension choice for softmax has been deprecated. Change the call to include dim=X as an argument.\n"
          ]
        },
        {
          "name": "stdout",
          "output_type": "stream",
          "text": [
            "\n",
            "ROC_AUC Score: 0.9425292991576285\n",
            "              precision    recall  f1-score   support\n",
            "\n",
            "           0       0.99      0.87      0.93     18118\n",
            "           1       0.26      0.77      0.39       556\n",
            "           2       0.84      0.87      0.86      1448\n",
            "           3       0.16      0.88      0.27       162\n",
            "           4       0.83      0.97      0.89      1608\n",
            "\n",
            "    accuracy                           0.87     21892\n",
            "   macro avg       0.62      0.87      0.67     21892\n",
            "weighted avg       0.94      0.87      0.90     21892\n",
            "\n"
          ]
        }
      ]
    },
    {
      "cell_type": "markdown",
      "metadata": {
        "id": "_yNBdjJ3ffmO"
      },
      "source": [
        "# Comparing The Models (6 points)"
      ]
    },
    {
      "cell_type": "code",
      "metadata": {
        "id": "4w5biC6Ifc1h"
      },
      "source": [
        "def count_parameters(model): \n",
        "  return sum(p.numel() for p in model.parameters() if p.requires_grad)"
      ],
      "execution_count": null,
      "outputs": []
    },
    {
      "cell_type": "markdown",
      "metadata": {
        "id": "ttU4pCXViJgQ"
      },
      "source": [
        "Let's first compare the number of parameters:"
      ]
    },
    {
      "cell_type": "code",
      "metadata": {
        "colab": {
          "base_uri": "https://localhost:8080/"
        },
        "id": "iijk7xpeiI_l",
        "outputId": "c66a4c71-dc13-48e4-ec82-438dab5a4022"
      },
      "source": [
        "print (\"Parameters for lstm classifier=\" , count_parameters(lstm_classifier))"
      ],
      "execution_count": null,
      "outputs": [
        {
          "name": "stdout",
          "output_type": "stream",
          "text": [
            "Parameters for lstm classifier= 19397\n"
          ]
        }
      ]
    },
    {
      "cell_type": "code",
      "metadata": {
        "colab": {
          "base_uri": "https://localhost:8080/"
        },
        "id": "WvFBHA0_fSmA",
        "outputId": "e457fbd1-d346-48cb-a343-60d11101d799"
      },
      "source": [
        "print (\"Parameters for conv classifier=\" , count_parameters(conv_classifier))"
      ],
      "execution_count": null,
      "outputs": [
        {
          "name": "stdout",
          "output_type": "stream",
          "text": [
            "Parameters for conv classifier= 384453\n"
          ]
        }
      ]
    },
    {
      "cell_type": "markdown",
      "metadata": {
        "id": "6JFMXaL4-lRE"
      },
      "source": [
        "# Useful Links and Acknowledgements\n",
        "\n",
        "[An Effective LSTM Recurrent Network to Detect Arrhythmia on Imbalanced ECG Dataset](https://www.hindawi.com/journals/jhe/2019/6320651/)\n",
        "\n",
        "[Classify ECG Signals Using Long Short-Term Memory Networks\n",
        "](https://https://www.mathworks.com/help/signal/examples/classify-ecg-signals-using-long-short-term-memory-networks.html)\n",
        "\n",
        "[Sequence Models and Long-Short Term Memory Networks](https://https://pytorch.org/tutorials/beginner/nlp/sequence_models_tutorial.html)\n",
        "\n",
        "[LSTMs for Time Series in PyTorch](https://www.jessicayung.com/lstms-for-time-series-in-pytorch/)\n",
        "\n",
        "[ECG Heartbeat Classification: A Deep Transferable Representation\n",
        "](https://https://arxiv.org/abs/1805.00794)\n",
        "\n",
        "[MIT-BIH Arrhythmia Database](https://https://physionet.org/content/mitdb/1.0.0/)"
      ]
    },
    {
      "cell_type": "code",
      "metadata": {
        "id": "FJeo4RGmSQu6"
      },
      "source": [
        ""
      ],
      "execution_count": null,
      "outputs": []
    }
  ]
}