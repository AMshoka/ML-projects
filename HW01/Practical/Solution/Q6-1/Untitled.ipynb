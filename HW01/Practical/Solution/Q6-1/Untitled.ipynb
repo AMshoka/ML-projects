{
 "cells": [
  {
   "cell_type": "markdown",
   "metadata": {},
   "source": [
    "<div class=\"alert alert-info\">\n",
    "    <h2 align=\"center\">سوال پنج قسمت یک </h2>\n",
    "    <h3 align=\"center\">امیرحسین محمدی</h3>\n",
    "    <h3 align=\"center\">99101081</h3>\n",
    "</div>"
   ]
  },
  {
   "cell_type": "markdown",
   "metadata": {},
   "source": [
    "<h3 align=\"center\">فرخوانی کتابخانه مورد استفاده</h3>"
   ]
  },
  {
   "cell_type": "code",
   "execution_count": 6,
   "metadata": {},
   "outputs": [],
   "source": [
    "import numpy as np\n",
    "import pandas as pd\n",
    "import matplotlib.pyplot as plt"
   ]
  },
  {
   "cell_type": "markdown",
   "metadata": {},
   "source": [
    "<h3 align=\"center\">خواندن داده های آموزش </h3>"
   ]
  },
  {
   "cell_type": "code",
   "execution_count": 7,
   "metadata": {},
   "outputs": [
    {
     "name": "stdout",
     "output_type": "stream",
     "text": [
      "     age  gender     bmi  children smoker     region      charges\n",
      "0     19  female  27.900         0    yes  southwest  16884.92400\n",
      "1     18    male  33.770         1     no  southeast   1725.55230\n",
      "2     28    male  33.000         3     no  southeast   4449.46200\n",
      "3     33    male  22.705         0     no  northwest  21984.47061\n",
      "4     32    male  28.880         0     no  northwest   3866.85520\n",
      "..   ...     ...     ...       ...    ...        ...          ...\n",
      "995   39  female  23.275         3     no  northeast   7986.47525\n",
      "996   39  female  34.100         3     no  southwest   7418.52200\n",
      "997   63  female  36.850         0     no  southeast  13887.96850\n",
      "998   33  female  36.290         3     no  northeast   6551.75010\n",
      "999   36  female  26.885         0     no  northwest   5267.81815\n",
      "\n",
      "[1000 rows x 7 columns]\n"
     ]
    }
   ],
   "source": [
    "Train_Regression = pd.read_csv(\"train.csv\")\n",
    "print(Train_Regression) "
   ]
  },
  {
   "cell_type": "markdown",
   "metadata": {},
   "source": [
    "<h3 align=\"center\">خواندن داده های تست </h3>"
   ]
  },
  {
   "cell_type": "code",
   "execution_count": 8,
   "metadata": {},
   "outputs": [
    {
     "name": "stdout",
     "output_type": "stream",
     "text": [
      "     age  gender     bmi  children smoker     region      charges\n",
      "0     30    male  22.990         2    yes  northwest  17361.76610\n",
      "1     24    male  32.700         0    yes  southwest  34472.84100\n",
      "2     24    male  25.800         0     no  southwest   1972.95000\n",
      "3     48    male  29.600         0     no  southwest  21232.18226\n",
      "4     47    male  19.190         1     no  northeast   8627.54110\n",
      "..   ...     ...     ...       ...    ...        ...          ...\n",
      "145   52    male  32.775         3     no  northwest  11289.10925\n",
      "146   60    male  32.800         0    yes  southwest  52590.82939\n",
      "147   20  female  31.920         0     no  northwest   2261.56880\n",
      "148   55    male  21.500         1     no  southwest  10791.96000\n",
      "149   42    male  34.100         0     no  southwest   5979.73100\n",
      "\n",
      "[150 rows x 7 columns]\n"
     ]
    }
   ],
   "source": [
    "Test_Regression = pd.read_csv(\"test.csv\")\n",
    "print(Test_Regression) "
   ]
  },
  {
   "cell_type": "markdown",
   "metadata": {},
   "source": [
    "<h3 align=\"center\">مپ کردن داده های تست و آموزش بر اساس فرضیات مسئله </h3>"
   ]
  },
  {
   "cell_type": "code",
   "execution_count": 9,
   "metadata": {},
   "outputs": [],
   "source": [
    "def Map_Reform(Data_Frame):\n",
    "    mapping = {'male': 0, 'female': 1}\n",
    "    Data_Frame['gender'] = Data_Frame['gender'].map(mapping)\n",
    "    mapping = {'yes': 1, 'no': 0}\n",
    "    Data_Frame['smoker'] = Data_Frame['smoker'].map(mapping)\n",
    "    Data_Frame['age']=Data_Frame['age']**2\n",
    "    return Data_Frame"
   ]
  },
  {
   "cell_type": "code",
   "execution_count": 10,
   "metadata": {},
   "outputs": [
    {
     "data": {
      "text/html": [
       "<div>\n",
       "<style scoped>\n",
       "    .dataframe tbody tr th:only-of-type {\n",
       "        vertical-align: middle;\n",
       "    }\n",
       "\n",
       "    .dataframe tbody tr th {\n",
       "        vertical-align: top;\n",
       "    }\n",
       "\n",
       "    .dataframe thead th {\n",
       "        text-align: right;\n",
       "    }\n",
       "</style>\n",
       "<table border=\"1\" class=\"dataframe\">\n",
       "  <thead>\n",
       "    <tr style=\"text-align: right;\">\n",
       "      <th></th>\n",
       "      <th>age</th>\n",
       "      <th>gender</th>\n",
       "      <th>bmi</th>\n",
       "      <th>children</th>\n",
       "      <th>smoker</th>\n",
       "      <th>region</th>\n",
       "      <th>charges</th>\n",
       "    </tr>\n",
       "  </thead>\n",
       "  <tbody>\n",
       "    <tr>\n",
       "      <th>0</th>\n",
       "      <td>361</td>\n",
       "      <td>1</td>\n",
       "      <td>27.900</td>\n",
       "      <td>0</td>\n",
       "      <td>1</td>\n",
       "      <td>southwest</td>\n",
       "      <td>16884.92400</td>\n",
       "    </tr>\n",
       "    <tr>\n",
       "      <th>1</th>\n",
       "      <td>324</td>\n",
       "      <td>0</td>\n",
       "      <td>33.770</td>\n",
       "      <td>1</td>\n",
       "      <td>0</td>\n",
       "      <td>southeast</td>\n",
       "      <td>1725.55230</td>\n",
       "    </tr>\n",
       "    <tr>\n",
       "      <th>2</th>\n",
       "      <td>784</td>\n",
       "      <td>0</td>\n",
       "      <td>33.000</td>\n",
       "      <td>3</td>\n",
       "      <td>0</td>\n",
       "      <td>southeast</td>\n",
       "      <td>4449.46200</td>\n",
       "    </tr>\n",
       "    <tr>\n",
       "      <th>3</th>\n",
       "      <td>1089</td>\n",
       "      <td>0</td>\n",
       "      <td>22.705</td>\n",
       "      <td>0</td>\n",
       "      <td>0</td>\n",
       "      <td>northwest</td>\n",
       "      <td>21984.47061</td>\n",
       "    </tr>\n",
       "    <tr>\n",
       "      <th>4</th>\n",
       "      <td>1024</td>\n",
       "      <td>0</td>\n",
       "      <td>28.880</td>\n",
       "      <td>0</td>\n",
       "      <td>0</td>\n",
       "      <td>northwest</td>\n",
       "      <td>3866.85520</td>\n",
       "    </tr>\n",
       "    <tr>\n",
       "      <th>...</th>\n",
       "      <td>...</td>\n",
       "      <td>...</td>\n",
       "      <td>...</td>\n",
       "      <td>...</td>\n",
       "      <td>...</td>\n",
       "      <td>...</td>\n",
       "      <td>...</td>\n",
       "    </tr>\n",
       "    <tr>\n",
       "      <th>995</th>\n",
       "      <td>1521</td>\n",
       "      <td>1</td>\n",
       "      <td>23.275</td>\n",
       "      <td>3</td>\n",
       "      <td>0</td>\n",
       "      <td>northeast</td>\n",
       "      <td>7986.47525</td>\n",
       "    </tr>\n",
       "    <tr>\n",
       "      <th>996</th>\n",
       "      <td>1521</td>\n",
       "      <td>1</td>\n",
       "      <td>34.100</td>\n",
       "      <td>3</td>\n",
       "      <td>0</td>\n",
       "      <td>southwest</td>\n",
       "      <td>7418.52200</td>\n",
       "    </tr>\n",
       "    <tr>\n",
       "      <th>997</th>\n",
       "      <td>3969</td>\n",
       "      <td>1</td>\n",
       "      <td>36.850</td>\n",
       "      <td>0</td>\n",
       "      <td>0</td>\n",
       "      <td>southeast</td>\n",
       "      <td>13887.96850</td>\n",
       "    </tr>\n",
       "    <tr>\n",
       "      <th>998</th>\n",
       "      <td>1089</td>\n",
       "      <td>1</td>\n",
       "      <td>36.290</td>\n",
       "      <td>3</td>\n",
       "      <td>0</td>\n",
       "      <td>northeast</td>\n",
       "      <td>6551.75010</td>\n",
       "    </tr>\n",
       "    <tr>\n",
       "      <th>999</th>\n",
       "      <td>1296</td>\n",
       "      <td>1</td>\n",
       "      <td>26.885</td>\n",
       "      <td>0</td>\n",
       "      <td>0</td>\n",
       "      <td>northwest</td>\n",
       "      <td>5267.81815</td>\n",
       "    </tr>\n",
       "  </tbody>\n",
       "</table>\n",
       "<p>1000 rows × 7 columns</p>\n",
       "</div>"
      ],
      "text/plain": [
       "      age  gender     bmi  children  smoker     region      charges\n",
       "0     361       1  27.900         0       1  southwest  16884.92400\n",
       "1     324       0  33.770         1       0  southeast   1725.55230\n",
       "2     784       0  33.000         3       0  southeast   4449.46200\n",
       "3    1089       0  22.705         0       0  northwest  21984.47061\n",
       "4    1024       0  28.880         0       0  northwest   3866.85520\n",
       "..    ...     ...     ...       ...     ...        ...          ...\n",
       "995  1521       1  23.275         3       0  northeast   7986.47525\n",
       "996  1521       1  34.100         3       0  southwest   7418.52200\n",
       "997  3969       1  36.850         0       0  southeast  13887.96850\n",
       "998  1089       1  36.290         3       0  northeast   6551.75010\n",
       "999  1296       1  26.885         0       0  northwest   5267.81815\n",
       "\n",
       "[1000 rows x 7 columns]"
      ]
     },
     "execution_count": 10,
     "metadata": {},
     "output_type": "execute_result"
    }
   ],
   "source": [
    "Train_Regression = Map_Reform(Train_Regression)\n",
    "Train_Regression"
   ]
  },
  {
   "cell_type": "code",
   "execution_count": 11,
   "metadata": {},
   "outputs": [
    {
     "data": {
      "text/html": [
       "<div>\n",
       "<style scoped>\n",
       "    .dataframe tbody tr th:only-of-type {\n",
       "        vertical-align: middle;\n",
       "    }\n",
       "\n",
       "    .dataframe tbody tr th {\n",
       "        vertical-align: top;\n",
       "    }\n",
       "\n",
       "    .dataframe thead th {\n",
       "        text-align: right;\n",
       "    }\n",
       "</style>\n",
       "<table border=\"1\" class=\"dataframe\">\n",
       "  <thead>\n",
       "    <tr style=\"text-align: right;\">\n",
       "      <th></th>\n",
       "      <th>age</th>\n",
       "      <th>gender</th>\n",
       "      <th>bmi</th>\n",
       "      <th>children</th>\n",
       "      <th>smoker</th>\n",
       "      <th>region</th>\n",
       "      <th>charges</th>\n",
       "    </tr>\n",
       "  </thead>\n",
       "  <tbody>\n",
       "    <tr>\n",
       "      <th>0</th>\n",
       "      <td>900</td>\n",
       "      <td>0</td>\n",
       "      <td>22.990</td>\n",
       "      <td>2</td>\n",
       "      <td>1</td>\n",
       "      <td>northwest</td>\n",
       "      <td>17361.76610</td>\n",
       "    </tr>\n",
       "    <tr>\n",
       "      <th>1</th>\n",
       "      <td>576</td>\n",
       "      <td>0</td>\n",
       "      <td>32.700</td>\n",
       "      <td>0</td>\n",
       "      <td>1</td>\n",
       "      <td>southwest</td>\n",
       "      <td>34472.84100</td>\n",
       "    </tr>\n",
       "    <tr>\n",
       "      <th>2</th>\n",
       "      <td>576</td>\n",
       "      <td>0</td>\n",
       "      <td>25.800</td>\n",
       "      <td>0</td>\n",
       "      <td>0</td>\n",
       "      <td>southwest</td>\n",
       "      <td>1972.95000</td>\n",
       "    </tr>\n",
       "    <tr>\n",
       "      <th>3</th>\n",
       "      <td>2304</td>\n",
       "      <td>0</td>\n",
       "      <td>29.600</td>\n",
       "      <td>0</td>\n",
       "      <td>0</td>\n",
       "      <td>southwest</td>\n",
       "      <td>21232.18226</td>\n",
       "    </tr>\n",
       "    <tr>\n",
       "      <th>4</th>\n",
       "      <td>2209</td>\n",
       "      <td>0</td>\n",
       "      <td>19.190</td>\n",
       "      <td>1</td>\n",
       "      <td>0</td>\n",
       "      <td>northeast</td>\n",
       "      <td>8627.54110</td>\n",
       "    </tr>\n",
       "    <tr>\n",
       "      <th>...</th>\n",
       "      <td>...</td>\n",
       "      <td>...</td>\n",
       "      <td>...</td>\n",
       "      <td>...</td>\n",
       "      <td>...</td>\n",
       "      <td>...</td>\n",
       "      <td>...</td>\n",
       "    </tr>\n",
       "    <tr>\n",
       "      <th>145</th>\n",
       "      <td>2704</td>\n",
       "      <td>0</td>\n",
       "      <td>32.775</td>\n",
       "      <td>3</td>\n",
       "      <td>0</td>\n",
       "      <td>northwest</td>\n",
       "      <td>11289.10925</td>\n",
       "    </tr>\n",
       "    <tr>\n",
       "      <th>146</th>\n",
       "      <td>3600</td>\n",
       "      <td>0</td>\n",
       "      <td>32.800</td>\n",
       "      <td>0</td>\n",
       "      <td>1</td>\n",
       "      <td>southwest</td>\n",
       "      <td>52590.82939</td>\n",
       "    </tr>\n",
       "    <tr>\n",
       "      <th>147</th>\n",
       "      <td>400</td>\n",
       "      <td>1</td>\n",
       "      <td>31.920</td>\n",
       "      <td>0</td>\n",
       "      <td>0</td>\n",
       "      <td>northwest</td>\n",
       "      <td>2261.56880</td>\n",
       "    </tr>\n",
       "    <tr>\n",
       "      <th>148</th>\n",
       "      <td>3025</td>\n",
       "      <td>0</td>\n",
       "      <td>21.500</td>\n",
       "      <td>1</td>\n",
       "      <td>0</td>\n",
       "      <td>southwest</td>\n",
       "      <td>10791.96000</td>\n",
       "    </tr>\n",
       "    <tr>\n",
       "      <th>149</th>\n",
       "      <td>1764</td>\n",
       "      <td>0</td>\n",
       "      <td>34.100</td>\n",
       "      <td>0</td>\n",
       "      <td>0</td>\n",
       "      <td>southwest</td>\n",
       "      <td>5979.73100</td>\n",
       "    </tr>\n",
       "  </tbody>\n",
       "</table>\n",
       "<p>150 rows × 7 columns</p>\n",
       "</div>"
      ],
      "text/plain": [
       "      age  gender     bmi  children  smoker     region      charges\n",
       "0     900       0  22.990         2       1  northwest  17361.76610\n",
       "1     576       0  32.700         0       1  southwest  34472.84100\n",
       "2     576       0  25.800         0       0  southwest   1972.95000\n",
       "3    2304       0  29.600         0       0  southwest  21232.18226\n",
       "4    2209       0  19.190         1       0  northeast   8627.54110\n",
       "..    ...     ...     ...       ...     ...        ...          ...\n",
       "145  2704       0  32.775         3       0  northwest  11289.10925\n",
       "146  3600       0  32.800         0       1  southwest  52590.82939\n",
       "147   400       1  31.920         0       0  northwest   2261.56880\n",
       "148  3025       0  21.500         1       0  southwest  10791.96000\n",
       "149  1764       0  34.100         0       0  southwest   5979.73100\n",
       "\n",
       "[150 rows x 7 columns]"
      ]
     },
     "execution_count": 11,
     "metadata": {},
     "output_type": "execute_result"
    }
   ],
   "source": [
    "Test_Regression = Map_Reform(Test_Regression)\n",
    "Test_Regression"
   ]
  },
  {
   "cell_type": "markdown",
   "metadata": {},
   "source": [
    "<h3 align=\"center\">وان هات کردن داده های آموزش و تست </h3>"
   ]
  },
  {
   "cell_type": "code",
   "execution_count": 12,
   "metadata": {},
   "outputs": [],
   "source": [
    "def one_hot(data_frame):\n",
    "    one_hot_encoding=pd.get_dummies(data_frame['region'])\n",
    "    data_frame=data_frame.drop('region',axis=1)\n",
    "    data_frame=data_frame.join(one_hot_encoding)\n",
    "    return data_frame"
   ]
  },
  {
   "cell_type": "code",
   "execution_count": 13,
   "metadata": {},
   "outputs": [
    {
     "data": {
      "text/html": [
       "<div>\n",
       "<style scoped>\n",
       "    .dataframe tbody tr th:only-of-type {\n",
       "        vertical-align: middle;\n",
       "    }\n",
       "\n",
       "    .dataframe tbody tr th {\n",
       "        vertical-align: top;\n",
       "    }\n",
       "\n",
       "    .dataframe thead th {\n",
       "        text-align: right;\n",
       "    }\n",
       "</style>\n",
       "<table border=\"1\" class=\"dataframe\">\n",
       "  <thead>\n",
       "    <tr style=\"text-align: right;\">\n",
       "      <th></th>\n",
       "      <th>age</th>\n",
       "      <th>gender</th>\n",
       "      <th>bmi</th>\n",
       "      <th>children</th>\n",
       "      <th>smoker</th>\n",
       "      <th>charges</th>\n",
       "      <th>northeast</th>\n",
       "      <th>northwest</th>\n",
       "      <th>southeast</th>\n",
       "      <th>southwest</th>\n",
       "    </tr>\n",
       "  </thead>\n",
       "  <tbody>\n",
       "    <tr>\n",
       "      <th>0</th>\n",
       "      <td>361</td>\n",
       "      <td>1</td>\n",
       "      <td>27.900</td>\n",
       "      <td>0</td>\n",
       "      <td>1</td>\n",
       "      <td>16884.92400</td>\n",
       "      <td>0</td>\n",
       "      <td>0</td>\n",
       "      <td>0</td>\n",
       "      <td>1</td>\n",
       "    </tr>\n",
       "    <tr>\n",
       "      <th>1</th>\n",
       "      <td>324</td>\n",
       "      <td>0</td>\n",
       "      <td>33.770</td>\n",
       "      <td>1</td>\n",
       "      <td>0</td>\n",
       "      <td>1725.55230</td>\n",
       "      <td>0</td>\n",
       "      <td>0</td>\n",
       "      <td>1</td>\n",
       "      <td>0</td>\n",
       "    </tr>\n",
       "    <tr>\n",
       "      <th>2</th>\n",
       "      <td>784</td>\n",
       "      <td>0</td>\n",
       "      <td>33.000</td>\n",
       "      <td>3</td>\n",
       "      <td>0</td>\n",
       "      <td>4449.46200</td>\n",
       "      <td>0</td>\n",
       "      <td>0</td>\n",
       "      <td>1</td>\n",
       "      <td>0</td>\n",
       "    </tr>\n",
       "    <tr>\n",
       "      <th>3</th>\n",
       "      <td>1089</td>\n",
       "      <td>0</td>\n",
       "      <td>22.705</td>\n",
       "      <td>0</td>\n",
       "      <td>0</td>\n",
       "      <td>21984.47061</td>\n",
       "      <td>0</td>\n",
       "      <td>1</td>\n",
       "      <td>0</td>\n",
       "      <td>0</td>\n",
       "    </tr>\n",
       "    <tr>\n",
       "      <th>4</th>\n",
       "      <td>1024</td>\n",
       "      <td>0</td>\n",
       "      <td>28.880</td>\n",
       "      <td>0</td>\n",
       "      <td>0</td>\n",
       "      <td>3866.85520</td>\n",
       "      <td>0</td>\n",
       "      <td>1</td>\n",
       "      <td>0</td>\n",
       "      <td>0</td>\n",
       "    </tr>\n",
       "    <tr>\n",
       "      <th>...</th>\n",
       "      <td>...</td>\n",
       "      <td>...</td>\n",
       "      <td>...</td>\n",
       "      <td>...</td>\n",
       "      <td>...</td>\n",
       "      <td>...</td>\n",
       "      <td>...</td>\n",
       "      <td>...</td>\n",
       "      <td>...</td>\n",
       "      <td>...</td>\n",
       "    </tr>\n",
       "    <tr>\n",
       "      <th>995</th>\n",
       "      <td>1521</td>\n",
       "      <td>1</td>\n",
       "      <td>23.275</td>\n",
       "      <td>3</td>\n",
       "      <td>0</td>\n",
       "      <td>7986.47525</td>\n",
       "      <td>1</td>\n",
       "      <td>0</td>\n",
       "      <td>0</td>\n",
       "      <td>0</td>\n",
       "    </tr>\n",
       "    <tr>\n",
       "      <th>996</th>\n",
       "      <td>1521</td>\n",
       "      <td>1</td>\n",
       "      <td>34.100</td>\n",
       "      <td>3</td>\n",
       "      <td>0</td>\n",
       "      <td>7418.52200</td>\n",
       "      <td>0</td>\n",
       "      <td>0</td>\n",
       "      <td>0</td>\n",
       "      <td>1</td>\n",
       "    </tr>\n",
       "    <tr>\n",
       "      <th>997</th>\n",
       "      <td>3969</td>\n",
       "      <td>1</td>\n",
       "      <td>36.850</td>\n",
       "      <td>0</td>\n",
       "      <td>0</td>\n",
       "      <td>13887.96850</td>\n",
       "      <td>0</td>\n",
       "      <td>0</td>\n",
       "      <td>1</td>\n",
       "      <td>0</td>\n",
       "    </tr>\n",
       "    <tr>\n",
       "      <th>998</th>\n",
       "      <td>1089</td>\n",
       "      <td>1</td>\n",
       "      <td>36.290</td>\n",
       "      <td>3</td>\n",
       "      <td>0</td>\n",
       "      <td>6551.75010</td>\n",
       "      <td>1</td>\n",
       "      <td>0</td>\n",
       "      <td>0</td>\n",
       "      <td>0</td>\n",
       "    </tr>\n",
       "    <tr>\n",
       "      <th>999</th>\n",
       "      <td>1296</td>\n",
       "      <td>1</td>\n",
       "      <td>26.885</td>\n",
       "      <td>0</td>\n",
       "      <td>0</td>\n",
       "      <td>5267.81815</td>\n",
       "      <td>0</td>\n",
       "      <td>1</td>\n",
       "      <td>0</td>\n",
       "      <td>0</td>\n",
       "    </tr>\n",
       "  </tbody>\n",
       "</table>\n",
       "<p>1000 rows × 10 columns</p>\n",
       "</div>"
      ],
      "text/plain": [
       "      age  gender     bmi  children  smoker      charges  northeast  \\\n",
       "0     361       1  27.900         0       1  16884.92400          0   \n",
       "1     324       0  33.770         1       0   1725.55230          0   \n",
       "2     784       0  33.000         3       0   4449.46200          0   \n",
       "3    1089       0  22.705         0       0  21984.47061          0   \n",
       "4    1024       0  28.880         0       0   3866.85520          0   \n",
       "..    ...     ...     ...       ...     ...          ...        ...   \n",
       "995  1521       1  23.275         3       0   7986.47525          1   \n",
       "996  1521       1  34.100         3       0   7418.52200          0   \n",
       "997  3969       1  36.850         0       0  13887.96850          0   \n",
       "998  1089       1  36.290         3       0   6551.75010          1   \n",
       "999  1296       1  26.885         0       0   5267.81815          0   \n",
       "\n",
       "     northwest  southeast  southwest  \n",
       "0            0          0          1  \n",
       "1            0          1          0  \n",
       "2            0          1          0  \n",
       "3            1          0          0  \n",
       "4            1          0          0  \n",
       "..         ...        ...        ...  \n",
       "995          0          0          0  \n",
       "996          0          0          1  \n",
       "997          0          1          0  \n",
       "998          0          0          0  \n",
       "999          1          0          0  \n",
       "\n",
       "[1000 rows x 10 columns]"
      ]
     },
     "execution_count": 13,
     "metadata": {},
     "output_type": "execute_result"
    }
   ],
   "source": [
    "Train_Regression=one_hot(Train_Regression)\n",
    "Train_Regression"
   ]
  },
  {
   "cell_type": "code",
   "execution_count": 14,
   "metadata": {},
   "outputs": [
    {
     "data": {
      "text/html": [
       "<div>\n",
       "<style scoped>\n",
       "    .dataframe tbody tr th:only-of-type {\n",
       "        vertical-align: middle;\n",
       "    }\n",
       "\n",
       "    .dataframe tbody tr th {\n",
       "        vertical-align: top;\n",
       "    }\n",
       "\n",
       "    .dataframe thead th {\n",
       "        text-align: right;\n",
       "    }\n",
       "</style>\n",
       "<table border=\"1\" class=\"dataframe\">\n",
       "  <thead>\n",
       "    <tr style=\"text-align: right;\">\n",
       "      <th></th>\n",
       "      <th>age</th>\n",
       "      <th>gender</th>\n",
       "      <th>bmi</th>\n",
       "      <th>children</th>\n",
       "      <th>smoker</th>\n",
       "      <th>charges</th>\n",
       "      <th>northeast</th>\n",
       "      <th>northwest</th>\n",
       "      <th>southeast</th>\n",
       "      <th>southwest</th>\n",
       "    </tr>\n",
       "  </thead>\n",
       "  <tbody>\n",
       "    <tr>\n",
       "      <th>0</th>\n",
       "      <td>900</td>\n",
       "      <td>0</td>\n",
       "      <td>22.990</td>\n",
       "      <td>2</td>\n",
       "      <td>1</td>\n",
       "      <td>17361.76610</td>\n",
       "      <td>0</td>\n",
       "      <td>1</td>\n",
       "      <td>0</td>\n",
       "      <td>0</td>\n",
       "    </tr>\n",
       "    <tr>\n",
       "      <th>1</th>\n",
       "      <td>576</td>\n",
       "      <td>0</td>\n",
       "      <td>32.700</td>\n",
       "      <td>0</td>\n",
       "      <td>1</td>\n",
       "      <td>34472.84100</td>\n",
       "      <td>0</td>\n",
       "      <td>0</td>\n",
       "      <td>0</td>\n",
       "      <td>1</td>\n",
       "    </tr>\n",
       "    <tr>\n",
       "      <th>2</th>\n",
       "      <td>576</td>\n",
       "      <td>0</td>\n",
       "      <td>25.800</td>\n",
       "      <td>0</td>\n",
       "      <td>0</td>\n",
       "      <td>1972.95000</td>\n",
       "      <td>0</td>\n",
       "      <td>0</td>\n",
       "      <td>0</td>\n",
       "      <td>1</td>\n",
       "    </tr>\n",
       "    <tr>\n",
       "      <th>3</th>\n",
       "      <td>2304</td>\n",
       "      <td>0</td>\n",
       "      <td>29.600</td>\n",
       "      <td>0</td>\n",
       "      <td>0</td>\n",
       "      <td>21232.18226</td>\n",
       "      <td>0</td>\n",
       "      <td>0</td>\n",
       "      <td>0</td>\n",
       "      <td>1</td>\n",
       "    </tr>\n",
       "    <tr>\n",
       "      <th>4</th>\n",
       "      <td>2209</td>\n",
       "      <td>0</td>\n",
       "      <td>19.190</td>\n",
       "      <td>1</td>\n",
       "      <td>0</td>\n",
       "      <td>8627.54110</td>\n",
       "      <td>1</td>\n",
       "      <td>0</td>\n",
       "      <td>0</td>\n",
       "      <td>0</td>\n",
       "    </tr>\n",
       "    <tr>\n",
       "      <th>...</th>\n",
       "      <td>...</td>\n",
       "      <td>...</td>\n",
       "      <td>...</td>\n",
       "      <td>...</td>\n",
       "      <td>...</td>\n",
       "      <td>...</td>\n",
       "      <td>...</td>\n",
       "      <td>...</td>\n",
       "      <td>...</td>\n",
       "      <td>...</td>\n",
       "    </tr>\n",
       "    <tr>\n",
       "      <th>145</th>\n",
       "      <td>2704</td>\n",
       "      <td>0</td>\n",
       "      <td>32.775</td>\n",
       "      <td>3</td>\n",
       "      <td>0</td>\n",
       "      <td>11289.10925</td>\n",
       "      <td>0</td>\n",
       "      <td>1</td>\n",
       "      <td>0</td>\n",
       "      <td>0</td>\n",
       "    </tr>\n",
       "    <tr>\n",
       "      <th>146</th>\n",
       "      <td>3600</td>\n",
       "      <td>0</td>\n",
       "      <td>32.800</td>\n",
       "      <td>0</td>\n",
       "      <td>1</td>\n",
       "      <td>52590.82939</td>\n",
       "      <td>0</td>\n",
       "      <td>0</td>\n",
       "      <td>0</td>\n",
       "      <td>1</td>\n",
       "    </tr>\n",
       "    <tr>\n",
       "      <th>147</th>\n",
       "      <td>400</td>\n",
       "      <td>1</td>\n",
       "      <td>31.920</td>\n",
       "      <td>0</td>\n",
       "      <td>0</td>\n",
       "      <td>2261.56880</td>\n",
       "      <td>0</td>\n",
       "      <td>1</td>\n",
       "      <td>0</td>\n",
       "      <td>0</td>\n",
       "    </tr>\n",
       "    <tr>\n",
       "      <th>148</th>\n",
       "      <td>3025</td>\n",
       "      <td>0</td>\n",
       "      <td>21.500</td>\n",
       "      <td>1</td>\n",
       "      <td>0</td>\n",
       "      <td>10791.96000</td>\n",
       "      <td>0</td>\n",
       "      <td>0</td>\n",
       "      <td>0</td>\n",
       "      <td>1</td>\n",
       "    </tr>\n",
       "    <tr>\n",
       "      <th>149</th>\n",
       "      <td>1764</td>\n",
       "      <td>0</td>\n",
       "      <td>34.100</td>\n",
       "      <td>0</td>\n",
       "      <td>0</td>\n",
       "      <td>5979.73100</td>\n",
       "      <td>0</td>\n",
       "      <td>0</td>\n",
       "      <td>0</td>\n",
       "      <td>1</td>\n",
       "    </tr>\n",
       "  </tbody>\n",
       "</table>\n",
       "<p>150 rows × 10 columns</p>\n",
       "</div>"
      ],
      "text/plain": [
       "      age  gender     bmi  children  smoker      charges  northeast  \\\n",
       "0     900       0  22.990         2       1  17361.76610          0   \n",
       "1     576       0  32.700         0       1  34472.84100          0   \n",
       "2     576       0  25.800         0       0   1972.95000          0   \n",
       "3    2304       0  29.600         0       0  21232.18226          0   \n",
       "4    2209       0  19.190         1       0   8627.54110          1   \n",
       "..    ...     ...     ...       ...     ...          ...        ...   \n",
       "145  2704       0  32.775         3       0  11289.10925          0   \n",
       "146  3600       0  32.800         0       1  52590.82939          0   \n",
       "147   400       1  31.920         0       0   2261.56880          0   \n",
       "148  3025       0  21.500         1       0  10791.96000          0   \n",
       "149  1764       0  34.100         0       0   5979.73100          0   \n",
       "\n",
       "     northwest  southeast  southwest  \n",
       "0            1          0          0  \n",
       "1            0          0          1  \n",
       "2            0          0          1  \n",
       "3            0          0          1  \n",
       "4            0          0          0  \n",
       "..         ...        ...        ...  \n",
       "145          1          0          0  \n",
       "146          0          0          1  \n",
       "147          1          0          0  \n",
       "148          0          0          1  \n",
       "149          0          0          1  \n",
       "\n",
       "[150 rows x 10 columns]"
      ]
     },
     "execution_count": 14,
     "metadata": {},
     "output_type": "execute_result"
    }
   ],
   "source": [
    "Test_Regression=one_hot(Test_Regression)\n",
    "Test_Regression"
   ]
  },
  {
   "cell_type": "markdown",
   "metadata": {},
   "source": [
    "<h3 align=\"center\">تفکیک ویژگی ها و لیبل ها در داده های آموزش و تست </h3>"
   ]
  },
  {
   "cell_type": "code",
   "execution_count": 15,
   "metadata": {},
   "outputs": [],
   "source": [
    "def Data_loader(Dframe):\n",
    "    X,Y = Dframe.drop('charges',axis=1),Dframe['charges']\n",
    "    return X,Y"
   ]
  },
  {
   "cell_type": "code",
   "execution_count": 16,
   "metadata": {},
   "outputs": [],
   "source": [
    "X_train,Y_train=Data_loader(Train_Regression)"
   ]
  },
  {
   "cell_type": "code",
   "execution_count": 17,
   "metadata": {},
   "outputs": [
    {
     "data": {
      "text/html": [
       "<div>\n",
       "<style scoped>\n",
       "    .dataframe tbody tr th:only-of-type {\n",
       "        vertical-align: middle;\n",
       "    }\n",
       "\n",
       "    .dataframe tbody tr th {\n",
       "        vertical-align: top;\n",
       "    }\n",
       "\n",
       "    .dataframe thead th {\n",
       "        text-align: right;\n",
       "    }\n",
       "</style>\n",
       "<table border=\"1\" class=\"dataframe\">\n",
       "  <thead>\n",
       "    <tr style=\"text-align: right;\">\n",
       "      <th></th>\n",
       "      <th>age</th>\n",
       "      <th>gender</th>\n",
       "      <th>bmi</th>\n",
       "      <th>children</th>\n",
       "      <th>smoker</th>\n",
       "      <th>northeast</th>\n",
       "      <th>northwest</th>\n",
       "      <th>southeast</th>\n",
       "      <th>southwest</th>\n",
       "    </tr>\n",
       "  </thead>\n",
       "  <tbody>\n",
       "    <tr>\n",
       "      <th>0</th>\n",
       "      <td>361</td>\n",
       "      <td>1</td>\n",
       "      <td>27.900</td>\n",
       "      <td>0</td>\n",
       "      <td>1</td>\n",
       "      <td>0</td>\n",
       "      <td>0</td>\n",
       "      <td>0</td>\n",
       "      <td>1</td>\n",
       "    </tr>\n",
       "    <tr>\n",
       "      <th>1</th>\n",
       "      <td>324</td>\n",
       "      <td>0</td>\n",
       "      <td>33.770</td>\n",
       "      <td>1</td>\n",
       "      <td>0</td>\n",
       "      <td>0</td>\n",
       "      <td>0</td>\n",
       "      <td>1</td>\n",
       "      <td>0</td>\n",
       "    </tr>\n",
       "    <tr>\n",
       "      <th>2</th>\n",
       "      <td>784</td>\n",
       "      <td>0</td>\n",
       "      <td>33.000</td>\n",
       "      <td>3</td>\n",
       "      <td>0</td>\n",
       "      <td>0</td>\n",
       "      <td>0</td>\n",
       "      <td>1</td>\n",
       "      <td>0</td>\n",
       "    </tr>\n",
       "    <tr>\n",
       "      <th>3</th>\n",
       "      <td>1089</td>\n",
       "      <td>0</td>\n",
       "      <td>22.705</td>\n",
       "      <td>0</td>\n",
       "      <td>0</td>\n",
       "      <td>0</td>\n",
       "      <td>1</td>\n",
       "      <td>0</td>\n",
       "      <td>0</td>\n",
       "    </tr>\n",
       "    <tr>\n",
       "      <th>4</th>\n",
       "      <td>1024</td>\n",
       "      <td>0</td>\n",
       "      <td>28.880</td>\n",
       "      <td>0</td>\n",
       "      <td>0</td>\n",
       "      <td>0</td>\n",
       "      <td>1</td>\n",
       "      <td>0</td>\n",
       "      <td>0</td>\n",
       "    </tr>\n",
       "    <tr>\n",
       "      <th>...</th>\n",
       "      <td>...</td>\n",
       "      <td>...</td>\n",
       "      <td>...</td>\n",
       "      <td>...</td>\n",
       "      <td>...</td>\n",
       "      <td>...</td>\n",
       "      <td>...</td>\n",
       "      <td>...</td>\n",
       "      <td>...</td>\n",
       "    </tr>\n",
       "    <tr>\n",
       "      <th>995</th>\n",
       "      <td>1521</td>\n",
       "      <td>1</td>\n",
       "      <td>23.275</td>\n",
       "      <td>3</td>\n",
       "      <td>0</td>\n",
       "      <td>1</td>\n",
       "      <td>0</td>\n",
       "      <td>0</td>\n",
       "      <td>0</td>\n",
       "    </tr>\n",
       "    <tr>\n",
       "      <th>996</th>\n",
       "      <td>1521</td>\n",
       "      <td>1</td>\n",
       "      <td>34.100</td>\n",
       "      <td>3</td>\n",
       "      <td>0</td>\n",
       "      <td>0</td>\n",
       "      <td>0</td>\n",
       "      <td>0</td>\n",
       "      <td>1</td>\n",
       "    </tr>\n",
       "    <tr>\n",
       "      <th>997</th>\n",
       "      <td>3969</td>\n",
       "      <td>1</td>\n",
       "      <td>36.850</td>\n",
       "      <td>0</td>\n",
       "      <td>0</td>\n",
       "      <td>0</td>\n",
       "      <td>0</td>\n",
       "      <td>1</td>\n",
       "      <td>0</td>\n",
       "    </tr>\n",
       "    <tr>\n",
       "      <th>998</th>\n",
       "      <td>1089</td>\n",
       "      <td>1</td>\n",
       "      <td>36.290</td>\n",
       "      <td>3</td>\n",
       "      <td>0</td>\n",
       "      <td>1</td>\n",
       "      <td>0</td>\n",
       "      <td>0</td>\n",
       "      <td>0</td>\n",
       "    </tr>\n",
       "    <tr>\n",
       "      <th>999</th>\n",
       "      <td>1296</td>\n",
       "      <td>1</td>\n",
       "      <td>26.885</td>\n",
       "      <td>0</td>\n",
       "      <td>0</td>\n",
       "      <td>0</td>\n",
       "      <td>1</td>\n",
       "      <td>0</td>\n",
       "      <td>0</td>\n",
       "    </tr>\n",
       "  </tbody>\n",
       "</table>\n",
       "<p>1000 rows × 9 columns</p>\n",
       "</div>"
      ],
      "text/plain": [
       "      age  gender     bmi  children  smoker  northeast  northwest  southeast  \\\n",
       "0     361       1  27.900         0       1          0          0          0   \n",
       "1     324       0  33.770         1       0          0          0          1   \n",
       "2     784       0  33.000         3       0          0          0          1   \n",
       "3    1089       0  22.705         0       0          0          1          0   \n",
       "4    1024       0  28.880         0       0          0          1          0   \n",
       "..    ...     ...     ...       ...     ...        ...        ...        ...   \n",
       "995  1521       1  23.275         3       0          1          0          0   \n",
       "996  1521       1  34.100         3       0          0          0          0   \n",
       "997  3969       1  36.850         0       0          0          0          1   \n",
       "998  1089       1  36.290         3       0          1          0          0   \n",
       "999  1296       1  26.885         0       0          0          1          0   \n",
       "\n",
       "     southwest  \n",
       "0            1  \n",
       "1            0  \n",
       "2            0  \n",
       "3            0  \n",
       "4            0  \n",
       "..         ...  \n",
       "995          0  \n",
       "996          1  \n",
       "997          0  \n",
       "998          0  \n",
       "999          0  \n",
       "\n",
       "[1000 rows x 9 columns]"
      ]
     },
     "execution_count": 17,
     "metadata": {},
     "output_type": "execute_result"
    }
   ],
   "source": [
    "X_train"
   ]
  },
  {
   "cell_type": "code",
   "execution_count": 18,
   "metadata": {},
   "outputs": [
    {
     "data": {
      "text/plain": [
       "0      16884.92400\n",
       "1       1725.55230\n",
       "2       4449.46200\n",
       "3      21984.47061\n",
       "4       3866.85520\n",
       "          ...     \n",
       "995     7986.47525\n",
       "996     7418.52200\n",
       "997    13887.96850\n",
       "998     6551.75010\n",
       "999     5267.81815\n",
       "Name: charges, Length: 1000, dtype: float64"
      ]
     },
     "execution_count": 18,
     "metadata": {},
     "output_type": "execute_result"
    }
   ],
   "source": [
    "Y_train"
   ]
  },
  {
   "cell_type": "code",
   "execution_count": 19,
   "metadata": {},
   "outputs": [],
   "source": [
    "X_test,Y_test=Data_loader(Test_Regression)"
   ]
  },
  {
   "cell_type": "code",
   "execution_count": 20,
   "metadata": {},
   "outputs": [
    {
     "data": {
      "text/html": [
       "<div>\n",
       "<style scoped>\n",
       "    .dataframe tbody tr th:only-of-type {\n",
       "        vertical-align: middle;\n",
       "    }\n",
       "\n",
       "    .dataframe tbody tr th {\n",
       "        vertical-align: top;\n",
       "    }\n",
       "\n",
       "    .dataframe thead th {\n",
       "        text-align: right;\n",
       "    }\n",
       "</style>\n",
       "<table border=\"1\" class=\"dataframe\">\n",
       "  <thead>\n",
       "    <tr style=\"text-align: right;\">\n",
       "      <th></th>\n",
       "      <th>age</th>\n",
       "      <th>gender</th>\n",
       "      <th>bmi</th>\n",
       "      <th>children</th>\n",
       "      <th>smoker</th>\n",
       "      <th>northeast</th>\n",
       "      <th>northwest</th>\n",
       "      <th>southeast</th>\n",
       "      <th>southwest</th>\n",
       "    </tr>\n",
       "  </thead>\n",
       "  <tbody>\n",
       "    <tr>\n",
       "      <th>0</th>\n",
       "      <td>900</td>\n",
       "      <td>0</td>\n",
       "      <td>22.990</td>\n",
       "      <td>2</td>\n",
       "      <td>1</td>\n",
       "      <td>0</td>\n",
       "      <td>1</td>\n",
       "      <td>0</td>\n",
       "      <td>0</td>\n",
       "    </tr>\n",
       "    <tr>\n",
       "      <th>1</th>\n",
       "      <td>576</td>\n",
       "      <td>0</td>\n",
       "      <td>32.700</td>\n",
       "      <td>0</td>\n",
       "      <td>1</td>\n",
       "      <td>0</td>\n",
       "      <td>0</td>\n",
       "      <td>0</td>\n",
       "      <td>1</td>\n",
       "    </tr>\n",
       "    <tr>\n",
       "      <th>2</th>\n",
       "      <td>576</td>\n",
       "      <td>0</td>\n",
       "      <td>25.800</td>\n",
       "      <td>0</td>\n",
       "      <td>0</td>\n",
       "      <td>0</td>\n",
       "      <td>0</td>\n",
       "      <td>0</td>\n",
       "      <td>1</td>\n",
       "    </tr>\n",
       "    <tr>\n",
       "      <th>3</th>\n",
       "      <td>2304</td>\n",
       "      <td>0</td>\n",
       "      <td>29.600</td>\n",
       "      <td>0</td>\n",
       "      <td>0</td>\n",
       "      <td>0</td>\n",
       "      <td>0</td>\n",
       "      <td>0</td>\n",
       "      <td>1</td>\n",
       "    </tr>\n",
       "    <tr>\n",
       "      <th>4</th>\n",
       "      <td>2209</td>\n",
       "      <td>0</td>\n",
       "      <td>19.190</td>\n",
       "      <td>1</td>\n",
       "      <td>0</td>\n",
       "      <td>1</td>\n",
       "      <td>0</td>\n",
       "      <td>0</td>\n",
       "      <td>0</td>\n",
       "    </tr>\n",
       "    <tr>\n",
       "      <th>...</th>\n",
       "      <td>...</td>\n",
       "      <td>...</td>\n",
       "      <td>...</td>\n",
       "      <td>...</td>\n",
       "      <td>...</td>\n",
       "      <td>...</td>\n",
       "      <td>...</td>\n",
       "      <td>...</td>\n",
       "      <td>...</td>\n",
       "    </tr>\n",
       "    <tr>\n",
       "      <th>145</th>\n",
       "      <td>2704</td>\n",
       "      <td>0</td>\n",
       "      <td>32.775</td>\n",
       "      <td>3</td>\n",
       "      <td>0</td>\n",
       "      <td>0</td>\n",
       "      <td>1</td>\n",
       "      <td>0</td>\n",
       "      <td>0</td>\n",
       "    </tr>\n",
       "    <tr>\n",
       "      <th>146</th>\n",
       "      <td>3600</td>\n",
       "      <td>0</td>\n",
       "      <td>32.800</td>\n",
       "      <td>0</td>\n",
       "      <td>1</td>\n",
       "      <td>0</td>\n",
       "      <td>0</td>\n",
       "      <td>0</td>\n",
       "      <td>1</td>\n",
       "    </tr>\n",
       "    <tr>\n",
       "      <th>147</th>\n",
       "      <td>400</td>\n",
       "      <td>1</td>\n",
       "      <td>31.920</td>\n",
       "      <td>0</td>\n",
       "      <td>0</td>\n",
       "      <td>0</td>\n",
       "      <td>1</td>\n",
       "      <td>0</td>\n",
       "      <td>0</td>\n",
       "    </tr>\n",
       "    <tr>\n",
       "      <th>148</th>\n",
       "      <td>3025</td>\n",
       "      <td>0</td>\n",
       "      <td>21.500</td>\n",
       "      <td>1</td>\n",
       "      <td>0</td>\n",
       "      <td>0</td>\n",
       "      <td>0</td>\n",
       "      <td>0</td>\n",
       "      <td>1</td>\n",
       "    </tr>\n",
       "    <tr>\n",
       "      <th>149</th>\n",
       "      <td>1764</td>\n",
       "      <td>0</td>\n",
       "      <td>34.100</td>\n",
       "      <td>0</td>\n",
       "      <td>0</td>\n",
       "      <td>0</td>\n",
       "      <td>0</td>\n",
       "      <td>0</td>\n",
       "      <td>1</td>\n",
       "    </tr>\n",
       "  </tbody>\n",
       "</table>\n",
       "<p>150 rows × 9 columns</p>\n",
       "</div>"
      ],
      "text/plain": [
       "      age  gender     bmi  children  smoker  northeast  northwest  southeast  \\\n",
       "0     900       0  22.990         2       1          0          1          0   \n",
       "1     576       0  32.700         0       1          0          0          0   \n",
       "2     576       0  25.800         0       0          0          0          0   \n",
       "3    2304       0  29.600         0       0          0          0          0   \n",
       "4    2209       0  19.190         1       0          1          0          0   \n",
       "..    ...     ...     ...       ...     ...        ...        ...        ...   \n",
       "145  2704       0  32.775         3       0          0          1          0   \n",
       "146  3600       0  32.800         0       1          0          0          0   \n",
       "147   400       1  31.920         0       0          0          1          0   \n",
       "148  3025       0  21.500         1       0          0          0          0   \n",
       "149  1764       0  34.100         0       0          0          0          0   \n",
       "\n",
       "     southwest  \n",
       "0            0  \n",
       "1            1  \n",
       "2            1  \n",
       "3            1  \n",
       "4            0  \n",
       "..         ...  \n",
       "145          0  \n",
       "146          1  \n",
       "147          0  \n",
       "148          1  \n",
       "149          1  \n",
       "\n",
       "[150 rows x 9 columns]"
      ]
     },
     "execution_count": 20,
     "metadata": {},
     "output_type": "execute_result"
    }
   ],
   "source": [
    "X_test"
   ]
  },
  {
   "cell_type": "code",
   "execution_count": 21,
   "metadata": {},
   "outputs": [
    {
     "data": {
      "text/plain": [
       "0      17361.76610\n",
       "1      34472.84100\n",
       "2       1972.95000\n",
       "3      21232.18226\n",
       "4       8627.54110\n",
       "          ...     \n",
       "145    11289.10925\n",
       "146    52590.82939\n",
       "147     2261.56880\n",
       "148    10791.96000\n",
       "149     5979.73100\n",
       "Name: charges, Length: 150, dtype: float64"
      ]
     },
     "execution_count": 21,
     "metadata": {},
     "output_type": "execute_result"
    }
   ],
   "source": [
    "Y_test"
   ]
  },
  {
   "cell_type": "markdown",
   "metadata": {},
   "source": [
    "<h3 align=\"center\">تعریف یک کلاس برای پیاده سازی فرمول بسته ی رگرسیون خطی تعمیم یافته </h3>"
   ]
  },
  {
   "cell_type": "code",
   "execution_count": 24,
   "metadata": {},
   "outputs": [],
   "source": [
    "class Optimal_Formula_MultipleLinearRegression:\n",
    "    def Best_Weight(self):\n",
    "        return self.Best_Weight\n",
    "    \n",
    "    def fit(self, X, y):\n",
    "        X = np.array(X)\n",
    "        y = np.array(y)\n",
    "        self.Best_Weight = np.linalg.inv(X.T.dot(X)).dot(X.T).dot(y)\n",
    "        \n",
    "    def predict(self, X):\n",
    "        X = np.array(X)\n",
    "        output = np.zeros(len(X))\n",
    "        for i in range(X.shape[1]):\n",
    "            output += X[:, i] * self.Best_Weight[i]\n",
    "        return output\n",
    "    \n",
    "    "
   ]
  },
  {
   "cell_type": "markdown",
   "metadata": {},
   "source": [
    "<h3 align=\"center\">تعریف تابع هزینه </h3>"
   ]
  },
  {
   "cell_type": "code",
   "execution_count": 26,
   "metadata": {},
   "outputs": [],
   "source": [
    "def cost_function_SSE(X,Y,B):\n",
    "    predictions = np.dot(X,B.T)\n",
    "    cost =np.sum((predictions - Y) ** 2)\n",
    "    return cost"
   ]
  },
  {
   "cell_type": "code",
   "execution_count": 27,
   "metadata": {},
   "outputs": [],
   "source": [
    "MLP = Optimal_Formula_MultipleLinearRegression()"
   ]
  },
  {
   "cell_type": "markdown",
   "metadata": {},
   "source": [
    "<h3 align=\"center\">آموزش بر روی داده های آموزش بر اساس فرمول بسته </h3>"
   ]
  },
  {
   "cell_type": "code",
   "execution_count": 33,
   "metadata": {},
   "outputs": [],
   "source": [
    "MLP.fit(X_train, Y_train)"
   ]
  },
  {
   "cell_type": "markdown",
   "metadata": {},
   "source": [
    "<h3 align=\"center\">لیبل های پیش بینی شده </h3>"
   ]
  },
  {
   "cell_type": "code",
   "execution_count": 34,
   "metadata": {},
   "outputs": [
    {
     "data": {
      "text/plain": [
       "array([27435.17187721, 27707.39941277,  1499.5220424 ,  8495.64525538,\n",
       "        6518.9720481 ,  6303.33101078,  5753.55453641, 34079.6052026 ,\n",
       "        3786.84642119, 10697.14506115,  6487.01364237, 28768.04161293,\n",
       "       16917.16265211, 10780.45488059,  5260.29650877, 11814.21976683,\n",
       "        2043.66032524,  6052.31340672, 15380.29727574,  5583.68773491,\n",
       "       11972.01668398, 28760.6277469 , 34780.51851838,   362.95074023,\n",
       "       14295.52353465,  4302.0738227 , 26123.10155161,  -222.87216112,\n",
       "       11193.91399102,  3937.36909375, 31410.54129981, 36912.16387068,\n",
       "        4864.37651696, 24413.2046152 , 16962.478943  , 10240.30111677,\n",
       "       29962.59325171, 33414.85546372,  3525.44092932,  3210.87158357,\n",
       "       29382.47505013,  1043.13665533, 27738.30825404,  2470.67301615,\n",
       "       14628.96040872, 31433.52291513,  7042.67568768, 34636.06740657,\n",
       "        2212.44981213, 33136.97328203, 11415.35592261, 14639.74890848,\n",
       "       10740.03711598, 33792.86979319,  1650.34177026, 11042.40369446,\n",
       "        8542.908821  ,  8573.00407879,  6375.54804644,  7059.11268098,\n",
       "        3571.36274947, 11594.54652521, 40693.07106223,  7305.55127321,\n",
       "        4807.36393321,  6097.42273622, 12174.0775389 , 11597.95916166,\n",
       "       12701.46204653, 12110.97367278, 32335.85995991, 15916.6494515 ,\n",
       "        3712.44695509, 12960.30969928, 10560.86955165,  5074.59418394,\n",
       "        9827.38533248,  2422.67620346, 28030.46379574, 17011.5711111 ,\n",
       "         397.81357644,  5041.97618195,  3773.63900707,  5456.26732525,\n",
       "       16102.77729841, 29032.39544486, 11961.87767987, 13096.02871681,\n",
       "       16465.17942719,  8719.76532394, 34263.69992718, 12533.22600005,\n",
       "        5331.26551849, 27732.05069164, 13024.50556897,  6327.46051283,\n",
       "       37849.9507444 ,  3860.24684709, 11823.70920372,  5237.8328569 ,\n",
       "       27501.96169697, 11490.58925643,  7337.38047968, 14164.46013615,\n",
       "        5470.51663119, 11334.64044427, 10030.12757793, 10216.65313739,\n",
       "        3799.70094744,  6095.84840815, 13559.06701648, 34136.59072362,\n",
       "       33037.86616751,  5126.85195065,  2201.44968864, 12447.82247264,\n",
       "       10510.15213563, 29168.4544814 , 30964.87097954,  3365.31608731,\n",
       "       27396.9901483 , 11848.85116703, 39260.94722907,  6357.52987288,\n",
       "       33068.34797329, 13583.4053269 , 10981.4797227 ,  8406.48925474,\n",
       "        6331.00210049, -1355.0400484 ,  7006.17907963,  9887.70057929,\n",
       "       16512.90979627,  7126.10653758,  5711.41478873, 11410.90604155,\n",
       "        6565.20728063,  1731.18731086,  4674.94629344, 28029.62210134,\n",
       "       12194.31311035,  9391.01603288,  8483.18119969,  7915.97779433,\n",
       "       11161.69058906, 13371.33893628, 37743.05545843,  4084.15070828,\n",
       "        8704.30306295,  8226.2262314 ])"
      ]
     },
     "execution_count": 34,
     "metadata": {},
     "output_type": "execute_result"
    }
   ],
   "source": [
    "y_pred = MLP.predict(X_test)\n",
    "y_pred"
   ]
  },
  {
   "cell_type": "markdown",
   "metadata": {},
   "source": [
    "<h3 align=\"center\">بهترین وزن های بدست آمده بر اساس فرمول بسته </h3>"
   ]
  },
  {
   "cell_type": "code",
   "execution_count": 36,
   "metadata": {},
   "outputs": [
    {
     "data": {
      "text/plain": [
       "array([ 3.30752409e+00,  2.83185963e+02,  3.37031996e+02,  5.53892111e+02,\n",
       "        2.38823566e+04, -7.80888479e+03, -8.28010622e+03, -9.12216533e+03,\n",
       "       -9.10103734e+03])"
      ]
     },
     "execution_count": 36,
     "metadata": {},
     "output_type": "execute_result"
    }
   ],
   "source": [
    "MLP.Best_Weight"
   ]
  },
  {
   "cell_type": "markdown",
   "metadata": {},
   "source": [
    "<h3 align=\"center\">محاسبه ی خطا بین لیبل های واقعی و لیبل های پیش بینی شده بر اساس بهترین وزن بدست آمده بر اساس فرمول بسته برای داده های آموزش و تست </h3>"
   ]
  },
  {
   "cell_type": "code",
   "execution_count": 37,
   "metadata": {},
   "outputs": [
    {
     "data": {
      "text/plain": [
       "34673667870.30673"
      ]
     },
     "execution_count": 37,
     "metadata": {},
     "output_type": "execute_result"
    }
   ],
   "source": [
    "cost_function_SSE(X_train,Y_train,MLP.Best_Weight)"
   ]
  },
  {
   "cell_type": "code",
   "execution_count": 38,
   "metadata": {},
   "outputs": [
    {
     "data": {
      "text/plain": [
       "6559655016.021822"
      ]
     },
     "execution_count": 38,
     "metadata": {},
     "output_type": "execute_result"
    }
   ],
   "source": [
    "cost_function_SSE(X_test,Y_test,MLP.Best_Weight)"
   ]
  },
  {
   "cell_type": "markdown",
   "metadata": {},
   "source": [
    "<h3 align=\"center\">پیاده سازی گرادیان کاهش تصادفی </h3>"
   ]
  },
  {
   "cell_type": "markdown",
   "metadata": {},
   "source": [
    "<h3 align=\"center\">مقدار دهی اولیه به وزن ها </h3>"
   ]
  },
  {
   "cell_type": "code",
   "execution_count": 39,
   "metadata": {},
   "outputs": [],
   "source": [
    "thetas = np.zeros(X_train.shape[1])"
   ]
  },
  {
   "cell_type": "code",
   "execution_count": 40,
   "metadata": {},
   "outputs": [],
   "source": [
    "new_X_train=(X_train - X_train.min()) / (X_train.max() - X_train.min())\n",
    "new_X_test=(X_test - X_test.min()) / (X_test.max() - X_test.min())"
   ]
  },
  {
   "cell_type": "code",
   "execution_count": 41,
   "metadata": {},
   "outputs": [
    {
     "data": {
      "text/html": [
       "<div>\n",
       "<style scoped>\n",
       "    .dataframe tbody tr th:only-of-type {\n",
       "        vertical-align: middle;\n",
       "    }\n",
       "\n",
       "    .dataframe tbody tr th {\n",
       "        vertical-align: top;\n",
       "    }\n",
       "\n",
       "    .dataframe thead th {\n",
       "        text-align: right;\n",
       "    }\n",
       "</style>\n",
       "<table border=\"1\" class=\"dataframe\">\n",
       "  <thead>\n",
       "    <tr style=\"text-align: right;\">\n",
       "      <th></th>\n",
       "      <th>age</th>\n",
       "      <th>gender</th>\n",
       "      <th>bmi</th>\n",
       "      <th>children</th>\n",
       "      <th>smoker</th>\n",
       "      <th>northeast</th>\n",
       "      <th>northwest</th>\n",
       "      <th>southeast</th>\n",
       "      <th>southwest</th>\n",
       "    </tr>\n",
       "  </thead>\n",
       "  <tbody>\n",
       "    <tr>\n",
       "      <th>0</th>\n",
       "      <td>0.009809</td>\n",
       "      <td>1.0</td>\n",
       "      <td>0.346891</td>\n",
       "      <td>0.0</td>\n",
       "      <td>1.0</td>\n",
       "      <td>0.0</td>\n",
       "      <td>0.0</td>\n",
       "      <td>0.0</td>\n",
       "      <td>1.0</td>\n",
       "    </tr>\n",
       "    <tr>\n",
       "      <th>1</th>\n",
       "      <td>0.000000</td>\n",
       "      <td>0.0</td>\n",
       "      <td>0.517432</td>\n",
       "      <td>0.2</td>\n",
       "      <td>0.0</td>\n",
       "      <td>0.0</td>\n",
       "      <td>0.0</td>\n",
       "      <td>1.0</td>\n",
       "      <td>0.0</td>\n",
       "    </tr>\n",
       "    <tr>\n",
       "      <th>2</th>\n",
       "      <td>0.121951</td>\n",
       "      <td>0.0</td>\n",
       "      <td>0.495061</td>\n",
       "      <td>0.6</td>\n",
       "      <td>0.0</td>\n",
       "      <td>0.0</td>\n",
       "      <td>0.0</td>\n",
       "      <td>1.0</td>\n",
       "      <td>0.0</td>\n",
       "    </tr>\n",
       "    <tr>\n",
       "      <th>3</th>\n",
       "      <td>0.202810</td>\n",
       "      <td>0.0</td>\n",
       "      <td>0.195962</td>\n",
       "      <td>0.0</td>\n",
       "      <td>0.0</td>\n",
       "      <td>0.0</td>\n",
       "      <td>1.0</td>\n",
       "      <td>0.0</td>\n",
       "      <td>0.0</td>\n",
       "    </tr>\n",
       "    <tr>\n",
       "      <th>4</th>\n",
       "      <td>0.185578</td>\n",
       "      <td>0.0</td>\n",
       "      <td>0.375363</td>\n",
       "      <td>0.0</td>\n",
       "      <td>0.0</td>\n",
       "      <td>0.0</td>\n",
       "      <td>1.0</td>\n",
       "      <td>0.0</td>\n",
       "      <td>0.0</td>\n",
       "    </tr>\n",
       "    <tr>\n",
       "      <th>...</th>\n",
       "      <td>...</td>\n",
       "      <td>...</td>\n",
       "      <td>...</td>\n",
       "      <td>...</td>\n",
       "      <td>...</td>\n",
       "      <td>...</td>\n",
       "      <td>...</td>\n",
       "      <td>...</td>\n",
       "      <td>...</td>\n",
       "    </tr>\n",
       "    <tr>\n",
       "      <th>995</th>\n",
       "      <td>0.317338</td>\n",
       "      <td>1.0</td>\n",
       "      <td>0.212522</td>\n",
       "      <td>0.6</td>\n",
       "      <td>0.0</td>\n",
       "      <td>1.0</td>\n",
       "      <td>0.0</td>\n",
       "      <td>0.0</td>\n",
       "      <td>0.0</td>\n",
       "    </tr>\n",
       "    <tr>\n",
       "      <th>996</th>\n",
       "      <td>0.317338</td>\n",
       "      <td>1.0</td>\n",
       "      <td>0.527019</td>\n",
       "      <td>0.6</td>\n",
       "      <td>0.0</td>\n",
       "      <td>0.0</td>\n",
       "      <td>0.0</td>\n",
       "      <td>0.0</td>\n",
       "      <td>1.0</td>\n",
       "    </tr>\n",
       "    <tr>\n",
       "      <th>997</th>\n",
       "      <td>0.966331</td>\n",
       "      <td>1.0</td>\n",
       "      <td>0.606915</td>\n",
       "      <td>0.0</td>\n",
       "      <td>0.0</td>\n",
       "      <td>0.0</td>\n",
       "      <td>0.0</td>\n",
       "      <td>1.0</td>\n",
       "      <td>0.0</td>\n",
       "    </tr>\n",
       "    <tr>\n",
       "      <th>998</th>\n",
       "      <td>0.202810</td>\n",
       "      <td>1.0</td>\n",
       "      <td>0.590645</td>\n",
       "      <td>0.6</td>\n",
       "      <td>0.0</td>\n",
       "      <td>1.0</td>\n",
       "      <td>0.0</td>\n",
       "      <td>0.0</td>\n",
       "      <td>0.0</td>\n",
       "    </tr>\n",
       "    <tr>\n",
       "      <th>999</th>\n",
       "      <td>0.257688</td>\n",
       "      <td>1.0</td>\n",
       "      <td>0.317403</td>\n",
       "      <td>0.0</td>\n",
       "      <td>0.0</td>\n",
       "      <td>0.0</td>\n",
       "      <td>1.0</td>\n",
       "      <td>0.0</td>\n",
       "      <td>0.0</td>\n",
       "    </tr>\n",
       "  </tbody>\n",
       "</table>\n",
       "<p>1000 rows × 9 columns</p>\n",
       "</div>"
      ],
      "text/plain": [
       "          age  gender       bmi  children  smoker  northeast  northwest  \\\n",
       "0    0.009809     1.0  0.346891       0.0     1.0        0.0        0.0   \n",
       "1    0.000000     0.0  0.517432       0.2     0.0        0.0        0.0   \n",
       "2    0.121951     0.0  0.495061       0.6     0.0        0.0        0.0   \n",
       "3    0.202810     0.0  0.195962       0.0     0.0        0.0        1.0   \n",
       "4    0.185578     0.0  0.375363       0.0     0.0        0.0        1.0   \n",
       "..        ...     ...       ...       ...     ...        ...        ...   \n",
       "995  0.317338     1.0  0.212522       0.6     0.0        1.0        0.0   \n",
       "996  0.317338     1.0  0.527019       0.6     0.0        0.0        0.0   \n",
       "997  0.966331     1.0  0.606915       0.0     0.0        0.0        0.0   \n",
       "998  0.202810     1.0  0.590645       0.6     0.0        1.0        0.0   \n",
       "999  0.257688     1.0  0.317403       0.0     0.0        0.0        1.0   \n",
       "\n",
       "     southeast  southwest  \n",
       "0          0.0        1.0  \n",
       "1          1.0        0.0  \n",
       "2          1.0        0.0  \n",
       "3          0.0        0.0  \n",
       "4          0.0        0.0  \n",
       "..         ...        ...  \n",
       "995        0.0        0.0  \n",
       "996        0.0        1.0  \n",
       "997        1.0        0.0  \n",
       "998        0.0        0.0  \n",
       "999        0.0        0.0  \n",
       "\n",
       "[1000 rows x 9 columns]"
      ]
     },
     "execution_count": 41,
     "metadata": {},
     "output_type": "execute_result"
    }
   ],
   "source": [
    "new_X_train"
   ]
  },
  {
   "cell_type": "code",
   "execution_count": 42,
   "metadata": {},
   "outputs": [
    {
     "data": {
      "text/plain": [
       "0      16884.92400\n",
       "1       1725.55230\n",
       "2       4449.46200\n",
       "3      21984.47061\n",
       "4       3866.85520\n",
       "          ...     \n",
       "995     7986.47525\n",
       "996     7418.52200\n",
       "997    13887.96850\n",
       "998     6551.75010\n",
       "999     5267.81815\n",
       "Name: charges, Length: 1000, dtype: float64"
      ]
     },
     "execution_count": 42,
     "metadata": {},
     "output_type": "execute_result"
    }
   ],
   "source": [
    "Y_train"
   ]
  },
  {
   "cell_type": "markdown",
   "metadata": {},
   "source": [
    "<h3 align=\"center\">پیاده سازی گرادیان کاهشی تصادفی </h3>"
   ]
  },
  {
   "cell_type": "code",
   "execution_count": 43,
   "metadata": {},
   "outputs": [],
   "source": [
    "def stochastic_gradient_descent(X,y,theta,n_epochs=10):\n",
    "    c_hist = [0] * n_epochs\n",
    "    for epoch in range(n_epochs):\n",
    "        for i in range(len(y)):\n",
    "            rand_index = np.random.randint(len(y))\n",
    "            ind_x = X[rand_index:rand_index+1]\n",
    "            ind_y = y[rand_index:rand_index+1]\n",
    "\n",
    "            gradients = 2 * ind_x.T.dot(ind_x.dot(theta) - ind_y)\n",
    "            eta=0.001\n",
    "            theta = theta - eta * gradients\n",
    "            c_hist[epoch] = cost_function_SSE(ind_x,ind_y,theta)\n",
    "    return theta,c_hist"
   ]
  },
  {
   "cell_type": "code",
   "execution_count": 52,
   "metadata": {},
   "outputs": [],
   "source": [
    "th_n,cost_history = stochastic_gradient_descent(new_X_train,Y_train,thetas)"
   ]
  },
  {
   "cell_type": "markdown",
   "metadata": {},
   "source": [
    "<h3 align=\"center\">یهترین وزن های بدست آمده بر اساس تابع گرادیان کاهشی تصادفی </h3>"
   ]
  },
  {
   "cell_type": "code",
   "execution_count": 53,
   "metadata": {},
   "outputs": [
    {
     "data": {
      "text/plain": [
       "age          10308.135417\n",
       "gender        -523.565642\n",
       "bmi           6752.256953\n",
       "children      2128.876227\n",
       "smoker       22043.862850\n",
       "northeast     2678.787709\n",
       "northwest     1882.024655\n",
       "southeast     1631.930143\n",
       "southwest     1347.585670\n",
       "dtype: float64"
      ]
     },
     "execution_count": 53,
     "metadata": {},
     "output_type": "execute_result"
    }
   ],
   "source": [
    "th_n"
   ]
  },
  {
   "cell_type": "markdown",
   "metadata": {},
   "source": [
    "<h3 align=\"center\">محاسبه ی خطا بین لیبل های واقعی و لیبل های پیش بینی شده بر اساس بهترین وزن بدست آمده بر اساس فرمول بسته برای داده های آموزش و تست </h3>"
   ]
  },
  {
   "cell_type": "code",
   "execution_count": 54,
   "metadata": {},
   "outputs": [
    {
     "data": {
      "text/plain": [
       "36605406097.23215"
      ]
     },
     "execution_count": 54,
     "metadata": {},
     "output_type": "execute_result"
    }
   ],
   "source": [
    "cost_function_SSE(new_X_train,Y_train,th_n)"
   ]
  },
  {
   "cell_type": "code",
   "execution_count": 55,
   "metadata": {},
   "outputs": [
    {
     "data": {
      "text/plain": [
       "6815858319.327415"
      ]
     },
     "execution_count": 55,
     "metadata": {},
     "output_type": "execute_result"
    }
   ],
   "source": [
    "cost_function_SSE(new_X_test,Y_test,th_n)"
   ]
  },
  {
   "cell_type": "markdown",
   "metadata": {},
   "source": [
    "<h3 align=\"center\">پیاده سازی فرمول بسته ی رگرسیون خطی تعمیم یافتع به همراه تنظیم </h3>"
   ]
  },
  {
   "cell_type": "code",
   "execution_count": 56,
   "metadata": {},
   "outputs": [],
   "source": [
    "class Optimal_Formula_MultipleLinearRegression_wih_Regularization:\n",
    "    def fit(self, X, y,l):\n",
    "        X = np.array(X)\n",
    "        y = np.array(y)\n",
    "        self.Best_Weight = np.linalg.inv(X.T.dot(X)+l*np.identity(9)).dot(X.T).dot(y)\n",
    "        \n",
    "    def predict(self, X):\n",
    "        X = np.array(X)\n",
    "        result = np.zeros(len(X))\n",
    "        for i in range(X.shape[1]):\n",
    "            result += X[:, i] * self.Best_Weight[i]\n",
    "        return result\n",
    "    \n",
    "    def Best_Weight(self):\n",
    "        return self.Best_Weight"
   ]
  },
  {
   "cell_type": "markdown",
   "metadata": {},
   "source": [
    "<h1>5fold<h1/>"
   ]
  },
  {
   "cell_type": "markdown",
   "metadata": {},
   "source": [
    "<h3>fold number 1<h3/>"
   ]
  },
  {
   "cell_type": "markdown",
   "metadata": {},
   "source": [
    "<h3 align=\"center\">تقسیم بندی داده های آموزش به دو بخش آموزشی و اعتبار سنجی و به نسبت 80 20  </h3>"
   ]
  },
  {
   "cell_type": "code",
   "execution_count": 58,
   "metadata": {},
   "outputs": [],
   "source": [
    "X_train_data_kf1 = X_train[200:]\n",
    "Y_train_data_kf1=Y_train[200:]\n",
    "X_val_data_kf1=X_train[:200]\n",
    "Y_val_data_kf1=Y_train[:200]"
   ]
  },
  {
   "cell_type": "markdown",
   "metadata": {},
   "source": [
    "<h3 align=\"center\">ریست کردن ایندکس داده های آموزشی </h3>"
   ]
  },
  {
   "cell_type": "code",
   "execution_count": 59,
   "metadata": {},
   "outputs": [],
   "source": [
    "X_train_data_kf1=X_train_data_kf1.reset_index(drop=True)\n",
    "Y_train_data_kf1=Y_train_data_kf1.reset_index(drop=True)"
   ]
  },
  {
   "cell_type": "code",
   "execution_count": 60,
   "metadata": {},
   "outputs": [
    {
     "data": {
      "text/html": [
       "<div>\n",
       "<style scoped>\n",
       "    .dataframe tbody tr th:only-of-type {\n",
       "        vertical-align: middle;\n",
       "    }\n",
       "\n",
       "    .dataframe tbody tr th {\n",
       "        vertical-align: top;\n",
       "    }\n",
       "\n",
       "    .dataframe thead th {\n",
       "        text-align: right;\n",
       "    }\n",
       "</style>\n",
       "<table border=\"1\" class=\"dataframe\">\n",
       "  <thead>\n",
       "    <tr style=\"text-align: right;\">\n",
       "      <th></th>\n",
       "      <th>age</th>\n",
       "      <th>gender</th>\n",
       "      <th>bmi</th>\n",
       "      <th>children</th>\n",
       "      <th>smoker</th>\n",
       "      <th>northeast</th>\n",
       "      <th>northwest</th>\n",
       "      <th>southeast</th>\n",
       "      <th>southwest</th>\n",
       "    </tr>\n",
       "  </thead>\n",
       "  <tbody>\n",
       "    <tr>\n",
       "      <th>0</th>\n",
       "      <td>361</td>\n",
       "      <td>1</td>\n",
       "      <td>32.110</td>\n",
       "      <td>0</td>\n",
       "      <td>0</td>\n",
       "      <td>0</td>\n",
       "      <td>1</td>\n",
       "      <td>0</td>\n",
       "      <td>0</td>\n",
       "    </tr>\n",
       "    <tr>\n",
       "      <th>1</th>\n",
       "      <td>2304</td>\n",
       "      <td>1</td>\n",
       "      <td>32.230</td>\n",
       "      <td>1</td>\n",
       "      <td>0</td>\n",
       "      <td>0</td>\n",
       "      <td>0</td>\n",
       "      <td>1</td>\n",
       "      <td>0</td>\n",
       "    </tr>\n",
       "    <tr>\n",
       "      <th>2</th>\n",
       "      <td>3600</td>\n",
       "      <td>1</td>\n",
       "      <td>24.035</td>\n",
       "      <td>0</td>\n",
       "      <td>0</td>\n",
       "      <td>0</td>\n",
       "      <td>1</td>\n",
       "      <td>0</td>\n",
       "      <td>0</td>\n",
       "    </tr>\n",
       "    <tr>\n",
       "      <th>3</th>\n",
       "      <td>729</td>\n",
       "      <td>1</td>\n",
       "      <td>36.080</td>\n",
       "      <td>0</td>\n",
       "      <td>1</td>\n",
       "      <td>0</td>\n",
       "      <td>0</td>\n",
       "      <td>1</td>\n",
       "      <td>0</td>\n",
       "    </tr>\n",
       "    <tr>\n",
       "      <th>4</th>\n",
       "      <td>2116</td>\n",
       "      <td>0</td>\n",
       "      <td>22.300</td>\n",
       "      <td>0</td>\n",
       "      <td>0</td>\n",
       "      <td>0</td>\n",
       "      <td>0</td>\n",
       "      <td>0</td>\n",
       "      <td>1</td>\n",
       "    </tr>\n",
       "    <tr>\n",
       "      <th>...</th>\n",
       "      <td>...</td>\n",
       "      <td>...</td>\n",
       "      <td>...</td>\n",
       "      <td>...</td>\n",
       "      <td>...</td>\n",
       "      <td>...</td>\n",
       "      <td>...</td>\n",
       "      <td>...</td>\n",
       "      <td>...</td>\n",
       "    </tr>\n",
       "    <tr>\n",
       "      <th>795</th>\n",
       "      <td>1521</td>\n",
       "      <td>1</td>\n",
       "      <td>23.275</td>\n",
       "      <td>3</td>\n",
       "      <td>0</td>\n",
       "      <td>1</td>\n",
       "      <td>0</td>\n",
       "      <td>0</td>\n",
       "      <td>0</td>\n",
       "    </tr>\n",
       "    <tr>\n",
       "      <th>796</th>\n",
       "      <td>1521</td>\n",
       "      <td>1</td>\n",
       "      <td>34.100</td>\n",
       "      <td>3</td>\n",
       "      <td>0</td>\n",
       "      <td>0</td>\n",
       "      <td>0</td>\n",
       "      <td>0</td>\n",
       "      <td>1</td>\n",
       "    </tr>\n",
       "    <tr>\n",
       "      <th>797</th>\n",
       "      <td>3969</td>\n",
       "      <td>1</td>\n",
       "      <td>36.850</td>\n",
       "      <td>0</td>\n",
       "      <td>0</td>\n",
       "      <td>0</td>\n",
       "      <td>0</td>\n",
       "      <td>1</td>\n",
       "      <td>0</td>\n",
       "    </tr>\n",
       "    <tr>\n",
       "      <th>798</th>\n",
       "      <td>1089</td>\n",
       "      <td>1</td>\n",
       "      <td>36.290</td>\n",
       "      <td>3</td>\n",
       "      <td>0</td>\n",
       "      <td>1</td>\n",
       "      <td>0</td>\n",
       "      <td>0</td>\n",
       "      <td>0</td>\n",
       "    </tr>\n",
       "    <tr>\n",
       "      <th>799</th>\n",
       "      <td>1296</td>\n",
       "      <td>1</td>\n",
       "      <td>26.885</td>\n",
       "      <td>0</td>\n",
       "      <td>0</td>\n",
       "      <td>0</td>\n",
       "      <td>1</td>\n",
       "      <td>0</td>\n",
       "      <td>0</td>\n",
       "    </tr>\n",
       "  </tbody>\n",
       "</table>\n",
       "<p>800 rows × 9 columns</p>\n",
       "</div>"
      ],
      "text/plain": [
       "      age  gender     bmi  children  smoker  northeast  northwest  southeast  \\\n",
       "0     361       1  32.110         0       0          0          1          0   \n",
       "1    2304       1  32.230         1       0          0          0          1   \n",
       "2    3600       1  24.035         0       0          0          1          0   \n",
       "3     729       1  36.080         0       1          0          0          1   \n",
       "4    2116       0  22.300         0       0          0          0          0   \n",
       "..    ...     ...     ...       ...     ...        ...        ...        ...   \n",
       "795  1521       1  23.275         3       0          1          0          0   \n",
       "796  1521       1  34.100         3       0          0          0          0   \n",
       "797  3969       1  36.850         0       0          0          0          1   \n",
       "798  1089       1  36.290         3       0          1          0          0   \n",
       "799  1296       1  26.885         0       0          0          1          0   \n",
       "\n",
       "     southwest  \n",
       "0            0  \n",
       "1            0  \n",
       "2            0  \n",
       "3            0  \n",
       "4            1  \n",
       "..         ...  \n",
       "795          0  \n",
       "796          1  \n",
       "797          0  \n",
       "798          0  \n",
       "799          0  \n",
       "\n",
       "[800 rows x 9 columns]"
      ]
     },
     "execution_count": 60,
     "metadata": {},
     "output_type": "execute_result"
    }
   ],
   "source": [
    "X_train_data_kf1"
   ]
  },
  {
   "cell_type": "code",
   "execution_count": 61,
   "metadata": {},
   "outputs": [
    {
     "data": {
      "text/plain": [
       "0       2130.67590\n",
       "1       8871.15170\n",
       "2      13012.20865\n",
       "3      37133.89820\n",
       "4       7147.10500\n",
       "          ...     \n",
       "795     7986.47525\n",
       "796     7418.52200\n",
       "797    13887.96850\n",
       "798     6551.75010\n",
       "799     5267.81815\n",
       "Name: charges, Length: 800, dtype: float64"
      ]
     },
     "execution_count": 61,
     "metadata": {},
     "output_type": "execute_result"
    }
   ],
   "source": [
    "Y_train_data_kf1"
   ]
  },
  {
   "cell_type": "markdown",
   "metadata": {},
   "source": [
    "<h3 align=\"center\">ریست کردن ایندکس داده های اعتبار سنجی </h3>"
   ]
  },
  {
   "cell_type": "code",
   "execution_count": 62,
   "metadata": {},
   "outputs": [],
   "source": [
    "X_val_data_kf1=X_val_data_kf1.reset_index(drop=True)\n",
    "Y_val_data_kf1=Y_val_data_kf1.reset_index(drop=True)"
   ]
  },
  {
   "cell_type": "code",
   "execution_count": 63,
   "metadata": {},
   "outputs": [
    {
     "data": {
      "text/html": [
       "<div>\n",
       "<style scoped>\n",
       "    .dataframe tbody tr th:only-of-type {\n",
       "        vertical-align: middle;\n",
       "    }\n",
       "\n",
       "    .dataframe tbody tr th {\n",
       "        vertical-align: top;\n",
       "    }\n",
       "\n",
       "    .dataframe thead th {\n",
       "        text-align: right;\n",
       "    }\n",
       "</style>\n",
       "<table border=\"1\" class=\"dataframe\">\n",
       "  <thead>\n",
       "    <tr style=\"text-align: right;\">\n",
       "      <th></th>\n",
       "      <th>age</th>\n",
       "      <th>gender</th>\n",
       "      <th>bmi</th>\n",
       "      <th>children</th>\n",
       "      <th>smoker</th>\n",
       "      <th>northeast</th>\n",
       "      <th>northwest</th>\n",
       "      <th>southeast</th>\n",
       "      <th>southwest</th>\n",
       "    </tr>\n",
       "  </thead>\n",
       "  <tbody>\n",
       "    <tr>\n",
       "      <th>0</th>\n",
       "      <td>361</td>\n",
       "      <td>1</td>\n",
       "      <td>27.900</td>\n",
       "      <td>0</td>\n",
       "      <td>1</td>\n",
       "      <td>0</td>\n",
       "      <td>0</td>\n",
       "      <td>0</td>\n",
       "      <td>1</td>\n",
       "    </tr>\n",
       "    <tr>\n",
       "      <th>1</th>\n",
       "      <td>324</td>\n",
       "      <td>0</td>\n",
       "      <td>33.770</td>\n",
       "      <td>1</td>\n",
       "      <td>0</td>\n",
       "      <td>0</td>\n",
       "      <td>0</td>\n",
       "      <td>1</td>\n",
       "      <td>0</td>\n",
       "    </tr>\n",
       "    <tr>\n",
       "      <th>2</th>\n",
       "      <td>784</td>\n",
       "      <td>0</td>\n",
       "      <td>33.000</td>\n",
       "      <td>3</td>\n",
       "      <td>0</td>\n",
       "      <td>0</td>\n",
       "      <td>0</td>\n",
       "      <td>1</td>\n",
       "      <td>0</td>\n",
       "    </tr>\n",
       "    <tr>\n",
       "      <th>3</th>\n",
       "      <td>1089</td>\n",
       "      <td>0</td>\n",
       "      <td>22.705</td>\n",
       "      <td>0</td>\n",
       "      <td>0</td>\n",
       "      <td>0</td>\n",
       "      <td>1</td>\n",
       "      <td>0</td>\n",
       "      <td>0</td>\n",
       "    </tr>\n",
       "    <tr>\n",
       "      <th>4</th>\n",
       "      <td>1024</td>\n",
       "      <td>0</td>\n",
       "      <td>28.880</td>\n",
       "      <td>0</td>\n",
       "      <td>0</td>\n",
       "      <td>0</td>\n",
       "      <td>1</td>\n",
       "      <td>0</td>\n",
       "      <td>0</td>\n",
       "    </tr>\n",
       "    <tr>\n",
       "      <th>...</th>\n",
       "      <td>...</td>\n",
       "      <td>...</td>\n",
       "      <td>...</td>\n",
       "      <td>...</td>\n",
       "      <td>...</td>\n",
       "      <td>...</td>\n",
       "      <td>...</td>\n",
       "      <td>...</td>\n",
       "      <td>...</td>\n",
       "    </tr>\n",
       "    <tr>\n",
       "      <th>195</th>\n",
       "      <td>361</td>\n",
       "      <td>0</td>\n",
       "      <td>30.590</td>\n",
       "      <td>0</td>\n",
       "      <td>0</td>\n",
       "      <td>0</td>\n",
       "      <td>1</td>\n",
       "      <td>0</td>\n",
       "      <td>0</td>\n",
       "    </tr>\n",
       "    <tr>\n",
       "      <th>196</th>\n",
       "      <td>1521</td>\n",
       "      <td>1</td>\n",
       "      <td>32.800</td>\n",
       "      <td>0</td>\n",
       "      <td>0</td>\n",
       "      <td>0</td>\n",
       "      <td>0</td>\n",
       "      <td>0</td>\n",
       "      <td>1</td>\n",
       "    </tr>\n",
       "    <tr>\n",
       "      <th>197</th>\n",
       "      <td>2025</td>\n",
       "      <td>1</td>\n",
       "      <td>28.600</td>\n",
       "      <td>2</td>\n",
       "      <td>0</td>\n",
       "      <td>0</td>\n",
       "      <td>0</td>\n",
       "      <td>1</td>\n",
       "      <td>0</td>\n",
       "    </tr>\n",
       "    <tr>\n",
       "      <th>198</th>\n",
       "      <td>2601</td>\n",
       "      <td>1</td>\n",
       "      <td>18.050</td>\n",
       "      <td>0</td>\n",
       "      <td>0</td>\n",
       "      <td>0</td>\n",
       "      <td>1</td>\n",
       "      <td>0</td>\n",
       "      <td>0</td>\n",
       "    </tr>\n",
       "    <tr>\n",
       "      <th>199</th>\n",
       "      <td>4096</td>\n",
       "      <td>1</td>\n",
       "      <td>39.330</td>\n",
       "      <td>0</td>\n",
       "      <td>0</td>\n",
       "      <td>1</td>\n",
       "      <td>0</td>\n",
       "      <td>0</td>\n",
       "      <td>0</td>\n",
       "    </tr>\n",
       "  </tbody>\n",
       "</table>\n",
       "<p>200 rows × 9 columns</p>\n",
       "</div>"
      ],
      "text/plain": [
       "      age  gender     bmi  children  smoker  northeast  northwest  southeast  \\\n",
       "0     361       1  27.900         0       1          0          0          0   \n",
       "1     324       0  33.770         1       0          0          0          1   \n",
       "2     784       0  33.000         3       0          0          0          1   \n",
       "3    1089       0  22.705         0       0          0          1          0   \n",
       "4    1024       0  28.880         0       0          0          1          0   \n",
       "..    ...     ...     ...       ...     ...        ...        ...        ...   \n",
       "195   361       0  30.590         0       0          0          1          0   \n",
       "196  1521       1  32.800         0       0          0          0          0   \n",
       "197  2025       1  28.600         2       0          0          0          1   \n",
       "198  2601       1  18.050         0       0          0          1          0   \n",
       "199  4096       1  39.330         0       0          1          0          0   \n",
       "\n",
       "     southwest  \n",
       "0            1  \n",
       "1            0  \n",
       "2            0  \n",
       "3            0  \n",
       "4            0  \n",
       "..         ...  \n",
       "195          0  \n",
       "196          1  \n",
       "197          0  \n",
       "198          0  \n",
       "199          0  \n",
       "\n",
       "[200 rows x 9 columns]"
      ]
     },
     "execution_count": 63,
     "metadata": {},
     "output_type": "execute_result"
    }
   ],
   "source": [
    "X_val_data_kf1"
   ]
  },
  {
   "cell_type": "code",
   "execution_count": 64,
   "metadata": {},
   "outputs": [
    {
     "data": {
      "text/plain": [
       "0      16884.92400\n",
       "1       1725.55230\n",
       "2       4449.46200\n",
       "3      21984.47061\n",
       "4       3866.85520\n",
       "          ...     \n",
       "195     1639.56310\n",
       "196     5649.71500\n",
       "197     8516.82900\n",
       "198     9644.25250\n",
       "199    14901.51670\n",
       "Name: charges, Length: 200, dtype: float64"
      ]
     },
     "execution_count": 64,
     "metadata": {},
     "output_type": "execute_result"
    }
   ],
   "source": [
    "Y_val_data_kf1"
   ]
  },
  {
   "cell_type": "markdown",
   "metadata": {},
   "source": [
    "<h3 align=\"center\">انتخاب بهترین ضریب تنظیم </h3>"
   ]
  },
  {
   "cell_type": "code",
   "execution_count": 65,
   "metadata": {},
   "outputs": [],
   "source": [
    "list_landa=[10,1,0.1,0.01,0.001,0.0001]\n",
    "list_error_kf1=[]"
   ]
  },
  {
   "cell_type": "code",
   "execution_count": 66,
   "metadata": {},
   "outputs": [],
   "source": [
    "MLPR = Optimal_Formula_MultipleLinearRegression_wih_Regularization()"
   ]
  },
  {
   "cell_type": "code",
   "execution_count": 67,
   "metadata": {},
   "outputs": [],
   "source": [
    "for i in range(len(list_landa)):\n",
    "    MLPR.fit(X_train_data_kf1, Y_train_data_kf1,list_landa[i])\n",
    "    list_error_kf1.append(cost_function_SSE(X_val_data_kf1,Y_val_data_kf1,MLPR.Best_Weight))"
   ]
  },
  {
   "cell_type": "markdown",
   "metadata": {},
   "source": [
    "<h3 align=\"center\">لیست  خطا به ازای ضرایب تنظیم مختلف در هر فولد </h3>"
   ]
  },
  {
   "cell_type": "code",
   "execution_count": 71,
   "metadata": {},
   "outputs": [
    {
     "data": {
      "text/plain": [
       "[6982730166.841026,\n",
       " 6758757804.405446,\n",
       " 6758045746.681459,\n",
       " 6758963077.019268,\n",
       " 6759067568.867414,\n",
       " 6759078149.200263]"
      ]
     },
     "execution_count": 71,
     "metadata": {},
     "output_type": "execute_result"
    }
   ],
   "source": [
    "list_error_kf1"
   ]
  },
  {
   "cell_type": "markdown",
   "metadata": {},
   "source": [
    "<h3 align=\"center\">تابعی برای رسم روند تغییرات خطا بر حسب ضریب تنظیم در هر فولد</h3>"
   ]
  },
  {
   "cell_type": "code",
   "execution_count": 72,
   "metadata": {},
   "outputs": [],
   "source": [
    "def accuracy_diagram(list_landa,list_error):\n",
    "    \n",
    "    plt.xlim(0,10) \n",
    "    plt.plot(list_landa,list_error)\n",
    "    plt.show()"
   ]
  },
  {
   "cell_type": "code",
   "execution_count": 73,
   "metadata": {},
   "outputs": [
    {
     "data": {
      "image/png": "[encoded data removed]",
      "text/plain": [
       "<Figure size 432x288 with 1 Axes>"
      ]
     },
     "metadata": {
      "needs_background": "light"
     },
     "output_type": "display_data"
    }
   ],
   "source": [
    "accuracy_diagram(list_landa,list_error_kf1)"
   ]
  },
  {
   "cell_type": "markdown",
   "metadata": {},
   "source": [
    "<h3>fold number 2<h3/>"
   ]
  },
  {
   "cell_type": "code",
   "execution_count": 74,
   "metadata": {},
   "outputs": [],
   "source": [
    "X_train_data_kf2 = X_train[:]\n",
    "Y_train_data_kf2=Y_train[:]\n",
    "X_val_data_kf2=X_train[200:400]\n",
    "Y_val_data_kf2=Y_train[200:400]"
   ]
  },
  {
   "cell_type": "code",
   "execution_count": 75,
   "metadata": {},
   "outputs": [],
   "source": [
    "X_train_data_kf2=X_train_data_kf2.drop(X_val_data_kf2.index)"
   ]
  },
  {
   "cell_type": "code",
   "execution_count": 76,
   "metadata": {},
   "outputs": [],
   "source": [
    "Y_train_data_kf2=Y_train_data_kf2.drop(Y_val_data_kf2.index)"
   ]
  },
  {
   "cell_type": "code",
   "execution_count": 77,
   "metadata": {},
   "outputs": [],
   "source": [
    "X_train_data_kf2=X_train_data_kf2.reset_index(drop=True)\n",
    "Y_train_data_kf2=Y_train_data_kf2.reset_index(drop=True)\n",
    "X_val_data_kf2=X_val_data_kf2.reset_index(drop=True)\n",
    "Y_val_data_kf2=Y_val_data_kf2.reset_index(drop=True)"
   ]
  },
  {
   "cell_type": "code",
   "execution_count": 78,
   "metadata": {},
   "outputs": [],
   "source": [
    "list_error_kf2=[]"
   ]
  },
  {
   "cell_type": "code",
   "execution_count": 79,
   "metadata": {},
   "outputs": [],
   "source": [
    "MLPR = Optimal_Formula_MultipleLinearRegression_wih_Regularization()"
   ]
  },
  {
   "cell_type": "code",
   "execution_count": 80,
   "metadata": {},
   "outputs": [],
   "source": [
    "for i in range(len(list_landa)):\n",
    "    MLPR.fit(X_train_data_kf2, Y_train_data_kf2,list_landa[i])\n",
    "    list_error_kf2.append(cost_function_SSE(X_val_data_kf2,Y_val_data_kf2,MLPR.Best_Weight))"
   ]
  },
  {
   "cell_type": "code",
   "execution_count": 81,
   "metadata": {},
   "outputs": [
    {
     "data": {
      "text/plain": [
       "[8138686879.169777,\n",
       " 7984464940.68418,\n",
       " 8002102439.933744,\n",
       " 8005219494.120029,\n",
       " 8005548376.456602,\n",
       " 8005581440.945871]"
      ]
     },
     "execution_count": 81,
     "metadata": {},
     "output_type": "execute_result"
    }
   ],
   "source": [
    "list_error_kf2"
   ]
  },
  {
   "cell_type": "code",
   "execution_count": 82,
   "metadata": {},
   "outputs": [
    {
     "data": {
      "image/png": "[encoded data removed]",
      "text/plain": [
       "<Figure size 432x288 with 1 Axes>"
      ]
     },
     "metadata": {
      "needs_background": "light"
     },
     "output_type": "display_data"
    }
   ],
   "source": [
    "accuracy_diagram(list_landa,list_error_kf2)"
   ]
  },
  {
   "cell_type": "markdown",
   "metadata": {},
   "source": [
    "<h3>fold number 3<h3/>"
   ]
  },
  {
   "cell_type": "code",
   "execution_count": 83,
   "metadata": {},
   "outputs": [],
   "source": [
    "X_train_data_kf3 = X_train[:]\n",
    "Y_train_data_kf3=Y_train[:]\n",
    "X_val_data_kf3=X_train[400:600]\n",
    "Y_val_data_kf3=Y_train[400:600]"
   ]
  },
  {
   "cell_type": "code",
   "execution_count": 84,
   "metadata": {},
   "outputs": [],
   "source": [
    "X_train_data_kf3=X_train_data_kf3.drop(X_val_data_kf3.index)\n",
    "Y_train_data_kf3=Y_train_data_kf3.drop(Y_val_data_kf3.index)"
   ]
  },
  {
   "cell_type": "code",
   "execution_count": 85,
   "metadata": {},
   "outputs": [],
   "source": [
    "X_train_data_kf3=X_train_data_kf3.reset_index(drop=True)\n",
    "Y_train_data_kf3=Y_train_data_kf3.reset_index(drop=True)\n",
    "X_val_data_kf3=X_val_data_kf3.reset_index(drop=True)\n",
    "Y_val_data_kf3=Y_val_data_kf3.reset_index(drop=True)"
   ]
  },
  {
   "cell_type": "code",
   "execution_count": 86,
   "metadata": {},
   "outputs": [],
   "source": [
    "list_error_kf3=[]"
   ]
  },
  {
   "cell_type": "code",
   "execution_count": 87,
   "metadata": {},
   "outputs": [],
   "source": [
    "MLPR = Optimal_Formula_MultipleLinearRegression_wih_Regularization()"
   ]
  },
  {
   "cell_type": "code",
   "execution_count": 88,
   "metadata": {},
   "outputs": [],
   "source": [
    "for i in range(len(list_landa)):\n",
    "    MLPR.fit(X_train_data_kf3, Y_train_data_kf3,list_landa[i])\n",
    "    list_error_kf3.append(cost_function_SSE(X_val_data_kf3,Y_val_data_kf3,MLPR.Best_Weight))"
   ]
  },
  {
   "cell_type": "code",
   "execution_count": 89,
   "metadata": {},
   "outputs": [
    {
     "data": {
      "text/plain": [
       "[8941756745.13215,\n",
       " 8621147029.81699,\n",
       " 8605399800.28032,\n",
       " 8604890914.30724,\n",
       " 8604854256.68135,\n",
       " 8604850737.706411]"
      ]
     },
     "execution_count": 89,
     "metadata": {},
     "output_type": "execute_result"
    }
   ],
   "source": [
    "list_error_kf3"
   ]
  },
  {
   "cell_type": "code",
   "execution_count": 90,
   "metadata": {},
   "outputs": [
    {
     "data": {
      "image/png": "[encoded data removed]",
      "text/plain": [
       "<Figure size 432x288 with 1 Axes>"
      ]
     },
     "metadata": {
      "needs_background": "light"
     },
     "output_type": "display_data"
    }
   ],
   "source": [
    "accuracy_diagram(list_landa,list_error_kf3)"
   ]
  },
  {
   "cell_type": "markdown",
   "metadata": {},
   "source": [
    "<h3>fold number 4<h3/>"
   ]
  },
  {
   "cell_type": "code",
   "execution_count": 91,
   "metadata": {},
   "outputs": [],
   "source": [
    "X_train_data_kf4 = X_train[:]\n",
    "Y_train_data_kf4=Y_train[:]\n",
    "X_val_data_kf4=X_train[600:800]\n",
    "Y_val_data_kf4=Y_train[600:800]"
   ]
  },
  {
   "cell_type": "code",
   "execution_count": 92,
   "metadata": {},
   "outputs": [],
   "source": [
    "X_train_data_kf4=X_train_data_kf4.drop(X_val_data_kf4.index)\n",
    "Y_train_data_kf4=Y_train_data_kf4.drop(Y_val_data_kf4.index)"
   ]
  },
  {
   "cell_type": "code",
   "execution_count": 93,
   "metadata": {},
   "outputs": [],
   "source": [
    "X_train_data_kf4=X_train_data_kf4.reset_index(drop=True)\n",
    "Y_train_data_kf4=Y_train_data_kf4.reset_index(drop=True)\n",
    "X_val_data_kf4=X_val_data_kf4.reset_index(drop=True)\n",
    "Y_val_data_kf4=Y_val_data_kf4.reset_index(drop=True)"
   ]
  },
  {
   "cell_type": "code",
   "execution_count": 94,
   "metadata": {},
   "outputs": [],
   "source": [
    "list_error_kf4=[]"
   ]
  },
  {
   "cell_type": "code",
   "execution_count": 95,
   "metadata": {},
   "outputs": [],
   "source": [
    "MLPR = Optimal_Formula_MultipleLinearRegression_wih_Regularization()"
   ]
  },
  {
   "cell_type": "code",
   "execution_count": 96,
   "metadata": {},
   "outputs": [],
   "source": [
    "for i in range(len(list_landa)):\n",
    "    MLPR.fit(X_train_data_kf4, Y_train_data_kf4,list_landa[i])\n",
    "    list_error_kf4.append(cost_function_SSE(X_val_data_kf4,Y_val_data_kf4,MLPR.Best_Weight))"
   ]
  },
  {
   "cell_type": "code",
   "execution_count": 97,
   "metadata": {},
   "outputs": [
    {
     "data": {
      "text/plain": [
       "[5717933918.411906,\n",
       " 5405722121.591957,\n",
       " 5384742594.161871,\n",
       " 5383307952.892078,\n",
       " 5383173359.507265,\n",
       " 5383159991.67377]"
      ]
     },
     "execution_count": 97,
     "metadata": {},
     "output_type": "execute_result"
    }
   ],
   "source": [
    "list_error_kf4"
   ]
  },
  {
   "cell_type": "code",
   "execution_count": 98,
   "metadata": {},
   "outputs": [
    {
     "data": {
      "image/png": "[encoded data removed]",
      "text/plain": [
       "<Figure size 432x288 with 1 Axes>"
      ]
     },
     "metadata": {
      "needs_background": "light"
     },
     "output_type": "display_data"
    }
   ],
   "source": [
    "accuracy_diagram(list_landa,list_error_kf4)"
   ]
  },
  {
   "cell_type": "markdown",
   "metadata": {},
   "source": [
    "<h3>fold number 5<h3/>"
   ]
  },
  {
   "cell_type": "code",
   "execution_count": 99,
   "metadata": {},
   "outputs": [],
   "source": [
    "X_train_data_kf5 = X_train[:]\n",
    "Y_train_data_kf5=Y_train[:]\n",
    "X_val_data_kf5=X_train[800:]\n",
    "Y_val_data_kf5=Y_train[800:]"
   ]
  },
  {
   "cell_type": "code",
   "execution_count": 100,
   "metadata": {},
   "outputs": [],
   "source": [
    "X_train_data_kf5=X_train_data_kf5.drop(X_val_data_kf5.index)\n",
    "Y_train_data_kf5=Y_train_data_kf5.drop(Y_val_data_kf5.index)"
   ]
  },
  {
   "cell_type": "code",
   "execution_count": 101,
   "metadata": {},
   "outputs": [],
   "source": [
    "X_train_data_kf5=X_train_data_kf5.reset_index(drop=True)\n",
    "Y_train_data_kf5=Y_train_data_kf5.reset_index(drop=True)\n",
    "X_val_data_kf5=X_val_data_kf5.reset_index(drop=True)\n",
    "Y_val_data_kf5=Y_val_data_kf5.reset_index(drop=True)"
   ]
  },
  {
   "cell_type": "code",
   "execution_count": 102,
   "metadata": {},
   "outputs": [],
   "source": [
    "list_error_kf5=[]"
   ]
  },
  {
   "cell_type": "code",
   "execution_count": 103,
   "metadata": {},
   "outputs": [],
   "source": [
    "MLPR = Optimal_Formula_MultipleLinearRegression_wih_Regularization()"
   ]
  },
  {
   "cell_type": "code",
   "execution_count": 104,
   "metadata": {},
   "outputs": [],
   "source": [
    "for i in range(len(list_landa)):\n",
    "    MLPR.fit(X_train_data_kf5, Y_train_data_kf5,list_landa[i])\n",
    "    list_error_kf5.append(cost_function_SSE(X_val_data_kf5,Y_val_data_kf5,MLPR.Best_Weight))"
   ]
  },
  {
   "cell_type": "code",
   "execution_count": 105,
   "metadata": {},
   "outputs": [
    {
     "data": {
      "text/plain": [
       "[6941658546.601015,\n",
       " 6660968473.886366,\n",
       " 6646500891.30027,\n",
       " 6645933618.827795,\n",
       " 6645888665.156082,\n",
       " 6645884291.260776]"
      ]
     },
     "execution_count": 105,
     "metadata": {},
     "output_type": "execute_result"
    }
   ],
   "source": [
    "list_error_kf5"
   ]
  },
  {
   "cell_type": "code",
   "execution_count": 106,
   "metadata": {},
   "outputs": [
    {
     "data": {
      "image/png": "[encoded data removed]",
      "text/plain": [
       "<Figure size 432x288 with 1 Axes>"
      ]
     },
     "metadata": {
      "needs_background": "light"
     },
     "output_type": "display_data"
    }
   ],
   "source": [
    "accuracy_diagram(list_landa,list_error_kf5)"
   ]
  },
  {
   "cell_type": "markdown",
   "metadata": {},
   "source": [
    "<h3 align=\"center\">پیدا کردن بهترین ضریب تنظیم بر اساس 5 فولد و ضرایب تنظیم مفروض در مسئله </h3>"
   ]
  },
  {
   "cell_type": "code",
   "execution_count": 107,
   "metadata": {},
   "outputs": [],
   "source": [
    "res=[]\n",
    "for i in range(len(list_error_kf1)):\n",
    "    res.append(list_error_kf1[i]+list_error_kf2[i]+list_error_kf3[i]+list_error_kf4[i]+list_error_kf5[i])"
   ]
  },
  {
   "cell_type": "code",
   "execution_count": 108,
   "metadata": {},
   "outputs": [
    {
     "data": {
      "text/plain": [
       "35396791472.357666"
      ]
     },
     "execution_count": 108,
     "metadata": {},
     "output_type": "execute_result"
    }
   ],
   "source": [
    "np.min(res)"
   ]
  },
  {
   "cell_type": "markdown",
   "metadata": {},
   "source": [
    "<h3 align=\"center\">بنابر پارامترهای در نظر گرفته شده در صورت سوال و مقادیر در نظر گرفته شده در تابع، بهترین ضریب تنظیم 0.1 بدست آمد  </h3>"
   ]
  },
  {
   "cell_type": "code",
   "execution_count": 111,
   "metadata": {},
   "outputs": [
    {
     "data": {
      "text/plain": [
       "array([6.12046104e+09, 5.90517673e+09, 5.89946525e+09, 5.89971918e+09,\n",
       "       5.89975537e+09, 5.89975910e+09])"
      ]
     },
     "execution_count": 111,
     "metadata": {},
     "output_type": "execute_result"
    }
   ],
   "source": [
    "val_error=np.array(res)/6\n",
    "val_error"
   ]
  },
  {
   "cell_type": "markdown",
   "metadata": {},
   "source": [
    "<h3 align=\"center\">رسم نمودار روند تغییرات میانگین خطا (در همه ی فولدها) بر اساس ضرایب تنظیم مختلف </h3>"
   ]
  },
  {
   "cell_type": "code",
   "execution_count": 112,
   "metadata": {},
   "outputs": [
    {
     "data": {
      "image/png": "[encoded data removed]",
      "text/plain": [
       "<Figure size 432x288 with 1 Axes>"
      ]
     },
     "metadata": {
      "needs_background": "light"
     },
     "output_type": "display_data"
    }
   ],
   "source": [
    "accuracy_diagram(list_landa,val_error)"
   ]
  },
  {
   "cell_type": "markdown",
   "metadata": {},
   "source": [
    "<h3 align=\"center\">بهترین میزان خطا به ازای ضریب تنظیم 0.1 </h3>"
   ]
  },
  {
   "cell_type": "code",
   "execution_count": 113,
   "metadata": {},
   "outputs": [
    {
     "data": {
      "text/plain": [
       "5899465245.392944"
      ]
     },
     "execution_count": 113,
     "metadata": {},
     "output_type": "execute_result"
    }
   ],
   "source": [
    "Best_Val_error=np.min(val_Acc)#0.1\n",
    "Best_Val_error"
   ]
  },
  {
   "cell_type": "markdown",
   "metadata": {},
   "source": [
    "<h3 align=\"center\">پیدا کردن بهترین وزن ها بر اساس ضریب تنظیم 0.1 و پیش بینی بر روی داده های تست </h3>"
   ]
  },
  {
   "cell_type": "code",
   "execution_count": 114,
   "metadata": {},
   "outputs": [],
   "source": [
    "MLPR = Optimal_Formula_MultipleLinearRegression_wih_Regularization()"
   ]
  },
  {
   "cell_type": "code",
   "execution_count": 115,
   "metadata": {},
   "outputs": [],
   "source": [
    "MLPR.fit(X_train, Y_train,0.1)"
   ]
  },
  {
   "cell_type": "markdown",
   "metadata": {},
   "source": [
    "<h3 align=\"center\">محاسبه ی خطا بر روی داده های تست </h3>"
   ]
  },
  {
   "cell_type": "code",
   "execution_count": 118,
   "metadata": {},
   "outputs": [
    {
     "data": {
      "text/plain": [
       "6557799086.168615"
      ]
     },
     "execution_count": 118,
     "metadata": {},
     "output_type": "execute_result"
    }
   ],
   "source": [
    "cost_function_SSE(X_test,Y_test,MLPR.Best_Weight)"
   ]
  },
  {
   "cell_type": "markdown",
   "metadata": {},
   "source": [
    "<h3 align=\"center\">محاسبه ی خطا بر روی داده های آموزش </h3>"
   ]
  },
  {
   "cell_type": "code",
   "execution_count": 120,
   "metadata": {},
   "outputs": [
    {
     "data": {
      "text/plain": [
       "34674103690.56203"
      ]
     },
     "execution_count": 120,
     "metadata": {},
     "output_type": "execute_result"
    }
   ],
   "source": [
    "cost_function_SSE(X_train,Y_train,MLPR.Best_Weight)"
   ]
  },
  {
   "cell_type": "markdown",
   "metadata": {},
   "source": [
    "<h3 align=\"center\">بهترین وزن های بدست آمده به ازای ضریب تنظیم 0.1 و با استفاده از فرمول بسته ی رگرسیون </h3>"
   ]
  },
  {
   "cell_type": "code",
   "execution_count": 122,
   "metadata": {},
   "outputs": [
    {
     "data": {
      "text/plain": [
       "array([ 3.30500905e+00,  2.74525023e+02,  3.33966177e+02,  5.51660357e+02,\n",
       "        2.38606968e+04, -7.69939623e+03, -8.17215628e+03, -9.00045597e+03,\n",
       "       -8.98798270e+03])"
      ]
     },
     "execution_count": 122,
     "metadata": {},
     "output_type": "execute_result"
    }
   ],
   "source": [
    "MLPR.Best_Weight"
   ]
  },
  {
   "cell_type": "code",
   "execution_count": null,
   "metadata": {},
   "outputs": [],
   "source": []
  }
 ],
 "metadata": {
  "kernelspec": {
   "display_name": "Python 3",
   "language": "python",
   "name": "python3"
  },
  "language_info": {
   "codemirror_mode": {
    "name": "ipython",
    "version": 3
   },
   "file_extension": ".py",
   "mimetype": "text/x-python",
   "name": "python",
   "nbconvert_exporter": "python",
   "pygments_lexer": "ipython3",
   "version": "3.8.5"
  }
 },
 "nbformat": 4,
 "nbformat_minor": 4
}
