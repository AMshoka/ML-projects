{
 "cells": [
  {
   "cell_type": "markdown",
   "metadata": {},
   "source": [
    "<div class=\"alert alert-info\">\n",
    "    <h2 align=\"center\">سوال پنج قسمت یک </h2>\n",
    "    <h3 align=\"center\">امیرحسین محمدی</h3>\n",
    "    <h3 align=\"center\">99101081</h3>\n",
    "</div>"
   ]
  },
  {
   "cell_type": "markdown",
   "metadata": {},
   "source": [
    "<h3 align=\"center\">فرخوانی کتابخانه مورد استفاده</h3>"
   ]
  },
  {
   "cell_type": "code",
   "execution_count": 23,
   "metadata": {},
   "outputs": [],
   "source": [
    "import pandas as pd\n",
    "import numpy as np\n",
    "import seaborn as sns\n",
    "import matplotlib.pyplot as plt\n",
    "import matplotlib.image as pltimg"
   ]
  },
  {
   "cell_type": "markdown",
   "metadata": {},
   "source": [
    "<h3 align=\"center\">خواندن داده های آموزش </h3>"
   ]
  },
  {
   "cell_type": "code",
   "execution_count": 24,
   "metadata": {},
   "outputs": [
    {
     "name": "stdout",
     "output_type": "stream",
     "text": [
      "     Pregnancies  Glucose  BloodPressure  SkinThickness  Insulin   BMI  \\\n",
      "0              1      164             82             43       67  32.8   \n",
      "1              4       90              0              0        0  28.0   \n",
      "2              1      138             82              0        0  40.1   \n",
      "3              4      110             92              0        0  37.6   \n",
      "4              2       93             64             32      160  38.0   \n",
      "..           ...      ...            ...            ...      ...   ...   \n",
      "609            1      193             50             16      375  25.9   \n",
      "610            1      100             66             15       56  23.6   \n",
      "611            5      143             78              0        0  45.0   \n",
      "612            4      184             78             39      277  37.0   \n",
      "613            2       87              0             23        0  28.9   \n",
      "\n",
      "     DiabetesPedigreeFunction  Age  Outcome  \n",
      "0                       0.341   50    False  \n",
      "1                       0.610   31    False  \n",
      "2                       0.236   28    False  \n",
      "3                       0.191   30    False  \n",
      "4                       0.674   23     True  \n",
      "..                        ...  ...      ...  \n",
      "609                     0.655   24    False  \n",
      "610                     0.666   26    False  \n",
      "611                     0.190   47    False  \n",
      "612                     0.264   31     True  \n",
      "613                     0.773   25    False  \n",
      "\n",
      "[614 rows x 9 columns]\n"
     ]
    }
   ],
   "source": [
    "Train_Diabetes = pd.read_csv(\"Train.csv\")\n",
    "\n",
    "print(Train_Diabetes) "
   ]
  },
  {
   "cell_type": "markdown",
   "metadata": {},
   "source": [
    "<h3 align=\"center\">خواندن داده های تست </h3>"
   ]
  },
  {
   "cell_type": "code",
   "execution_count": 25,
   "metadata": {},
   "outputs": [
    {
     "name": "stdout",
     "output_type": "stream",
     "text": [
      "     Pregnancies  Glucose  BloodPressure  SkinThickness  Insulin   BMI  \\\n",
      "0              7      160             54             32      175  30.5   \n",
      "1              5      115             98              0        0  52.9   \n",
      "2              5      189             64             33      325  31.2   \n",
      "3              1      173             74              0        0  36.8   \n",
      "4              6      124             72              0        0  27.6   \n",
      "..           ...      ...            ...            ...      ...   ...   \n",
      "149            0      165             76             43      255  47.9   \n",
      "150            2       88             74             19       53  29.0   \n",
      "151            0      135             94             46      145  40.6   \n",
      "152            1       89             66             23       94  28.1   \n",
      "153            7      133             84              0        0  40.2   \n",
      "\n",
      "     DiabetesPedigreeFunction  Age  Outcome  \n",
      "0                       0.588   39     True  \n",
      "1                       0.209   28     True  \n",
      "2                       0.583   29     True  \n",
      "3                       0.088   38     True  \n",
      "4                       0.368   29     True  \n",
      "..                        ...  ...      ...  \n",
      "149                     0.259   26    False  \n",
      "150                     0.229   22    False  \n",
      "151                     0.284   26    False  \n",
      "152                     0.167   21    False  \n",
      "153                     0.696   37    False  \n",
      "\n",
      "[154 rows x 9 columns]\n"
     ]
    }
   ],
   "source": [
    "Test_Diabetes = pd.read_csv(\"Test.csv\")\n",
    "\n",
    "print(Test_Diabetes) "
   ]
  },
  {
   "cell_type": "markdown",
   "metadata": {},
   "source": [
    "<h3 align=\"center\">تعریف یک تابع برای رسم باکس پلات بر روی داده های آموزش </h3>"
   ]
  },
  {
   "cell_type": "code",
   "execution_count": 26,
   "metadata": {},
   "outputs": [],
   "source": [
    "def Draw_box_plot(x,y):\n",
    "    sns.set_theme()\n",
    "    fig = plt.figure(figsize =(10, 12)) \n",
    "    ax = sns.boxplot(y,x)"
   ]
  },
  {
   "cell_type": "code",
   "execution_count": 27,
   "metadata": {},
   "outputs": [
    {
     "name": "stderr",
     "output_type": "stream",
     "text": [
      "C:\\Users\\asus\\anaconda3\\lib\\site-packages\\seaborn\\_decorators.py:36: FutureWarning: Pass the following variables as keyword args: x, y. From version 0.12, the only valid positional argument will be `data`, and passing other arguments without an explicit keyword will result in an error or misinterpretation.\n",
      "  warnings.warn(\n"
     ]
    },
    {
     "data": {
      "image/png": "[encoded data removed]",
      "text/plain": [
       "<Figure size 720x864 with 1 Axes>"
      ]
     },
     "metadata": {},
     "output_type": "display_data"
    }
   ],
   "source": [
    "Draw_box_plot(Train_Diabetes['Pregnancies'],Train_Diabetes['Outcome'])"
   ]
  },
  {
   "cell_type": "code",
   "execution_count": 28,
   "metadata": {},
   "outputs": [
    {
     "name": "stderr",
     "output_type": "stream",
     "text": [
      "C:\\Users\\asus\\anaconda3\\lib\\site-packages\\seaborn\\_decorators.py:36: FutureWarning: Pass the following variables as keyword args: x, y. From version 0.12, the only valid positional argument will be `data`, and passing other arguments without an explicit keyword will result in an error or misinterpretation.\n",
      "  warnings.warn(\n"
     ]
    },
    {
     "data": {
      "image/png": "[encoded data removed]",
      "text/plain": [
       "<Figure size 720x864 with 1 Axes>"
      ]
     },
     "metadata": {},
     "output_type": "display_data"
    }
   ],
   "source": [
    "\n",
    "Draw_box_plot(Train_Diabetes['Glucose'],Train_Diabetes['Outcome'])"
   ]
  },
  {
   "cell_type": "code",
   "execution_count": 29,
   "metadata": {},
   "outputs": [
    {
     "name": "stderr",
     "output_type": "stream",
     "text": [
      "C:\\Users\\asus\\anaconda3\\lib\\site-packages\\seaborn\\_decorators.py:36: FutureWarning: Pass the following variables as keyword args: x, y. From version 0.12, the only valid positional argument will be `data`, and passing other arguments without an explicit keyword will result in an error or misinterpretation.\n",
      "  warnings.warn(\n"
     ]
    },
    {
     "data": {
      "image/png": "[encoded data removed]",
      "text/plain": [
       "<Figure size 720x864 with 1 Axes>"
      ]
     },
     "metadata": {},
     "output_type": "display_data"
    }
   ],
   "source": [
    "Draw_box_plot(Train_Diabetes['BloodPressure'],Train_Diabetes['Outcome'])"
   ]
  },
  {
   "cell_type": "code",
   "execution_count": 30,
   "metadata": {},
   "outputs": [
    {
     "name": "stderr",
     "output_type": "stream",
     "text": [
      "C:\\Users\\asus\\anaconda3\\lib\\site-packages\\seaborn\\_decorators.py:36: FutureWarning: Pass the following variables as keyword args: x, y. From version 0.12, the only valid positional argument will be `data`, and passing other arguments without an explicit keyword will result in an error or misinterpretation.\n",
      "  warnings.warn(\n"
     ]
    },
    {
     "data": {
      "image/png": "[encoded data removed]",
      "text/plain": [
       "<Figure size 720x864 with 1 Axes>"
      ]
     },
     "metadata": {},
     "output_type": "display_data"
    }
   ],
   "source": [
    "Draw_box_plot(Train_Diabetes['SkinThickness'],Train_Diabetes['Outcome'])"
   ]
  },
  {
   "cell_type": "code",
   "execution_count": 31,
   "metadata": {},
   "outputs": [
    {
     "name": "stderr",
     "output_type": "stream",
     "text": [
      "C:\\Users\\asus\\anaconda3\\lib\\site-packages\\seaborn\\_decorators.py:36: FutureWarning: Pass the following variables as keyword args: x, y. From version 0.12, the only valid positional argument will be `data`, and passing other arguments without an explicit keyword will result in an error or misinterpretation.\n",
      "  warnings.warn(\n"
     ]
    },
    {
     "data": {
      "image/png": "[encoded data removed]",
      "text/plain": [
       "<Figure size 720x864 with 1 Axes>"
      ]
     },
     "metadata": {},
     "output_type": "display_data"
    }
   ],
   "source": [
    "Draw_box_plot(Train_Diabetes['Insulin'],Train_Diabetes['Outcome'])"
   ]
  },
  {
   "cell_type": "code",
   "execution_count": 32,
   "metadata": {},
   "outputs": [
    {
     "name": "stderr",
     "output_type": "stream",
     "text": [
      "C:\\Users\\asus\\anaconda3\\lib\\site-packages\\seaborn\\_decorators.py:36: FutureWarning: Pass the following variables as keyword args: x, y. From version 0.12, the only valid positional argument will be `data`, and passing other arguments without an explicit keyword will result in an error or misinterpretation.\n",
      "  warnings.warn(\n"
     ]
    },
    {
     "data": {
      "image/png": "[encoded data removed]",
      "text/plain": [
       "<Figure size 720x864 with 1 Axes>"
      ]
     },
     "metadata": {},
     "output_type": "display_data"
    }
   ],
   "source": [
    "Draw_box_plot(Train_Diabetes['BMI'],Train_Diabetes['Outcome'])"
   ]
  },
  {
   "cell_type": "code",
   "execution_count": 33,
   "metadata": {},
   "outputs": [
    {
     "name": "stderr",
     "output_type": "stream",
     "text": [
      "C:\\Users\\asus\\anaconda3\\lib\\site-packages\\seaborn\\_decorators.py:36: FutureWarning: Pass the following variables as keyword args: x, y. From version 0.12, the only valid positional argument will be `data`, and passing other arguments without an explicit keyword will result in an error or misinterpretation.\n",
      "  warnings.warn(\n"
     ]
    },
    {
     "data": {
      "image/png": "[encoded data removed]",
      "text/plain": [
       "<Figure size 720x864 with 1 Axes>"
      ]
     },
     "metadata": {},
     "output_type": "display_data"
    }
   ],
   "source": [
    "Draw_box_plot(Train_Diabetes['DiabetesPedigreeFunction'],Train_Diabetes['Outcome'])"
   ]
  },
  {
   "cell_type": "code",
   "execution_count": 34,
   "metadata": {},
   "outputs": [
    {
     "name": "stderr",
     "output_type": "stream",
     "text": [
      "C:\\Users\\asus\\anaconda3\\lib\\site-packages\\seaborn\\_decorators.py:36: FutureWarning: Pass the following variables as keyword args: x, y. From version 0.12, the only valid positional argument will be `data`, and passing other arguments without an explicit keyword will result in an error or misinterpretation.\n",
      "  warnings.warn(\n"
     ]
    },
    {
     "data": {
      "image/png": "[encoded data removed]",
      "text/plain": [
       "<Figure size 720x864 with 1 Axes>"
      ]
     },
     "metadata": {},
     "output_type": "display_data"
    }
   ],
   "source": [
    "Draw_box_plot(Train_Diabetes['Age'],Train_Diabetes['Outcome'])"
   ]
  },
  {
   "cell_type": "markdown",
   "metadata": {},
   "source": [
    "<h3 align=\"center\">تعریف یک تابع برای رسم باکس پلات بر روی داده های تست </h3>"
   ]
  },
  {
   "cell_type": "code",
   "execution_count": 35,
   "metadata": {},
   "outputs": [
    {
     "name": "stderr",
     "output_type": "stream",
     "text": [
      "C:\\Users\\asus\\anaconda3\\lib\\site-packages\\seaborn\\_decorators.py:36: FutureWarning: Pass the following variables as keyword args: x, y. From version 0.12, the only valid positional argument will be `data`, and passing other arguments without an explicit keyword will result in an error or misinterpretation.\n",
      "  warnings.warn(\n"
     ]
    },
    {
     "data": {
      "image/png": "[encoded data removed]",
      "text/plain": [
       "<Figure size 720x864 with 1 Axes>"
      ]
     },
     "metadata": {},
     "output_type": "display_data"
    }
   ],
   "source": [
    "Draw_box_plot(Test_Diabetes['Pregnancies'],Test_Diabetes['Outcome'])"
   ]
  },
  {
   "cell_type": "code",
   "execution_count": 36,
   "metadata": {},
   "outputs": [
    {
     "name": "stderr",
     "output_type": "stream",
     "text": [
      "C:\\Users\\asus\\anaconda3\\lib\\site-packages\\seaborn\\_decorators.py:36: FutureWarning: Pass the following variables as keyword args: x, y. From version 0.12, the only valid positional argument will be `data`, and passing other arguments without an explicit keyword will result in an error or misinterpretation.\n",
      "  warnings.warn(\n"
     ]
    },
    {
     "data": {
      "image/png": "[encoded data removed]",
      "text/plain": [
       "<Figure size 720x864 with 1 Axes>"
      ]
     },
     "metadata": {},
     "output_type": "display_data"
    }
   ],
   "source": [
    "Draw_box_plot(Test_Diabetes['Glucose'],Test_Diabetes['Outcome'])"
   ]
  },
  {
   "cell_type": "code",
   "execution_count": 37,
   "metadata": {},
   "outputs": [
    {
     "name": "stderr",
     "output_type": "stream",
     "text": [
      "C:\\Users\\asus\\anaconda3\\lib\\site-packages\\seaborn\\_decorators.py:36: FutureWarning: Pass the following variables as keyword args: x, y. From version 0.12, the only valid positional argument will be `data`, and passing other arguments without an explicit keyword will result in an error or misinterpretation.\n",
      "  warnings.warn(\n"
     ]
    },
    {
     "data": {
      "image/png": "[encoded data removed]",
      "text/plain": [
       "<Figure size 720x864 with 1 Axes>"
      ]
     },
     "metadata": {},
     "output_type": "display_data"
    }
   ],
   "source": [
    "Draw_box_plot(Test_Diabetes['BloodPressure'],Test_Diabetes['Outcome'])"
   ]
  },
  {
   "cell_type": "code",
   "execution_count": 38,
   "metadata": {},
   "outputs": [
    {
     "name": "stderr",
     "output_type": "stream",
     "text": [
      "C:\\Users\\asus\\anaconda3\\lib\\site-packages\\seaborn\\_decorators.py:36: FutureWarning: Pass the following variables as keyword args: x, y. From version 0.12, the only valid positional argument will be `data`, and passing other arguments without an explicit keyword will result in an error or misinterpretation.\n",
      "  warnings.warn(\n"
     ]
    },
    {
     "data": {
      "image/png": "[encoded data removed]",
      "text/plain": [
       "<Figure size 720x864 with 1 Axes>"
      ]
     },
     "metadata": {},
     "output_type": "display_data"
    }
   ],
   "source": [
    "Draw_box_plot(Test_Diabetes['SkinThickness'],Test_Diabetes['Outcome'])"
   ]
  },
  {
   "cell_type": "code",
   "execution_count": 39,
   "metadata": {},
   "outputs": [
    {
     "name": "stderr",
     "output_type": "stream",
     "text": [
      "C:\\Users\\asus\\anaconda3\\lib\\site-packages\\seaborn\\_decorators.py:36: FutureWarning: Pass the following variables as keyword args: x, y. From version 0.12, the only valid positional argument will be `data`, and passing other arguments without an explicit keyword will result in an error or misinterpretation.\n",
      "  warnings.warn(\n"
     ]
    },
    {
     "data": {
      "image/png": "[encoded data removed]",
      "text/plain": [
       "<Figure size 720x864 with 1 Axes>"
      ]
     },
     "metadata": {},
     "output_type": "display_data"
    }
   ],
   "source": [
    "Draw_box_plot(Test_Diabetes['Insulin'],Test_Diabetes['Outcome'])"
   ]
  },
  {
   "cell_type": "code",
   "execution_count": 40,
   "metadata": {},
   "outputs": [
    {
     "name": "stderr",
     "output_type": "stream",
     "text": [
      "C:\\Users\\asus\\anaconda3\\lib\\site-packages\\seaborn\\_decorators.py:36: FutureWarning: Pass the following variables as keyword args: x, y. From version 0.12, the only valid positional argument will be `data`, and passing other arguments without an explicit keyword will result in an error or misinterpretation.\n",
      "  warnings.warn(\n"
     ]
    },
    {
     "data": {
      "image/png": "[encoded data removed]",
      "text/plain": [
       "<Figure size 720x864 with 1 Axes>"
      ]
     },
     "metadata": {},
     "output_type": "display_data"
    }
   ],
   "source": [
    "Draw_box_plot(Test_Diabetes['BMI'],Test_Diabetes['Outcome'])"
   ]
  },
  {
   "cell_type": "code",
   "execution_count": 41,
   "metadata": {},
   "outputs": [
    {
     "name": "stderr",
     "output_type": "stream",
     "text": [
      "C:\\Users\\asus\\anaconda3\\lib\\site-packages\\seaborn\\_decorators.py:36: FutureWarning: Pass the following variables as keyword args: x, y. From version 0.12, the only valid positional argument will be `data`, and passing other arguments without an explicit keyword will result in an error or misinterpretation.\n",
      "  warnings.warn(\n"
     ]
    },
    {
     "data": {
      "image/png": "[encoded data removed]",
      "text/plain": [
       "<Figure size 720x864 with 1 Axes>"
      ]
     },
     "metadata": {},
     "output_type": "display_data"
    }
   ],
   "source": [
    "Draw_box_plot(Test_Diabetes['DiabetesPedigreeFunction'],Test_Diabetes['Outcome'])"
   ]
  },
  {
   "cell_type": "code",
   "execution_count": 42,
   "metadata": {},
   "outputs": [
    {
     "name": "stderr",
     "output_type": "stream",
     "text": [
      "C:\\Users\\asus\\anaconda3\\lib\\site-packages\\seaborn\\_decorators.py:36: FutureWarning: Pass the following variables as keyword args: x, y. From version 0.12, the only valid positional argument will be `data`, and passing other arguments without an explicit keyword will result in an error or misinterpretation.\n",
      "  warnings.warn(\n"
     ]
    },
    {
     "data": {
      "image/png": "[encoded data removed]",
      "text/plain": [
       "<Figure size 720x864 with 1 Axes>"
      ]
     },
     "metadata": {},
     "output_type": "display_data"
    }
   ],
   "source": [
    "Draw_box_plot(Test_Diabetes['Age'],Test_Diabetes['Outcome'])"
   ]
  },
  {
   "cell_type": "markdown",
   "metadata": {},
   "source": [
    "<h3 align=\"center\">از این تابع جهت تبدیل داده های آموزش به فرمت و فرضیات گفته شده در مسئله استفاده می شود</h3>"
   ]
  },
  {
   "cell_type": "code",
   "execution_count": 43,
   "metadata": {},
   "outputs": [],
   "source": [
    "def Pre_Process_Data(file):\n",
    "    Dataset_Diabetes = pd.read_csv(file)\n",
    "    header=['Pregnancies','Glucose','BloodPressure','SkinThickness','Insulin','BMI','DiabetesPedigreeFunction','Age']\n",
    "    savedata=[]\n",
    "    for j in range(len(header)):\n",
    "        ListData=[]\n",
    "        ListData=Dataset_Diabetes[header[j]]\n",
    "        ListData_label=[]\n",
    "        for i in range(len(ListData)):\n",
    "            if(ListData[i]<=np.mean(Dataset_Diabetes[header[j]])):\n",
    "                ListData_label.append('low')\n",
    "            else:\n",
    "                ListData_label.append('high')\n",
    "\n",
    "        savedata.append(ListData_label)\n",
    "    dataframe = pd.DataFrame() \n",
    "    temp=[]\n",
    "    temp=Dataset_Diabetes['Outcome']\n",
    "    label=[]\n",
    "    for i in range(len(temp)):\n",
    "        if(str(temp[i])=='True'):\n",
    "            label.append('yes')\n",
    "        else:\n",
    "            label.append('no') \n",
    "    \n",
    "    for i in range(0,9):\n",
    "        if i==8:\n",
    "            dataframe['Outcome'] = label\n",
    "            dataframe.to_excel('preprocess_'+str(file)+'.xlsx', index = False) \n",
    "            break\n",
    "            \n",
    "        dataframe[header[i]]=savedata[i]\n",
    "    \n",
    "            "
   ]
  },
  {
   "cell_type": "markdown",
   "metadata": {},
   "source": [
    "<h3 align=\"center\">فرخوانی تابع تعریف شده برای پیش پردازش داده های آموزش مبتنی بر فرضیات مسئله</h3>"
   ]
  },
  {
   "cell_type": "code",
   "execution_count": 44,
   "metadata": {},
   "outputs": [],
   "source": [
    "Pre_Process_Data('Train.csv')"
   ]
  },
  {
   "cell_type": "markdown",
   "metadata": {},
   "source": [
    "<h3 align=\"center\">خواندن داده های آموزش پیش پردازش شده از فایل اکسل ایجاد شده توسط تابع پیش پردازش</h3>"
   ]
  },
  {
   "cell_type": "code",
   "execution_count": 45,
   "metadata": {},
   "outputs": [
    {
     "data": {
      "text/html": [
       "<div>\n",
       "<style scoped>\n",
       "    .dataframe tbody tr th:only-of-type {\n",
       "        vertical-align: middle;\n",
       "    }\n",
       "\n",
       "    .dataframe tbody tr th {\n",
       "        vertical-align: top;\n",
       "    }\n",
       "\n",
       "    .dataframe thead th {\n",
       "        text-align: right;\n",
       "    }\n",
       "</style>\n",
       "<table border=\"1\" class=\"dataframe\">\n",
       "  <thead>\n",
       "    <tr style=\"text-align: right;\">\n",
       "      <th></th>\n",
       "      <th>Pregnancies</th>\n",
       "      <th>Glucose</th>\n",
       "      <th>BloodPressure</th>\n",
       "      <th>SkinThickness</th>\n",
       "      <th>Insulin</th>\n",
       "      <th>BMI</th>\n",
       "      <th>DiabetesPedigreeFunction</th>\n",
       "      <th>Age</th>\n",
       "      <th>Outcome</th>\n",
       "    </tr>\n",
       "  </thead>\n",
       "  <tbody>\n",
       "    <tr>\n",
       "      <th>0</th>\n",
       "      <td>low</td>\n",
       "      <td>high</td>\n",
       "      <td>high</td>\n",
       "      <td>high</td>\n",
       "      <td>low</td>\n",
       "      <td>high</td>\n",
       "      <td>low</td>\n",
       "      <td>high</td>\n",
       "      <td>no</td>\n",
       "    </tr>\n",
       "    <tr>\n",
       "      <th>1</th>\n",
       "      <td>high</td>\n",
       "      <td>low</td>\n",
       "      <td>low</td>\n",
       "      <td>low</td>\n",
       "      <td>low</td>\n",
       "      <td>low</td>\n",
       "      <td>high</td>\n",
       "      <td>low</td>\n",
       "      <td>no</td>\n",
       "    </tr>\n",
       "    <tr>\n",
       "      <th>2</th>\n",
       "      <td>low</td>\n",
       "      <td>high</td>\n",
       "      <td>high</td>\n",
       "      <td>low</td>\n",
       "      <td>low</td>\n",
       "      <td>high</td>\n",
       "      <td>low</td>\n",
       "      <td>low</td>\n",
       "      <td>no</td>\n",
       "    </tr>\n",
       "    <tr>\n",
       "      <th>3</th>\n",
       "      <td>high</td>\n",
       "      <td>low</td>\n",
       "      <td>high</td>\n",
       "      <td>low</td>\n",
       "      <td>low</td>\n",
       "      <td>high</td>\n",
       "      <td>low</td>\n",
       "      <td>low</td>\n",
       "      <td>no</td>\n",
       "    </tr>\n",
       "    <tr>\n",
       "      <th>4</th>\n",
       "      <td>low</td>\n",
       "      <td>low</td>\n",
       "      <td>low</td>\n",
       "      <td>high</td>\n",
       "      <td>high</td>\n",
       "      <td>high</td>\n",
       "      <td>high</td>\n",
       "      <td>low</td>\n",
       "      <td>yes</td>\n",
       "    </tr>\n",
       "    <tr>\n",
       "      <th>...</th>\n",
       "      <td>...</td>\n",
       "      <td>...</td>\n",
       "      <td>...</td>\n",
       "      <td>...</td>\n",
       "      <td>...</td>\n",
       "      <td>...</td>\n",
       "      <td>...</td>\n",
       "      <td>...</td>\n",
       "      <td>...</td>\n",
       "    </tr>\n",
       "    <tr>\n",
       "      <th>609</th>\n",
       "      <td>low</td>\n",
       "      <td>high</td>\n",
       "      <td>low</td>\n",
       "      <td>low</td>\n",
       "      <td>high</td>\n",
       "      <td>low</td>\n",
       "      <td>high</td>\n",
       "      <td>low</td>\n",
       "      <td>no</td>\n",
       "    </tr>\n",
       "    <tr>\n",
       "      <th>610</th>\n",
       "      <td>low</td>\n",
       "      <td>low</td>\n",
       "      <td>low</td>\n",
       "      <td>low</td>\n",
       "      <td>low</td>\n",
       "      <td>low</td>\n",
       "      <td>high</td>\n",
       "      <td>low</td>\n",
       "      <td>no</td>\n",
       "    </tr>\n",
       "    <tr>\n",
       "      <th>611</th>\n",
       "      <td>high</td>\n",
       "      <td>high</td>\n",
       "      <td>high</td>\n",
       "      <td>low</td>\n",
       "      <td>low</td>\n",
       "      <td>high</td>\n",
       "      <td>low</td>\n",
       "      <td>high</td>\n",
       "      <td>no</td>\n",
       "    </tr>\n",
       "    <tr>\n",
       "      <th>612</th>\n",
       "      <td>high</td>\n",
       "      <td>high</td>\n",
       "      <td>high</td>\n",
       "      <td>high</td>\n",
       "      <td>high</td>\n",
       "      <td>high</td>\n",
       "      <td>low</td>\n",
       "      <td>low</td>\n",
       "      <td>yes</td>\n",
       "    </tr>\n",
       "    <tr>\n",
       "      <th>613</th>\n",
       "      <td>low</td>\n",
       "      <td>low</td>\n",
       "      <td>low</td>\n",
       "      <td>high</td>\n",
       "      <td>low</td>\n",
       "      <td>low</td>\n",
       "      <td>high</td>\n",
       "      <td>low</td>\n",
       "      <td>no</td>\n",
       "    </tr>\n",
       "  </tbody>\n",
       "</table>\n",
       "<p>614 rows × 9 columns</p>\n",
       "</div>"
      ],
      "text/plain": [
       "    Pregnancies Glucose BloodPressure SkinThickness Insulin   BMI  \\\n",
       "0           low    high          high          high     low  high   \n",
       "1          high     low           low           low     low   low   \n",
       "2           low    high          high           low     low  high   \n",
       "3          high     low          high           low     low  high   \n",
       "4           low     low           low          high    high  high   \n",
       "..          ...     ...           ...           ...     ...   ...   \n",
       "609         low    high           low           low    high   low   \n",
       "610         low     low           low           low     low   low   \n",
       "611        high    high          high           low     low  high   \n",
       "612        high    high          high          high    high  high   \n",
       "613         low     low           low          high     low   low   \n",
       "\n",
       "    DiabetesPedigreeFunction   Age Outcome  \n",
       "0                        low  high      no  \n",
       "1                       high   low      no  \n",
       "2                        low   low      no  \n",
       "3                        low   low      no  \n",
       "4                       high   low     yes  \n",
       "..                       ...   ...     ...  \n",
       "609                     high   low      no  \n",
       "610                     high   low      no  \n",
       "611                      low  high      no  \n",
       "612                      low   low     yes  \n",
       "613                     high   low      no  \n",
       "\n",
       "[614 rows x 9 columns]"
      ]
     },
     "execution_count": 45,
     "metadata": {},
     "output_type": "execute_result"
    }
   ],
   "source": [
    "Preprocess_Train_Diabetes = pd.read_excel(\"preprocess_Train.csv.xlsx\")\n",
    "Preprocess_Train_Diabetes "
   ]
  },
  {
   "cell_type": "markdown",
   "metadata": {},
   "source": [
    "<h3 align=\"center\">فرخوانی تابع تعریف شده برای پیش پردازش داده های تست مبتنی بر فرضیات مسئله</h3>"
   ]
  },
  {
   "cell_type": "code",
   "execution_count": 46,
   "metadata": {},
   "outputs": [],
   "source": [
    "Pre_Process_Data('Test.csv')"
   ]
  },
  {
   "cell_type": "markdown",
   "metadata": {},
   "source": [
    "<h3 align=\"center\">خواندن داده های تست پیش پردازش شده از فایل اکسل ایجاد شده توسط تابع پیش پردازش</h3>"
   ]
  },
  {
   "cell_type": "code",
   "execution_count": 47,
   "metadata": {},
   "outputs": [
    {
     "data": {
      "text/html": [
       "<div>\n",
       "<style scoped>\n",
       "    .dataframe tbody tr th:only-of-type {\n",
       "        vertical-align: middle;\n",
       "    }\n",
       "\n",
       "    .dataframe tbody tr th {\n",
       "        vertical-align: top;\n",
       "    }\n",
       "\n",
       "    .dataframe thead th {\n",
       "        text-align: right;\n",
       "    }\n",
       "</style>\n",
       "<table border=\"1\" class=\"dataframe\">\n",
       "  <thead>\n",
       "    <tr style=\"text-align: right;\">\n",
       "      <th></th>\n",
       "      <th>Pregnancies</th>\n",
       "      <th>Glucose</th>\n",
       "      <th>BloodPressure</th>\n",
       "      <th>SkinThickness</th>\n",
       "      <th>Insulin</th>\n",
       "      <th>BMI</th>\n",
       "      <th>DiabetesPedigreeFunction</th>\n",
       "      <th>Age</th>\n",
       "      <th>Outcome</th>\n",
       "    </tr>\n",
       "  </thead>\n",
       "  <tbody>\n",
       "    <tr>\n",
       "      <th>0</th>\n",
       "      <td>high</td>\n",
       "      <td>high</td>\n",
       "      <td>low</td>\n",
       "      <td>high</td>\n",
       "      <td>high</td>\n",
       "      <td>low</td>\n",
       "      <td>high</td>\n",
       "      <td>high</td>\n",
       "      <td>yes</td>\n",
       "    </tr>\n",
       "    <tr>\n",
       "      <th>1</th>\n",
       "      <td>high</td>\n",
       "      <td>low</td>\n",
       "      <td>high</td>\n",
       "      <td>low</td>\n",
       "      <td>low</td>\n",
       "      <td>high</td>\n",
       "      <td>low</td>\n",
       "      <td>low</td>\n",
       "      <td>yes</td>\n",
       "    </tr>\n",
       "    <tr>\n",
       "      <th>2</th>\n",
       "      <td>high</td>\n",
       "      <td>high</td>\n",
       "      <td>low</td>\n",
       "      <td>high</td>\n",
       "      <td>high</td>\n",
       "      <td>low</td>\n",
       "      <td>high</td>\n",
       "      <td>low</td>\n",
       "      <td>yes</td>\n",
       "    </tr>\n",
       "    <tr>\n",
       "      <th>3</th>\n",
       "      <td>low</td>\n",
       "      <td>high</td>\n",
       "      <td>high</td>\n",
       "      <td>low</td>\n",
       "      <td>low</td>\n",
       "      <td>high</td>\n",
       "      <td>low</td>\n",
       "      <td>high</td>\n",
       "      <td>yes</td>\n",
       "    </tr>\n",
       "    <tr>\n",
       "      <th>4</th>\n",
       "      <td>high</td>\n",
       "      <td>high</td>\n",
       "      <td>high</td>\n",
       "      <td>low</td>\n",
       "      <td>low</td>\n",
       "      <td>low</td>\n",
       "      <td>low</td>\n",
       "      <td>low</td>\n",
       "      <td>yes</td>\n",
       "    </tr>\n",
       "    <tr>\n",
       "      <th>...</th>\n",
       "      <td>...</td>\n",
       "      <td>...</td>\n",
       "      <td>...</td>\n",
       "      <td>...</td>\n",
       "      <td>...</td>\n",
       "      <td>...</td>\n",
       "      <td>...</td>\n",
       "      <td>...</td>\n",
       "      <td>...</td>\n",
       "    </tr>\n",
       "    <tr>\n",
       "      <th>149</th>\n",
       "      <td>low</td>\n",
       "      <td>high</td>\n",
       "      <td>high</td>\n",
       "      <td>high</td>\n",
       "      <td>high</td>\n",
       "      <td>high</td>\n",
       "      <td>low</td>\n",
       "      <td>low</td>\n",
       "      <td>no</td>\n",
       "    </tr>\n",
       "    <tr>\n",
       "      <th>150</th>\n",
       "      <td>low</td>\n",
       "      <td>low</td>\n",
       "      <td>high</td>\n",
       "      <td>low</td>\n",
       "      <td>low</td>\n",
       "      <td>low</td>\n",
       "      <td>low</td>\n",
       "      <td>low</td>\n",
       "      <td>no</td>\n",
       "    </tr>\n",
       "    <tr>\n",
       "      <th>151</th>\n",
       "      <td>low</td>\n",
       "      <td>high</td>\n",
       "      <td>high</td>\n",
       "      <td>high</td>\n",
       "      <td>high</td>\n",
       "      <td>high</td>\n",
       "      <td>low</td>\n",
       "      <td>low</td>\n",
       "      <td>no</td>\n",
       "    </tr>\n",
       "    <tr>\n",
       "      <th>152</th>\n",
       "      <td>low</td>\n",
       "      <td>low</td>\n",
       "      <td>low</td>\n",
       "      <td>high</td>\n",
       "      <td>high</td>\n",
       "      <td>low</td>\n",
       "      <td>low</td>\n",
       "      <td>low</td>\n",
       "      <td>no</td>\n",
       "    </tr>\n",
       "    <tr>\n",
       "      <th>153</th>\n",
       "      <td>high</td>\n",
       "      <td>high</td>\n",
       "      <td>high</td>\n",
       "      <td>low</td>\n",
       "      <td>low</td>\n",
       "      <td>high</td>\n",
       "      <td>high</td>\n",
       "      <td>high</td>\n",
       "      <td>no</td>\n",
       "    </tr>\n",
       "  </tbody>\n",
       "</table>\n",
       "<p>154 rows × 9 columns</p>\n",
       "</div>"
      ],
      "text/plain": [
       "    Pregnancies Glucose BloodPressure SkinThickness Insulin   BMI  \\\n",
       "0          high    high           low          high    high   low   \n",
       "1          high     low          high           low     low  high   \n",
       "2          high    high           low          high    high   low   \n",
       "3           low    high          high           low     low  high   \n",
       "4          high    high          high           low     low   low   \n",
       "..          ...     ...           ...           ...     ...   ...   \n",
       "149         low    high          high          high    high  high   \n",
       "150         low     low          high           low     low   low   \n",
       "151         low    high          high          high    high  high   \n",
       "152         low     low           low          high    high   low   \n",
       "153        high    high          high           low     low  high   \n",
       "\n",
       "    DiabetesPedigreeFunction   Age Outcome  \n",
       "0                       high  high     yes  \n",
       "1                        low   low     yes  \n",
       "2                       high   low     yes  \n",
       "3                        low  high     yes  \n",
       "4                        low   low     yes  \n",
       "..                       ...   ...     ...  \n",
       "149                      low   low      no  \n",
       "150                      low   low      no  \n",
       "151                      low   low      no  \n",
       "152                      low   low      no  \n",
       "153                     high  high      no  \n",
       "\n",
       "[154 rows x 9 columns]"
      ]
     },
     "execution_count": 47,
     "metadata": {},
     "output_type": "execute_result"
    }
   ],
   "source": [
    "Preprocess_Test_Diabetes = pd.read_excel(\"preprocess_Test.csv.xlsx\")\n",
    "Preprocess_Test_Diabetes "
   ]
  },
  {
   "cell_type": "markdown",
   "metadata": {},
   "source": [
    "<h3 align=\"center\">تعریف یک تابع برای مپ کردن داده ها با توجه به فرضیات مسئله</h3>"
   ]
  },
  {
   "cell_type": "code",
   "execution_count": 48,
   "metadata": {},
   "outputs": [],
   "source": [
    "def Map_Cat_to_num(DataFrame):\n",
    "    mapping = {'low': 0, 'high':1}\n",
    "    DataFrame['Pregnancies'] = DataFrame['Pregnancies'].map(mapping)\n",
    "    DataFrame['Glucose'] = DataFrame['Glucose'].map(mapping)\n",
    "    DataFrame['BloodPressure'] = DataFrame['BloodPressure'].map(mapping)\n",
    "    DataFrame['SkinThickness'] = DataFrame['SkinThickness'].map(mapping)\n",
    "    DataFrame['Insulin'] = DataFrame['Insulin'].map(mapping)\n",
    "    DataFrame['BMI'] = DataFrame['BMI'].map(mapping)\n",
    "    DataFrame['DiabetesPedigreeFunction'] = DataFrame['DiabetesPedigreeFunction'].map(mapping)\n",
    "    DataFrame['Age'] = DataFrame['Age'].map(mapping)\n",
    "    mapping = {'no': 0, 'yes':1}\n",
    "    DataFrame['Outcome'] = DataFrame['Outcome'].map(mapping)\n",
    "    \n",
    "    return DataFrame"
   ]
  },
  {
   "cell_type": "markdown",
   "metadata": {},
   "source": [
    "<h3 align=\"center\">مپ کردن داده ها با توجه به فرضیات مسئله</h3>"
   ]
  },
  {
   "cell_type": "code",
   "execution_count": 49,
   "metadata": {},
   "outputs": [],
   "source": [
    "Diabetes_train=Map_Cat_to_num(Preprocess_Train_Diabetes)"
   ]
  },
  {
   "cell_type": "code",
   "execution_count": 50,
   "metadata": {},
   "outputs": [
    {
     "data": {
      "text/html": [
       "<div>\n",
       "<style scoped>\n",
       "    .dataframe tbody tr th:only-of-type {\n",
       "        vertical-align: middle;\n",
       "    }\n",
       "\n",
       "    .dataframe tbody tr th {\n",
       "        vertical-align: top;\n",
       "    }\n",
       "\n",
       "    .dataframe thead th {\n",
       "        text-align: right;\n",
       "    }\n",
       "</style>\n",
       "<table border=\"1\" class=\"dataframe\">\n",
       "  <thead>\n",
       "    <tr style=\"text-align: right;\">\n",
       "      <th></th>\n",
       "      <th>Pregnancies</th>\n",
       "      <th>Glucose</th>\n",
       "      <th>BloodPressure</th>\n",
       "      <th>SkinThickness</th>\n",
       "      <th>Insulin</th>\n",
       "      <th>BMI</th>\n",
       "      <th>DiabetesPedigreeFunction</th>\n",
       "      <th>Age</th>\n",
       "      <th>Outcome</th>\n",
       "    </tr>\n",
       "  </thead>\n",
       "  <tbody>\n",
       "    <tr>\n",
       "      <th>0</th>\n",
       "      <td>0</td>\n",
       "      <td>1</td>\n",
       "      <td>1</td>\n",
       "      <td>1</td>\n",
       "      <td>0</td>\n",
       "      <td>1</td>\n",
       "      <td>0</td>\n",
       "      <td>1</td>\n",
       "      <td>0</td>\n",
       "    </tr>\n",
       "    <tr>\n",
       "      <th>1</th>\n",
       "      <td>1</td>\n",
       "      <td>0</td>\n",
       "      <td>0</td>\n",
       "      <td>0</td>\n",
       "      <td>0</td>\n",
       "      <td>0</td>\n",
       "      <td>1</td>\n",
       "      <td>0</td>\n",
       "      <td>0</td>\n",
       "    </tr>\n",
       "    <tr>\n",
       "      <th>2</th>\n",
       "      <td>0</td>\n",
       "      <td>1</td>\n",
       "      <td>1</td>\n",
       "      <td>0</td>\n",
       "      <td>0</td>\n",
       "      <td>1</td>\n",
       "      <td>0</td>\n",
       "      <td>0</td>\n",
       "      <td>0</td>\n",
       "    </tr>\n",
       "    <tr>\n",
       "      <th>3</th>\n",
       "      <td>1</td>\n",
       "      <td>0</td>\n",
       "      <td>1</td>\n",
       "      <td>0</td>\n",
       "      <td>0</td>\n",
       "      <td>1</td>\n",
       "      <td>0</td>\n",
       "      <td>0</td>\n",
       "      <td>0</td>\n",
       "    </tr>\n",
       "    <tr>\n",
       "      <th>4</th>\n",
       "      <td>0</td>\n",
       "      <td>0</td>\n",
       "      <td>0</td>\n",
       "      <td>1</td>\n",
       "      <td>1</td>\n",
       "      <td>1</td>\n",
       "      <td>1</td>\n",
       "      <td>0</td>\n",
       "      <td>1</td>\n",
       "    </tr>\n",
       "    <tr>\n",
       "      <th>...</th>\n",
       "      <td>...</td>\n",
       "      <td>...</td>\n",
       "      <td>...</td>\n",
       "      <td>...</td>\n",
       "      <td>...</td>\n",
       "      <td>...</td>\n",
       "      <td>...</td>\n",
       "      <td>...</td>\n",
       "      <td>...</td>\n",
       "    </tr>\n",
       "    <tr>\n",
       "      <th>609</th>\n",
       "      <td>0</td>\n",
       "      <td>1</td>\n",
       "      <td>0</td>\n",
       "      <td>0</td>\n",
       "      <td>1</td>\n",
       "      <td>0</td>\n",
       "      <td>1</td>\n",
       "      <td>0</td>\n",
       "      <td>0</td>\n",
       "    </tr>\n",
       "    <tr>\n",
       "      <th>610</th>\n",
       "      <td>0</td>\n",
       "      <td>0</td>\n",
       "      <td>0</td>\n",
       "      <td>0</td>\n",
       "      <td>0</td>\n",
       "      <td>0</td>\n",
       "      <td>1</td>\n",
       "      <td>0</td>\n",
       "      <td>0</td>\n",
       "    </tr>\n",
       "    <tr>\n",
       "      <th>611</th>\n",
       "      <td>1</td>\n",
       "      <td>1</td>\n",
       "      <td>1</td>\n",
       "      <td>0</td>\n",
       "      <td>0</td>\n",
       "      <td>1</td>\n",
       "      <td>0</td>\n",
       "      <td>1</td>\n",
       "      <td>0</td>\n",
       "    </tr>\n",
       "    <tr>\n",
       "      <th>612</th>\n",
       "      <td>1</td>\n",
       "      <td>1</td>\n",
       "      <td>1</td>\n",
       "      <td>1</td>\n",
       "      <td>1</td>\n",
       "      <td>1</td>\n",
       "      <td>0</td>\n",
       "      <td>0</td>\n",
       "      <td>1</td>\n",
       "    </tr>\n",
       "    <tr>\n",
       "      <th>613</th>\n",
       "      <td>0</td>\n",
       "      <td>0</td>\n",
       "      <td>0</td>\n",
       "      <td>1</td>\n",
       "      <td>0</td>\n",
       "      <td>0</td>\n",
       "      <td>1</td>\n",
       "      <td>0</td>\n",
       "      <td>0</td>\n",
       "    </tr>\n",
       "  </tbody>\n",
       "</table>\n",
       "<p>614 rows × 9 columns</p>\n",
       "</div>"
      ],
      "text/plain": [
       "     Pregnancies  Glucose  BloodPressure  SkinThickness  Insulin  BMI  \\\n",
       "0              0        1              1              1        0    1   \n",
       "1              1        0              0              0        0    0   \n",
       "2              0        1              1              0        0    1   \n",
       "3              1        0              1              0        0    1   \n",
       "4              0        0              0              1        1    1   \n",
       "..           ...      ...            ...            ...      ...  ...   \n",
       "609            0        1              0              0        1    0   \n",
       "610            0        0              0              0        0    0   \n",
       "611            1        1              1              0        0    1   \n",
       "612            1        1              1              1        1    1   \n",
       "613            0        0              0              1        0    0   \n",
       "\n",
       "     DiabetesPedigreeFunction  Age  Outcome  \n",
       "0                           0    1        0  \n",
       "1                           1    0        0  \n",
       "2                           0    0        0  \n",
       "3                           0    0        0  \n",
       "4                           1    0        1  \n",
       "..                        ...  ...      ...  \n",
       "609                         1    0        0  \n",
       "610                         1    0        0  \n",
       "611                         0    1        0  \n",
       "612                         0    0        1  \n",
       "613                         1    0        0  \n",
       "\n",
       "[614 rows x 9 columns]"
      ]
     },
     "execution_count": 50,
     "metadata": {},
     "output_type": "execute_result"
    }
   ],
   "source": [
    "Diabetes_train"
   ]
  },
  {
   "cell_type": "code",
   "execution_count": 51,
   "metadata": {},
   "outputs": [
    {
     "data": {
      "text/html": [
       "<div>\n",
       "<style scoped>\n",
       "    .dataframe tbody tr th:only-of-type {\n",
       "        vertical-align: middle;\n",
       "    }\n",
       "\n",
       "    .dataframe tbody tr th {\n",
       "        vertical-align: top;\n",
       "    }\n",
       "\n",
       "    .dataframe thead th {\n",
       "        text-align: right;\n",
       "    }\n",
       "</style>\n",
       "<table border=\"1\" class=\"dataframe\">\n",
       "  <thead>\n",
       "    <tr style=\"text-align: right;\">\n",
       "      <th></th>\n",
       "      <th>Pregnancies</th>\n",
       "      <th>Glucose</th>\n",
       "      <th>BloodPressure</th>\n",
       "      <th>SkinThickness</th>\n",
       "      <th>Insulin</th>\n",
       "      <th>BMI</th>\n",
       "      <th>DiabetesPedigreeFunction</th>\n",
       "      <th>Age</th>\n",
       "      <th>Outcome</th>\n",
       "    </tr>\n",
       "  </thead>\n",
       "  <tbody>\n",
       "    <tr>\n",
       "      <th>0</th>\n",
       "      <td>1</td>\n",
       "      <td>1</td>\n",
       "      <td>0</td>\n",
       "      <td>1</td>\n",
       "      <td>1</td>\n",
       "      <td>0</td>\n",
       "      <td>1</td>\n",
       "      <td>1</td>\n",
       "      <td>1</td>\n",
       "    </tr>\n",
       "    <tr>\n",
       "      <th>1</th>\n",
       "      <td>1</td>\n",
       "      <td>0</td>\n",
       "      <td>1</td>\n",
       "      <td>0</td>\n",
       "      <td>0</td>\n",
       "      <td>1</td>\n",
       "      <td>0</td>\n",
       "      <td>0</td>\n",
       "      <td>1</td>\n",
       "    </tr>\n",
       "    <tr>\n",
       "      <th>2</th>\n",
       "      <td>1</td>\n",
       "      <td>1</td>\n",
       "      <td>0</td>\n",
       "      <td>1</td>\n",
       "      <td>1</td>\n",
       "      <td>0</td>\n",
       "      <td>1</td>\n",
       "      <td>0</td>\n",
       "      <td>1</td>\n",
       "    </tr>\n",
       "    <tr>\n",
       "      <th>3</th>\n",
       "      <td>0</td>\n",
       "      <td>1</td>\n",
       "      <td>1</td>\n",
       "      <td>0</td>\n",
       "      <td>0</td>\n",
       "      <td>1</td>\n",
       "      <td>0</td>\n",
       "      <td>1</td>\n",
       "      <td>1</td>\n",
       "    </tr>\n",
       "    <tr>\n",
       "      <th>4</th>\n",
       "      <td>1</td>\n",
       "      <td>1</td>\n",
       "      <td>1</td>\n",
       "      <td>0</td>\n",
       "      <td>0</td>\n",
       "      <td>0</td>\n",
       "      <td>0</td>\n",
       "      <td>0</td>\n",
       "      <td>1</td>\n",
       "    </tr>\n",
       "    <tr>\n",
       "      <th>...</th>\n",
       "      <td>...</td>\n",
       "      <td>...</td>\n",
       "      <td>...</td>\n",
       "      <td>...</td>\n",
       "      <td>...</td>\n",
       "      <td>...</td>\n",
       "      <td>...</td>\n",
       "      <td>...</td>\n",
       "      <td>...</td>\n",
       "    </tr>\n",
       "    <tr>\n",
       "      <th>149</th>\n",
       "      <td>0</td>\n",
       "      <td>1</td>\n",
       "      <td>1</td>\n",
       "      <td>1</td>\n",
       "      <td>1</td>\n",
       "      <td>1</td>\n",
       "      <td>0</td>\n",
       "      <td>0</td>\n",
       "      <td>0</td>\n",
       "    </tr>\n",
       "    <tr>\n",
       "      <th>150</th>\n",
       "      <td>0</td>\n",
       "      <td>0</td>\n",
       "      <td>1</td>\n",
       "      <td>0</td>\n",
       "      <td>0</td>\n",
       "      <td>0</td>\n",
       "      <td>0</td>\n",
       "      <td>0</td>\n",
       "      <td>0</td>\n",
       "    </tr>\n",
       "    <tr>\n",
       "      <th>151</th>\n",
       "      <td>0</td>\n",
       "      <td>1</td>\n",
       "      <td>1</td>\n",
       "      <td>1</td>\n",
       "      <td>1</td>\n",
       "      <td>1</td>\n",
       "      <td>0</td>\n",
       "      <td>0</td>\n",
       "      <td>0</td>\n",
       "    </tr>\n",
       "    <tr>\n",
       "      <th>152</th>\n",
       "      <td>0</td>\n",
       "      <td>0</td>\n",
       "      <td>0</td>\n",
       "      <td>1</td>\n",
       "      <td>1</td>\n",
       "      <td>0</td>\n",
       "      <td>0</td>\n",
       "      <td>0</td>\n",
       "      <td>0</td>\n",
       "    </tr>\n",
       "    <tr>\n",
       "      <th>153</th>\n",
       "      <td>1</td>\n",
       "      <td>1</td>\n",
       "      <td>1</td>\n",
       "      <td>0</td>\n",
       "      <td>0</td>\n",
       "      <td>1</td>\n",
       "      <td>1</td>\n",
       "      <td>1</td>\n",
       "      <td>0</td>\n",
       "    </tr>\n",
       "  </tbody>\n",
       "</table>\n",
       "<p>154 rows × 9 columns</p>\n",
       "</div>"
      ],
      "text/plain": [
       "     Pregnancies  Glucose  BloodPressure  SkinThickness  Insulin  BMI  \\\n",
       "0              1        1              0              1        1    0   \n",
       "1              1        0              1              0        0    1   \n",
       "2              1        1              0              1        1    0   \n",
       "3              0        1              1              0        0    1   \n",
       "4              1        1              1              0        0    0   \n",
       "..           ...      ...            ...            ...      ...  ...   \n",
       "149            0        1              1              1        1    1   \n",
       "150            0        0              1              0        0    0   \n",
       "151            0        1              1              1        1    1   \n",
       "152            0        0              0              1        1    0   \n",
       "153            1        1              1              0        0    1   \n",
       "\n",
       "     DiabetesPedigreeFunction  Age  Outcome  \n",
       "0                           1    1        1  \n",
       "1                           0    0        1  \n",
       "2                           1    0        1  \n",
       "3                           0    1        1  \n",
       "4                           0    0        1  \n",
       "..                        ...  ...      ...  \n",
       "149                         0    0        0  \n",
       "150                         0    0        0  \n",
       "151                         0    0        0  \n",
       "152                         0    0        0  \n",
       "153                         1    1        0  \n",
       "\n",
       "[154 rows x 9 columns]"
      ]
     },
     "execution_count": 51,
     "metadata": {},
     "output_type": "execute_result"
    }
   ],
   "source": [
    "Diabetes_test=Map_Cat_to_num(Preprocess_Test_Diabetes)\n",
    "Diabetes_test"
   ]
  },
  {
   "cell_type": "markdown",
   "metadata": {},
   "source": [
    "<h3 align=\"center\">تعریف تابع برای محاسبه ی آنتروپی</h3>"
   ]
  },
  {
   "cell_type": "code",
   "execution_count": 52,
   "metadata": {},
   "outputs": [],
   "source": [
    "def entropy(col):\n",
    "    counts = np.unique(col,return_counts=True)\n",
    "    ent = 0.0\n",
    "    for ix in counts[1]:\n",
    "        p = ix/col.shape[0]\n",
    "        ent += (-1.0*p*np.log2(p))\n",
    "    return ent"
   ]
  },
  {
   "cell_type": "markdown",
   "metadata": {},
   "source": [
    "<h3 align=\"center\">تعریف تابع برای شکستن داده بر اساس بهترین وِیژگی</h3>"
   ]
  },
  {
   "cell_type": "code",
   "execution_count": 53,
   "metadata": {},
   "outputs": [],
   "source": [
    "def divide_data(x_data,fkey,fval):\n",
    "    x_right = pd.DataFrame([],columns=x_data.columns)\n",
    "    x_left = pd.DataFrame([],columns=x_data.columns)\n",
    "    for ix in range(x_data.shape[0]):\n",
    "        val = x_data[fkey].loc[ix]\n",
    "        if val >=fval:\n",
    "            x_right = x_right.append(x_data.iloc[ix])\n",
    "        else:\n",
    "            x_left = x_left.append(x_data.iloc[ix])\n",
    "    return x_right,x_left"
   ]
  },
  {
   "cell_type": "markdown",
   "metadata": {},
   "source": [
    "<h3 align=\"center\">تعریف تابع برای محاسبه ی اینفورمیشن گین</h3>"
   ]
  },
  {
   "cell_type": "code",
   "execution_count": 54,
   "metadata": {},
   "outputs": [],
   "source": [
    "def information_gain(x_data,fkey,fval):\n",
    "    right,left = divide_data(x_data,fkey,fval)\n",
    "    \n",
    "    l = float(left.shape[0])/x_data.shape[0]\n",
    "    r = float(right.shape[0])/x_data.shape[0]\n",
    "    if left.shape[0] == 0 or right.shape[0] == 0:\n",
    "        return -99999\n",
    "    i_gain = entropy(x_data.Outcome) - (l * entropy(left.Outcome) + r*entropy(right.Outcome))\n",
    "    return i_gain\n",
    "    "
   ]
  },
  {
   "cell_type": "markdown",
   "metadata": {},
   "source": [
    "<h3 align=\"center\">تعریف یک کلاس جهت ایجاد درخت و آموزش داده ها</h3>"
   ]
  },
  {
   "cell_type": "code",
   "execution_count": 55,
   "metadata": {},
   "outputs": [],
   "source": [
    "class DecisionTree:\n",
    "    def __init__(self,depth=0,max_depth=6):\n",
    "        self.left = None\n",
    "        self.right = None\n",
    "        self.fkey = None\n",
    "        self.fval = None\n",
    "        self.depth = depth\n",
    "        self.max_depth = max_depth\n",
    "        self.target = None\n",
    "    def train(self,x_train):\n",
    "        features = ['Pregnancies', 'Glucose', 'BloodPressure', 'SkinThickness', 'Insulin', 'BMI', 'DiabetesPedigreeFunction', 'Age' ]\n",
    "        info_gains = []\n",
    "        for ix in features:\n",
    "            i_gain = information_gain(x_train,ix,x_train[ix].mean())\n",
    "            info_gains.append(i_gain)\n",
    "        self.fkey = features[np.argmax(info_gains)]\n",
    "        self.fval = x_train[self.fkey].mean()\n",
    "        data_right,data_left = divide_data(x_train,self.fkey,self.fval)\n",
    "        data_right = data_right.reset_index(drop=True)\n",
    "        data_left = data_left.reset_index(drop=True)\n",
    "        if data_left.shape[0] == 0 or data_right.shape[0] == 0:\n",
    "            if x_train.Outcome.mean() >= 0.5:\n",
    "                self.target = \"Positive\"\n",
    "            else:\n",
    "                self.target = \"Negative\"\n",
    "            return\n",
    "        if self.depth >= self.max_depth:\n",
    "            if x_train.Outcome.mean() >= 0.5:\n",
    "                self.target = \"Positive\"\n",
    "            else:\n",
    "                self.target = \"Negative\"\n",
    "            return\n",
    "        self.left = DecisionTree(self.depth+1,self.max_depth)\n",
    "        self.left.train(data_left)\n",
    "        self.right = DecisionTree(self.depth+1,self.max_depth)\n",
    "        self.right.train(data_right)\n",
    "        if x_train.Outcome.mean() >= 0.5:\n",
    "            self.target = \"Positive\"\n",
    "        else:\n",
    "            self.target = \"Negative\"\n",
    "        return\n",
    "    def predict(self,test):\n",
    "        if test[self.fkey] > self.fval:\n",
    "            if self.right is None:\n",
    "                return self.target\n",
    "            return self.right.predict(test)\n",
    "        if test[self.fkey] < self.fval:\n",
    "            if self.left is None:\n",
    "                return self.target\n",
    "            return self.left.predict(test)"
   ]
  },
  {
   "cell_type": "markdown",
   "metadata": {},
   "source": [
    "<h3 align=\"center\">تعریف یک تابع برای محاسبه ی دقت داده های پیش بینی شده</h3>"
   ]
  },
  {
   "cell_type": "code",
   "execution_count": 56,
   "metadata": {},
   "outputs": [],
   "source": [
    "def Calculate_Acc(test_data,dt):\n",
    "    y_pred = []\n",
    "    for ix in range(test_data.shape[0]):\n",
    "        y_pred.append(dt.predict(test_data.loc[ix]))\n",
    "    for i in range(len(y_pred)):\n",
    "        if y_pred[i] == \"Negative\":\n",
    "            y_pred[i] = 0\n",
    "        else:\n",
    "            y_pred[i] = 1\n",
    "    accuracy=np.mean(y_pred == test_data['Outcome'])\n",
    "    return accuracy\n",
    "    \n",
    "    "
   ]
  },
  {
   "cell_type": "code",
   "execution_count": 57,
   "metadata": {},
   "outputs": [],
   "source": [
    "train_data = Diabetes_train[:]\n",
    "test_data=Diabetes_test[:]"
   ]
  },
  {
   "cell_type": "code",
   "execution_count": 58,
   "metadata": {},
   "outputs": [
    {
     "data": {
      "text/html": [
       "<div>\n",
       "<style scoped>\n",
       "    .dataframe tbody tr th:only-of-type {\n",
       "        vertical-align: middle;\n",
       "    }\n",
       "\n",
       "    .dataframe tbody tr th {\n",
       "        vertical-align: top;\n",
       "    }\n",
       "\n",
       "    .dataframe thead th {\n",
       "        text-align: right;\n",
       "    }\n",
       "</style>\n",
       "<table border=\"1\" class=\"dataframe\">\n",
       "  <thead>\n",
       "    <tr style=\"text-align: right;\">\n",
       "      <th></th>\n",
       "      <th>Pregnancies</th>\n",
       "      <th>Glucose</th>\n",
       "      <th>BloodPressure</th>\n",
       "      <th>SkinThickness</th>\n",
       "      <th>Insulin</th>\n",
       "      <th>BMI</th>\n",
       "      <th>DiabetesPedigreeFunction</th>\n",
       "      <th>Age</th>\n",
       "      <th>Outcome</th>\n",
       "    </tr>\n",
       "  </thead>\n",
       "  <tbody>\n",
       "    <tr>\n",
       "      <th>0</th>\n",
       "      <td>0</td>\n",
       "      <td>1</td>\n",
       "      <td>1</td>\n",
       "      <td>1</td>\n",
       "      <td>0</td>\n",
       "      <td>1</td>\n",
       "      <td>0</td>\n",
       "      <td>1</td>\n",
       "      <td>0</td>\n",
       "    </tr>\n",
       "    <tr>\n",
       "      <th>1</th>\n",
       "      <td>1</td>\n",
       "      <td>0</td>\n",
       "      <td>0</td>\n",
       "      <td>0</td>\n",
       "      <td>0</td>\n",
       "      <td>0</td>\n",
       "      <td>1</td>\n",
       "      <td>0</td>\n",
       "      <td>0</td>\n",
       "    </tr>\n",
       "    <tr>\n",
       "      <th>2</th>\n",
       "      <td>0</td>\n",
       "      <td>1</td>\n",
       "      <td>1</td>\n",
       "      <td>0</td>\n",
       "      <td>0</td>\n",
       "      <td>1</td>\n",
       "      <td>0</td>\n",
       "      <td>0</td>\n",
       "      <td>0</td>\n",
       "    </tr>\n",
       "    <tr>\n",
       "      <th>3</th>\n",
       "      <td>1</td>\n",
       "      <td>0</td>\n",
       "      <td>1</td>\n",
       "      <td>0</td>\n",
       "      <td>0</td>\n",
       "      <td>1</td>\n",
       "      <td>0</td>\n",
       "      <td>0</td>\n",
       "      <td>0</td>\n",
       "    </tr>\n",
       "    <tr>\n",
       "      <th>4</th>\n",
       "      <td>0</td>\n",
       "      <td>0</td>\n",
       "      <td>0</td>\n",
       "      <td>1</td>\n",
       "      <td>1</td>\n",
       "      <td>1</td>\n",
       "      <td>1</td>\n",
       "      <td>0</td>\n",
       "      <td>1</td>\n",
       "    </tr>\n",
       "    <tr>\n",
       "      <th>...</th>\n",
       "      <td>...</td>\n",
       "      <td>...</td>\n",
       "      <td>...</td>\n",
       "      <td>...</td>\n",
       "      <td>...</td>\n",
       "      <td>...</td>\n",
       "      <td>...</td>\n",
       "      <td>...</td>\n",
       "      <td>...</td>\n",
       "    </tr>\n",
       "    <tr>\n",
       "      <th>609</th>\n",
       "      <td>0</td>\n",
       "      <td>1</td>\n",
       "      <td>0</td>\n",
       "      <td>0</td>\n",
       "      <td>1</td>\n",
       "      <td>0</td>\n",
       "      <td>1</td>\n",
       "      <td>0</td>\n",
       "      <td>0</td>\n",
       "    </tr>\n",
       "    <tr>\n",
       "      <th>610</th>\n",
       "      <td>0</td>\n",
       "      <td>0</td>\n",
       "      <td>0</td>\n",
       "      <td>0</td>\n",
       "      <td>0</td>\n",
       "      <td>0</td>\n",
       "      <td>1</td>\n",
       "      <td>0</td>\n",
       "      <td>0</td>\n",
       "    </tr>\n",
       "    <tr>\n",
       "      <th>611</th>\n",
       "      <td>1</td>\n",
       "      <td>1</td>\n",
       "      <td>1</td>\n",
       "      <td>0</td>\n",
       "      <td>0</td>\n",
       "      <td>1</td>\n",
       "      <td>0</td>\n",
       "      <td>1</td>\n",
       "      <td>0</td>\n",
       "    </tr>\n",
       "    <tr>\n",
       "      <th>612</th>\n",
       "      <td>1</td>\n",
       "      <td>1</td>\n",
       "      <td>1</td>\n",
       "      <td>1</td>\n",
       "      <td>1</td>\n",
       "      <td>1</td>\n",
       "      <td>0</td>\n",
       "      <td>0</td>\n",
       "      <td>1</td>\n",
       "    </tr>\n",
       "    <tr>\n",
       "      <th>613</th>\n",
       "      <td>0</td>\n",
       "      <td>0</td>\n",
       "      <td>0</td>\n",
       "      <td>1</td>\n",
       "      <td>0</td>\n",
       "      <td>0</td>\n",
       "      <td>1</td>\n",
       "      <td>0</td>\n",
       "      <td>0</td>\n",
       "    </tr>\n",
       "  </tbody>\n",
       "</table>\n",
       "<p>614 rows × 9 columns</p>\n",
       "</div>"
      ],
      "text/plain": [
       "     Pregnancies  Glucose  BloodPressure  SkinThickness  Insulin  BMI  \\\n",
       "0              0        1              1              1        0    1   \n",
       "1              1        0              0              0        0    0   \n",
       "2              0        1              1              0        0    1   \n",
       "3              1        0              1              0        0    1   \n",
       "4              0        0              0              1        1    1   \n",
       "..           ...      ...            ...            ...      ...  ...   \n",
       "609            0        1              0              0        1    0   \n",
       "610            0        0              0              0        0    0   \n",
       "611            1        1              1              0        0    1   \n",
       "612            1        1              1              1        1    1   \n",
       "613            0        0              0              1        0    0   \n",
       "\n",
       "     DiabetesPedigreeFunction  Age  Outcome  \n",
       "0                           0    1        0  \n",
       "1                           1    0        0  \n",
       "2                           0    0        0  \n",
       "3                           0    0        0  \n",
       "4                           1    0        1  \n",
       "..                        ...  ...      ...  \n",
       "609                         1    0        0  \n",
       "610                         1    0        0  \n",
       "611                         0    1        0  \n",
       "612                         0    0        1  \n",
       "613                         1    0        0  \n",
       "\n",
       "[614 rows x 9 columns]"
      ]
     },
     "execution_count": 58,
     "metadata": {},
     "output_type": "execute_result"
    }
   ],
   "source": [
    "train_data"
   ]
  },
  {
   "cell_type": "code",
   "execution_count": 59,
   "metadata": {},
   "outputs": [
    {
     "data": {
      "text/html": [
       "<div>\n",
       "<style scoped>\n",
       "    .dataframe tbody tr th:only-of-type {\n",
       "        vertical-align: middle;\n",
       "    }\n",
       "\n",
       "    .dataframe tbody tr th {\n",
       "        vertical-align: top;\n",
       "    }\n",
       "\n",
       "    .dataframe thead th {\n",
       "        text-align: right;\n",
       "    }\n",
       "</style>\n",
       "<table border=\"1\" class=\"dataframe\">\n",
       "  <thead>\n",
       "    <tr style=\"text-align: right;\">\n",
       "      <th></th>\n",
       "      <th>Pregnancies</th>\n",
       "      <th>Glucose</th>\n",
       "      <th>BloodPressure</th>\n",
       "      <th>SkinThickness</th>\n",
       "      <th>Insulin</th>\n",
       "      <th>BMI</th>\n",
       "      <th>DiabetesPedigreeFunction</th>\n",
       "      <th>Age</th>\n",
       "      <th>Outcome</th>\n",
       "    </tr>\n",
       "  </thead>\n",
       "  <tbody>\n",
       "    <tr>\n",
       "      <th>0</th>\n",
       "      <td>1</td>\n",
       "      <td>1</td>\n",
       "      <td>0</td>\n",
       "      <td>1</td>\n",
       "      <td>1</td>\n",
       "      <td>0</td>\n",
       "      <td>1</td>\n",
       "      <td>1</td>\n",
       "      <td>1</td>\n",
       "    </tr>\n",
       "    <tr>\n",
       "      <th>1</th>\n",
       "      <td>1</td>\n",
       "      <td>0</td>\n",
       "      <td>1</td>\n",
       "      <td>0</td>\n",
       "      <td>0</td>\n",
       "      <td>1</td>\n",
       "      <td>0</td>\n",
       "      <td>0</td>\n",
       "      <td>1</td>\n",
       "    </tr>\n",
       "    <tr>\n",
       "      <th>2</th>\n",
       "      <td>1</td>\n",
       "      <td>1</td>\n",
       "      <td>0</td>\n",
       "      <td>1</td>\n",
       "      <td>1</td>\n",
       "      <td>0</td>\n",
       "      <td>1</td>\n",
       "      <td>0</td>\n",
       "      <td>1</td>\n",
       "    </tr>\n",
       "    <tr>\n",
       "      <th>3</th>\n",
       "      <td>0</td>\n",
       "      <td>1</td>\n",
       "      <td>1</td>\n",
       "      <td>0</td>\n",
       "      <td>0</td>\n",
       "      <td>1</td>\n",
       "      <td>0</td>\n",
       "      <td>1</td>\n",
       "      <td>1</td>\n",
       "    </tr>\n",
       "    <tr>\n",
       "      <th>4</th>\n",
       "      <td>1</td>\n",
       "      <td>1</td>\n",
       "      <td>1</td>\n",
       "      <td>0</td>\n",
       "      <td>0</td>\n",
       "      <td>0</td>\n",
       "      <td>0</td>\n",
       "      <td>0</td>\n",
       "      <td>1</td>\n",
       "    </tr>\n",
       "    <tr>\n",
       "      <th>...</th>\n",
       "      <td>...</td>\n",
       "      <td>...</td>\n",
       "      <td>...</td>\n",
       "      <td>...</td>\n",
       "      <td>...</td>\n",
       "      <td>...</td>\n",
       "      <td>...</td>\n",
       "      <td>...</td>\n",
       "      <td>...</td>\n",
       "    </tr>\n",
       "    <tr>\n",
       "      <th>149</th>\n",
       "      <td>0</td>\n",
       "      <td>1</td>\n",
       "      <td>1</td>\n",
       "      <td>1</td>\n",
       "      <td>1</td>\n",
       "      <td>1</td>\n",
       "      <td>0</td>\n",
       "      <td>0</td>\n",
       "      <td>0</td>\n",
       "    </tr>\n",
       "    <tr>\n",
       "      <th>150</th>\n",
       "      <td>0</td>\n",
       "      <td>0</td>\n",
       "      <td>1</td>\n",
       "      <td>0</td>\n",
       "      <td>0</td>\n",
       "      <td>0</td>\n",
       "      <td>0</td>\n",
       "      <td>0</td>\n",
       "      <td>0</td>\n",
       "    </tr>\n",
       "    <tr>\n",
       "      <th>151</th>\n",
       "      <td>0</td>\n",
       "      <td>1</td>\n",
       "      <td>1</td>\n",
       "      <td>1</td>\n",
       "      <td>1</td>\n",
       "      <td>1</td>\n",
       "      <td>0</td>\n",
       "      <td>0</td>\n",
       "      <td>0</td>\n",
       "    </tr>\n",
       "    <tr>\n",
       "      <th>152</th>\n",
       "      <td>0</td>\n",
       "      <td>0</td>\n",
       "      <td>0</td>\n",
       "      <td>1</td>\n",
       "      <td>1</td>\n",
       "      <td>0</td>\n",
       "      <td>0</td>\n",
       "      <td>0</td>\n",
       "      <td>0</td>\n",
       "    </tr>\n",
       "    <tr>\n",
       "      <th>153</th>\n",
       "      <td>1</td>\n",
       "      <td>1</td>\n",
       "      <td>1</td>\n",
       "      <td>0</td>\n",
       "      <td>0</td>\n",
       "      <td>1</td>\n",
       "      <td>1</td>\n",
       "      <td>1</td>\n",
       "      <td>0</td>\n",
       "    </tr>\n",
       "  </tbody>\n",
       "</table>\n",
       "<p>154 rows × 9 columns</p>\n",
       "</div>"
      ],
      "text/plain": [
       "     Pregnancies  Glucose  BloodPressure  SkinThickness  Insulin  BMI  \\\n",
       "0              1        1              0              1        1    0   \n",
       "1              1        0              1              0        0    1   \n",
       "2              1        1              0              1        1    0   \n",
       "3              0        1              1              0        0    1   \n",
       "4              1        1              1              0        0    0   \n",
       "..           ...      ...            ...            ...      ...  ...   \n",
       "149            0        1              1              1        1    1   \n",
       "150            0        0              1              0        0    0   \n",
       "151            0        1              1              1        1    1   \n",
       "152            0        0              0              1        1    0   \n",
       "153            1        1              1              0        0    1   \n",
       "\n",
       "     DiabetesPedigreeFunction  Age  Outcome  \n",
       "0                           1    1        1  \n",
       "1                           0    0        1  \n",
       "2                           1    0        1  \n",
       "3                           0    1        1  \n",
       "4                           0    0        1  \n",
       "..                        ...  ...      ...  \n",
       "149                         0    0        0  \n",
       "150                         0    0        0  \n",
       "151                         0    0        0  \n",
       "152                         0    0        0  \n",
       "153                         1    1        0  \n",
       "\n",
       "[154 rows x 9 columns]"
      ]
     },
     "execution_count": 59,
     "metadata": {},
     "output_type": "execute_result"
    }
   ],
   "source": [
    "Diabetes_test"
   ]
  },
  {
   "cell_type": "markdown",
   "metadata": {},
   "source": [
    "<h3 align=\"center\">تعریف یک تابع جهت ایجاد درخت تصمیم به ازای عمق 1 تا 8 و محاسبه ی دقت بر روی داده های آموزش و تست</h3>"
   ]
  },
  {
   "cell_type": "code",
   "execution_count": 60,
   "metadata": {},
   "outputs": [],
   "source": [
    "def main(train_data,test_data):\n",
    "    test_acc=[]\n",
    "    train_acc=[]\n",
    "    for i in range(1,9):\n",
    "        dt = DecisionTree()\n",
    "        dt.__init__(max_depth=i)\n",
    "        dt.train(train_data)\n",
    "        print(\"-------------Test-Accuracy----------------\")\n",
    "        temp_test=Calculate_Acc(test_data,dt)\n",
    "        test_acc.append(temp_test)\n",
    "        print(temp_test)\n",
    "        print(\"-------------Train-Accuracy----------------\")\n",
    "        temp_train=Calculate_Acc(train_data,dt)\n",
    "        train_acc.append(temp_train)\n",
    "        print(temp_train)\n",
    "        print(\"-------------Finish----------------\")\n",
    "    return test_acc,train_acc"
   ]
  },
  {
   "cell_type": "markdown",
   "metadata": {},
   "source": [
    "<h3 align=\"center\">تعریف یک تابع برای نمایش روند تغییرات دقت بر روی داده های تست و آموزش</h3>"
   ]
  },
  {
   "cell_type": "code",
   "execution_count": 61,
   "metadata": {},
   "outputs": [],
   "source": [
    "def accuracy_diagram(acc):\n",
    "    length=[1,2,3,4,5,6,7,8]\n",
    "    plt.plot(length,acc)\n",
    "    plt.show()\n",
    "    "
   ]
  },
  {
   "cell_type": "markdown",
   "metadata": {},
   "source": [
    "<h3 align=\"center\">نمایش نتایج بدست آمده بر اساس درخت تصمیم ایجاد شده در عمق یک تا هشت</h3>"
   ]
  },
  {
   "cell_type": "code",
   "execution_count": 62,
   "metadata": {},
   "outputs": [
    {
     "name": "stdout",
     "output_type": "stream",
     "text": [
      "-------------Test-Accuracy----------------\n",
      "0.7207792207792207\n",
      "-------------Train-Accuracy----------------\n",
      "0.6986970684039088\n",
      "-------------Finish----------------\n",
      "-------------Test-Accuracy----------------\n",
      "0.7207792207792207\n",
      "-------------Train-Accuracy----------------\n",
      "0.7361563517915309\n",
      "-------------Finish----------------\n",
      "-------------Test-Accuracy----------------\n",
      "0.7207792207792207\n",
      "-------------Train-Accuracy----------------\n",
      "0.7361563517915309\n",
      "-------------Finish----------------\n",
      "-------------Test-Accuracy----------------\n",
      "0.6948051948051948\n",
      "-------------Train-Accuracy----------------\n",
      "0.754071661237785\n",
      "-------------Finish----------------\n",
      "-------------Test-Accuracy----------------\n",
      "0.7142857142857143\n",
      "-------------Train-Accuracy----------------\n",
      "0.7671009771986971\n",
      "-------------Finish----------------\n",
      "-------------Test-Accuracy----------------\n",
      "0.6428571428571429\n",
      "-------------Train-Accuracy----------------\n",
      "0.754071661237785\n",
      "-------------Finish----------------\n",
      "-------------Test-Accuracy----------------\n",
      "0.6363636363636364\n",
      "-------------Train-Accuracy----------------\n",
      "0.6938110749185668\n",
      "-------------Finish----------------\n",
      "-------------Test-Accuracy----------------\n",
      "0.35064935064935066\n",
      "-------------Train-Accuracy----------------\n",
      "0.3485342019543974\n",
      "-------------Finish----------------\n"
     ]
    }
   ],
   "source": [
    "test_acc,train_acc=main(train_data,test_data)"
   ]
  },
  {
   "cell_type": "markdown",
   "metadata": {},
   "source": [
    "<h3 align=\"center\">نمودار تغییرات دقت در هر عمق به ازای داده های تست</h3>"
   ]
  },
  {
   "cell_type": "code",
   "execution_count": 63,
   "metadata": {},
   "outputs": [
    {
     "data": {
      "image/png": "[encoded data removed]",
      "text/plain": [
       "<Figure size 432x288 with 1 Axes>"
      ]
     },
     "metadata": {},
     "output_type": "display_data"
    }
   ],
   "source": [
    "accuracy_diagram(test_acc)"
   ]
  },
  {
   "cell_type": "markdown",
   "metadata": {},
   "source": [
    "<h3 align=\"center\">در توصیف روند تغییرات دقت در هر عمق به ازای داده های تست می توان به این نکات اشاره کرد که در عمق های کم مثلا عمق 1 تا 5 دقت نسبت به عمق های بیشتر بالاتر است و این به این معنی است که از عمق 5 به بعد دسته بند ما بر روی داده های آموزش فیت می شود و مشکل بیش برازش رخ می دهد، به طوری که درخت تشکیل شده بر اساس داده های آموزش می تواند بر روی داده های تست به نتایج مطلوبی برسد. این مسئله به این خاطر است که هر چقدر عمق درخت بیشتر شود ما از ویژگی های بیشتری برای ایجاد درخت استفاده می کنیم به گونه ای که انگار درخت صرفا برای این داده های آموزش ساخته می شود و به صورت کلی ممکن است نتواند بر روی داده های دیده نشده(تست) به نتایج مطلوبی برسد</h3>"
   ]
  },
  {
   "cell_type": "markdown",
   "metadata": {},
   "source": [
    "<h3 align=\"center\">نمودار تغییرات دقت در هر عمق به ازای داده های آموزش</h3>"
   ]
  },
  {
   "cell_type": "code",
   "execution_count": 64,
   "metadata": {},
   "outputs": [
    {
     "data": {
      "image/png": "[encoded data removed]",
      "text/plain": [
       "<Figure size 432x288 with 1 Axes>"
      ]
     },
     "metadata": {},
     "output_type": "display_data"
    }
   ],
   "source": [
    "accuracy_diagram(train_acc)"
   ]
  },
  {
   "cell_type": "markdown",
   "metadata": {},
   "source": [
    "<h3 align=\"center\">در توصیف روند تغییرات دقت در هر عمق به ازای داده های آموزش می توان به این نکات اشاره کرد که در عمق های کم مثلا  عمق یک تا پنج پیوسته میزان دقت افزایش یافته است و این بدین معنا است که افزایش عمق سبب استفاده از ویژگی های بیشتری برای ایجاد درخت شده است که اینفورمیشن گین بیشتری داشته اند و در عمق های کم بدلیل محدودیت عمق، داده ها نمی توانستند پیور شوند و این مسئله سبب کاهش دقت شده است. این در حالی است که با افزایش عمق برگ های بیشتری پیور شده اند. اما با افزایش عمق پیوسته باید دقت بیشینه شود تا به درخت تصمیم به خطای صفر برسیم اما همانطور که مشاهده می شود پس از عمق پنج پیوسته دقت کاهش یافته است در صورتیکه همانوطر که گفته شد درخت تصمیم می تواند به دقت 100 درصد برسد. دلیل کاهش دقت ناگهانی را می توان اینگونه توصیف کرد که از عمق 5 تا8 به دلیل وجود داده ی کانفیلیکت و نویزی دقت بر روی داده های آموزش کاهش یافته است و همچنین ویژگی های مورد استفاده از عمق 5 به بعد پیش بینی مناسبی از لیبل واقعی داده ندارند و ویژگی های تا عمق 5 بهترین ویژگی ها برای ساخت درخت هستند و اینفورمیشن گین بیشتری دارند   </h3>"
   ]
  },
  {
   "cell_type": "markdown",
   "metadata": {},
   "source": [
    "<h1>5fold-Cross Validation<h1/>"
   ]
  },
  {
   "cell_type": "markdown",
   "metadata": {},
   "source": [
    "<h3 align=\"center\">تعریف دو لیست برای ذخیره سازی دقت بر روی داده های آموزش و اعتبارسنجی به ازای فولدهای مختلف</h3>"
   ]
  },
  {
   "cell_type": "code",
   "execution_count": 76,
   "metadata": {},
   "outputs": [],
   "source": [
    "kfold_train_acc=[]\n",
    "Kfold_val_acc=[]"
   ]
  },
  {
   "cell_type": "markdown",
   "metadata": {},
   "source": [
    "<h3>fold number 1<h3/>"
   ]
  },
  {
   "cell_type": "markdown",
   "metadata": {},
   "source": [
    "<h3 align=\"center\">تقسیم بندی داده ها به نسبت 20 درصد داده ی اعتبار سنجی و 80 درصد داده ی آموزش</h3>"
   ]
  },
  {
   "cell_type": "code",
   "execution_count": 66,
   "metadata": {},
   "outputs": [],
   "source": [
    "train_data = Diabetes_train[123:] #491 from 123 to 491\n",
    "val_data=Diabetes_train[:123] #123 from 0 to 122\n"
   ]
  },
  {
   "cell_type": "markdown",
   "metadata": {},
   "source": [
    "<h3 align=\"center\">ریست کردن ایندکس داده های آموزش</h3>"
   ]
  },
  {
   "cell_type": "code",
   "execution_count": 67,
   "metadata": {},
   "outputs": [],
   "source": [
    "train_data=train_data.reset_index(drop=True)"
   ]
  },
  {
   "cell_type": "markdown",
   "metadata": {},
   "source": [
    "<h3 align=\"center\">ریست کردن ایندکس داده های اعتبار سنجی</h3>"
   ]
  },
  {
   "cell_type": "code",
   "execution_count": 68,
   "metadata": {},
   "outputs": [],
   "source": [
    "val_data=val_data.reset_index(drop=True)"
   ]
  },
  {
   "cell_type": "markdown",
   "metadata": {},
   "source": [
    "<h3 align=\"center\">آموزش درخت بر اساس اولین فولد و به ازای عمق یک تا عشت</h3>"
   ]
  },
  {
   "cell_type": "code",
   "execution_count": 69,
   "metadata": {},
   "outputs": [
    {
     "name": "stdout",
     "output_type": "stream",
     "text": [
      "-------------Test-Accuracy----------------\n",
      "0.7073170731707317\n",
      "-------------Train-Accuracy----------------\n",
      "0.6965376782077393\n",
      "-------------Finish----------------\n",
      "-------------Test-Accuracy----------------\n",
      "0.7317073170731707\n",
      "-------------Train-Accuracy----------------\n",
      "0.7372708757637475\n",
      "-------------Finish----------------\n",
      "-------------Test-Accuracy----------------\n",
      "0.6910569105691057\n",
      "-------------Train-Accuracy----------------\n",
      "0.7433808553971487\n",
      "-------------Finish----------------\n",
      "-------------Test-Accuracy----------------\n",
      "0.6991869918699187\n",
      "-------------Train-Accuracy----------------\n",
      "0.7657841140529531\n",
      "-------------Finish----------------\n",
      "-------------Test-Accuracy----------------\n",
      "0.6829268292682927\n",
      "-------------Train-Accuracy----------------\n",
      "0.7739307535641547\n",
      "-------------Finish----------------\n",
      "-------------Test-Accuracy----------------\n",
      "0.6910569105691057\n",
      "-------------Train-Accuracy----------------\n",
      "0.7617107942973523\n",
      "-------------Finish----------------\n",
      "-------------Test-Accuracy----------------\n",
      "0.5284552845528455\n",
      "-------------Train-Accuracy----------------\n",
      "0.670061099796334\n",
      "-------------Finish----------------\n",
      "-------------Test-Accuracy----------------\n",
      "0.3170731707317073\n",
      "-------------Train-Accuracy----------------\n",
      "0.3564154786150713\n",
      "-------------Finish----------------\n"
     ]
    }
   ],
   "source": [
    "val_acc,train_acc=main(train_data,val_data)"
   ]
  },
  {
   "cell_type": "code",
   "execution_count": 77,
   "metadata": {},
   "outputs": [],
   "source": [
    "kfold_train_acc.append(train_acc)\n",
    "Kfold_val_acc.append(val_acc)"
   ]
  },
  {
   "cell_type": "code",
   "execution_count": 78,
   "metadata": {},
   "outputs": [
    {
     "data": {
      "text/plain": [
       "[[0.6965376782077393,\n",
       "  0.7372708757637475,\n",
       "  0.7433808553971487,\n",
       "  0.7657841140529531,\n",
       "  0.7739307535641547,\n",
       "  0.7617107942973523,\n",
       "  0.670061099796334,\n",
       "  0.3564154786150713]]"
      ]
     },
     "execution_count": 78,
     "metadata": {},
     "output_type": "execute_result"
    }
   ],
   "source": [
    "kfold_train_acc"
   ]
  },
  {
   "cell_type": "code",
   "execution_count": 79,
   "metadata": {},
   "outputs": [
    {
     "data": {
      "text/plain": [
       "[[0.7073170731707317,\n",
       "  0.7317073170731707,\n",
       "  0.6910569105691057,\n",
       "  0.6991869918699187,\n",
       "  0.6829268292682927,\n",
       "  0.6910569105691057,\n",
       "  0.5284552845528455,\n",
       "  0.3170731707317073]]"
      ]
     },
     "execution_count": 79,
     "metadata": {},
     "output_type": "execute_result"
    }
   ],
   "source": [
    "Kfold_val_acc"
   ]
  },
  {
   "cell_type": "code",
   "execution_count": 80,
   "metadata": {},
   "outputs": [
    {
     "data": {
      "image/png": "[encoded data removed]",
      "text/plain": [
       "<Figure size 432x288 with 1 Axes>"
      ]
     },
     "metadata": {},
     "output_type": "display_data"
    }
   ],
   "source": [
    "accuracy_diagram(val_acc)"
   ]
  },
  {
   "cell_type": "code",
   "execution_count": 81,
   "metadata": {},
   "outputs": [
    {
     "data": {
      "image/png": "[encoded data removed]",
      "text/plain": [
       "<Figure size 432x288 with 1 Axes>"
      ]
     },
     "metadata": {},
     "output_type": "display_data"
    }
   ],
   "source": [
    "accuracy_diagram(train_acc)"
   ]
  },
  {
   "cell_type": "markdown",
   "metadata": {},
   "source": [
    "<h3>fold number 2<h3/>"
   ]
  },
  {
   "cell_type": "markdown",
   "metadata": {},
   "source": [
    "<h3 align=\"center\">همانند فولد یک تمامی موارد را برای فولدهای دیگر تکرار می کنیم</h3>"
   ]
  },
  {
   "cell_type": "code",
   "execution_count": 82,
   "metadata": {},
   "outputs": [],
   "source": [
    "train_data = Diabetes_train[:] #491 from 246 to 614 and 0 t0 123\n",
    "val_data=Diabetes_train[123:246] #123 from 123 to 246\n",
    "train_data=train_data.drop(val_data.index)\n"
   ]
  },
  {
   "cell_type": "code",
   "execution_count": 83,
   "metadata": {},
   "outputs": [],
   "source": [
    "train_data=train_data.reset_index(drop=True)"
   ]
  },
  {
   "cell_type": "code",
   "execution_count": 84,
   "metadata": {},
   "outputs": [],
   "source": [
    "val_data=val_data.reset_index(drop=True)"
   ]
  },
  {
   "cell_type": "code",
   "execution_count": 85,
   "metadata": {},
   "outputs": [
    {
     "name": "stdout",
     "output_type": "stream",
     "text": [
      "-------------Test-Accuracy----------------\n",
      "0.6991869918699187\n",
      "-------------Train-Accuracy----------------\n",
      "0.6985743380855397\n",
      "-------------Finish----------------\n",
      "-------------Test-Accuracy----------------\n",
      "0.7154471544715447\n",
      "-------------Train-Accuracy----------------\n",
      "0.7413441955193483\n",
      "-------------Finish----------------\n",
      "-------------Test-Accuracy----------------\n",
      "0.7154471544715447\n",
      "-------------Train-Accuracy----------------\n",
      "0.7413441955193483\n",
      "-------------Finish----------------\n",
      "-------------Test-Accuracy----------------\n",
      "0.7398373983739838\n",
      "-------------Train-Accuracy----------------\n",
      "0.7576374745417516\n",
      "-------------Finish----------------\n",
      "-------------Test-Accuracy----------------\n",
      "0.7479674796747967\n",
      "-------------Train-Accuracy----------------\n",
      "0.7739307535641547\n",
      "-------------Finish----------------\n",
      "-------------Test-Accuracy----------------\n",
      "0.7154471544715447\n",
      "-------------Train-Accuracy----------------\n",
      "0.7759674134419552\n",
      "-------------Finish----------------\n",
      "-------------Test-Accuracy----------------\n",
      "0.6016260162601627\n",
      "-------------Train-Accuracy----------------\n",
      "0.670061099796334\n",
      "-------------Finish----------------\n",
      "-------------Test-Accuracy----------------\n",
      "0.35772357723577236\n",
      "-------------Train-Accuracy----------------\n",
      "0.34623217922606925\n",
      "-------------Finish----------------\n"
     ]
    }
   ],
   "source": [
    "val_acc,train_acc=main(train_data,val_data)"
   ]
  },
  {
   "cell_type": "code",
   "execution_count": 86,
   "metadata": {},
   "outputs": [],
   "source": [
    "kfold_train_acc.append(train_acc)\n",
    "Kfold_val_acc.append(val_acc)"
   ]
  },
  {
   "cell_type": "code",
   "execution_count": 88,
   "metadata": {},
   "outputs": [
    {
     "data": {
      "image/png": "[encoded data removed]",
      "text/plain": [
       "<Figure size 432x288 with 1 Axes>"
      ]
     },
     "metadata": {},
     "output_type": "display_data"
    }
   ],
   "source": [
    "accuracy_diagram(val_acc)"
   ]
  },
  {
   "cell_type": "code",
   "execution_count": 89,
   "metadata": {},
   "outputs": [
    {
     "data": {
      "image/png": "[encoded data removed]",
      "text/plain": [
       "<Figure size 432x288 with 1 Axes>"
      ]
     },
     "metadata": {},
     "output_type": "display_data"
    }
   ],
   "source": [
    "accuracy_diagram(train_acc)"
   ]
  },
  {
   "cell_type": "markdown",
   "metadata": {},
   "source": [
    "<h3>fold number 3<h3/>"
   ]
  },
  {
   "cell_type": "code",
   "execution_count": 90,
   "metadata": {},
   "outputs": [],
   "source": [
    "train_data = Diabetes_train[:] #491 from 369 to 614 and 0 to 246\n",
    "val_data=Diabetes_train[246:369] #123 from 246 to 369\n",
    "train_data=train_data.drop(val_data.index)\n"
   ]
  },
  {
   "cell_type": "code",
   "execution_count": 91,
   "metadata": {},
   "outputs": [],
   "source": [
    "train_data=train_data.reset_index(drop=True)"
   ]
  },
  {
   "cell_type": "code",
   "execution_count": 92,
   "metadata": {},
   "outputs": [],
   "source": [
    "val_data=val_data.reset_index(drop=True)"
   ]
  },
  {
   "cell_type": "code",
   "execution_count": 93,
   "metadata": {},
   "outputs": [
    {
     "name": "stdout",
     "output_type": "stream",
     "text": [
      "-------------Test-Accuracy----------------\n",
      "0.6016260162601627\n",
      "-------------Train-Accuracy----------------\n",
      "0.7230142566191446\n",
      "-------------Finish----------------\n",
      "-------------Test-Accuracy----------------\n",
      "0.6585365853658537\n",
      "-------------Train-Accuracy----------------\n",
      "0.7556008146639511\n",
      "-------------Finish----------------\n",
      "-------------Test-Accuracy----------------\n",
      "0.6260162601626016\n",
      "-------------Train-Accuracy----------------\n",
      "0.7556008146639511\n",
      "-------------Finish----------------\n",
      "-------------Test-Accuracy----------------\n",
      "0.6422764227642277\n",
      "-------------Train-Accuracy----------------\n",
      "0.7657841140529531\n",
      "-------------Finish----------------\n",
      "-------------Test-Accuracy----------------\n",
      "0.6178861788617886\n",
      "-------------Train-Accuracy----------------\n",
      "0.780040733197556\n",
      "-------------Finish----------------\n",
      "-------------Test-Accuracy----------------\n",
      "0.6260162601626016\n",
      "-------------Train-Accuracy----------------\n",
      "0.790224032586558\n",
      "-------------Finish----------------\n",
      "-------------Test-Accuracy----------------\n",
      "0.5691056910569106\n",
      "-------------Train-Accuracy----------------\n",
      "0.7067209775967414\n",
      "-------------Finish----------------\n",
      "-------------Test-Accuracy----------------\n",
      "0.3008130081300813\n",
      "-------------Train-Accuracy----------------\n",
      "0.3604887983706721\n",
      "-------------Finish----------------\n"
     ]
    }
   ],
   "source": [
    "val_acc,train_acc=main(train_data,val_data)"
   ]
  },
  {
   "cell_type": "code",
   "execution_count": 95,
   "metadata": {},
   "outputs": [],
   "source": [
    "kfold_train_acc.append(train_acc)\n",
    "Kfold_val_acc.append(val_acc)"
   ]
  },
  {
   "cell_type": "code",
   "execution_count": 96,
   "metadata": {},
   "outputs": [
    {
     "data": {
      "image/png": "[encoded data removed]",
      "text/plain": [
       "<Figure size 432x288 with 1 Axes>"
      ]
     },
     "metadata": {},
     "output_type": "display_data"
    }
   ],
   "source": [
    "accuracy_diagram(val_acc)"
   ]
  },
  {
   "cell_type": "code",
   "execution_count": 97,
   "metadata": {},
   "outputs": [
    {
     "data": {
      "image/png": "[encoded data removed]",
      "text/plain": [
       "<Figure size 432x288 with 1 Axes>"
      ]
     },
     "metadata": {},
     "output_type": "display_data"
    }
   ],
   "source": [
    "accuracy_diagram(train_acc)"
   ]
  },
  {
   "cell_type": "markdown",
   "metadata": {},
   "source": [
    "<h3>fold number 4<h3/>"
   ]
  },
  {
   "cell_type": "code",
   "execution_count": 100,
   "metadata": {},
   "outputs": [],
   "source": [
    "train_data = Diabetes_train[:] #491 from 492 to 614 and 0 to 492\n",
    "val_data=Diabetes_train[369:492] #123 from 369 to 492\n",
    "train_data=train_data.drop(val_data.index)\n"
   ]
  },
  {
   "cell_type": "code",
   "execution_count": 101,
   "metadata": {},
   "outputs": [],
   "source": [
    "train_data=train_data.reset_index(drop=True)"
   ]
  },
  {
   "cell_type": "code",
   "execution_count": 102,
   "metadata": {},
   "outputs": [],
   "source": [
    "val_data=val_data.reset_index(drop=True)"
   ]
  },
  {
   "cell_type": "code",
   "execution_count": 103,
   "metadata": {},
   "outputs": [
    {
     "name": "stdout",
     "output_type": "stream",
     "text": [
      "-------------Test-Accuracy----------------\n",
      "0.7398373983739838\n",
      "-------------Train-Accuracy----------------\n",
      "0.6883910386965377\n",
      "-------------Finish----------------\n",
      "-------------Test-Accuracy----------------\n",
      "0.7560975609756098\n",
      "-------------Train-Accuracy----------------\n",
      "0.7311608961303462\n",
      "-------------Finish----------------\n",
      "-------------Test-Accuracy----------------\n",
      "0.7560975609756098\n",
      "-------------Train-Accuracy----------------\n",
      "0.7311608961303462\n",
      "-------------Finish----------------\n",
      "-------------Test-Accuracy----------------\n",
      "0.7642276422764228\n",
      "-------------Train-Accuracy----------------\n",
      "0.7515274949083504\n",
      "-------------Finish----------------\n",
      "-------------Test-Accuracy----------------\n",
      "0.7967479674796748\n",
      "-------------Train-Accuracy----------------\n",
      "0.7617107942973523\n",
      "-------------Finish----------------\n",
      "-------------Test-Accuracy----------------\n",
      "0.7317073170731707\n",
      "-------------Train-Accuracy----------------\n",
      "0.7291242362525459\n",
      "-------------Finish----------------\n",
      "-------------Test-Accuracy----------------\n",
      "0.5528455284552846\n",
      "-------------Train-Accuracy----------------\n",
      "0.5417515274949084\n",
      "-------------Finish----------------\n",
      "-------------Test-Accuracy----------------\n",
      "0.42276422764227645\n",
      "-------------Train-Accuracy----------------\n",
      "0.329938900203666\n",
      "-------------Finish----------------\n"
     ]
    }
   ],
   "source": [
    "val_acc,train_acc=main(train_data,val_data)"
   ]
  },
  {
   "cell_type": "code",
   "execution_count": 104,
   "metadata": {},
   "outputs": [],
   "source": [
    "kfold_train_acc.append(train_acc)\n",
    "Kfold_val_acc.append(val_acc)"
   ]
  },
  {
   "cell_type": "code",
   "execution_count": 105,
   "metadata": {},
   "outputs": [
    {
     "data": {
      "image/png": "[encoded data removed]",
      "text/plain": [
       "<Figure size 432x288 with 1 Axes>"
      ]
     },
     "metadata": {},
     "output_type": "display_data"
    }
   ],
   "source": [
    "accuracy_diagram(val_acc)"
   ]
  },
  {
   "cell_type": "code",
   "execution_count": 106,
   "metadata": {},
   "outputs": [
    {
     "data": {
      "image/png": "[encoded data removed]",
      "text/plain": [
       "<Figure size 432x288 with 1 Axes>"
      ]
     },
     "metadata": {},
     "output_type": "display_data"
    }
   ],
   "source": [
    "accuracy_diagram(train_acc)"
   ]
  },
  {
   "cell_type": "markdown",
   "metadata": {},
   "source": [
    "<h3>fold number 5<h3/>"
   ]
  },
  {
   "cell_type": "code",
   "execution_count": 107,
   "metadata": {},
   "outputs": [],
   "source": [
    "train_data = Diabetes_train[:] #492 from 0 to 492\n",
    "val_data=Diabetes_train[492:] #122 from 492 to 614\n",
    "train_data=train_data.drop(val_data.index)\n"
   ]
  },
  {
   "cell_type": "code",
   "execution_count": 108,
   "metadata": {},
   "outputs": [],
   "source": [
    "train_data=train_data.reset_index(drop=True)"
   ]
  },
  {
   "cell_type": "code",
   "execution_count": 109,
   "metadata": {},
   "outputs": [],
   "source": [
    "val_data=val_data.reset_index(drop=True)"
   ]
  },
  {
   "cell_type": "code",
   "execution_count": 110,
   "metadata": {},
   "outputs": [
    {
     "name": "stdout",
     "output_type": "stream",
     "text": [
      "-------------Test-Accuracy----------------\n",
      "0.7459016393442623\n",
      "-------------Train-Accuracy----------------\n",
      "0.6869918699186992\n",
      "-------------Finish----------------\n",
      "-------------Test-Accuracy----------------\n",
      "0.6721311475409836\n",
      "-------------Train-Accuracy----------------\n",
      "0.7235772357723578\n",
      "-------------Finish----------------\n",
      "-------------Test-Accuracy----------------\n",
      "0.6721311475409836\n",
      "-------------Train-Accuracy----------------\n",
      "0.7235772357723578\n",
      "-------------Finish----------------\n",
      "-------------Test-Accuracy----------------\n",
      "0.6639344262295082\n",
      "-------------Train-Accuracy----------------\n",
      "0.7357723577235772\n",
      "-------------Finish----------------\n",
      "-------------Test-Accuracy----------------\n",
      "0.7213114754098361\n",
      "-------------Train-Accuracy----------------\n",
      "0.7682926829268293\n",
      "-------------Finish----------------\n",
      "-------------Test-Accuracy----------------\n",
      "0.6885245901639344\n",
      "-------------Train-Accuracy----------------\n",
      "0.7642276422764228\n",
      "-------------Finish----------------\n",
      "-------------Test-Accuracy----------------\n",
      "0.6557377049180327\n",
      "-------------Train-Accuracy----------------\n",
      "0.6829268292682927\n",
      "-------------Finish----------------\n",
      "-------------Test-Accuracy----------------\n",
      "0.3442622950819672\n",
      "-------------Train-Accuracy----------------\n",
      "0.34959349593495936\n",
      "-------------Finish----------------\n"
     ]
    }
   ],
   "source": [
    "val_acc,train_acc=main(train_data,val_data)"
   ]
  },
  {
   "cell_type": "code",
   "execution_count": 111,
   "metadata": {},
   "outputs": [],
   "source": [
    "kfold_train_acc.append(train_acc)\n",
    "Kfold_val_acc.append(val_acc)"
   ]
  },
  {
   "cell_type": "code",
   "execution_count": 112,
   "metadata": {},
   "outputs": [
    {
     "data": {
      "image/png": "[encoded data removed]",
      "text/plain": [
       "<Figure size 432x288 with 1 Axes>"
      ]
     },
     "metadata": {},
     "output_type": "display_data"
    }
   ],
   "source": [
    "accuracy_diagram(val_acc)"
   ]
  },
  {
   "cell_type": "code",
   "execution_count": 113,
   "metadata": {},
   "outputs": [
    {
     "data": {
      "image/png": "[encoded data removed]",
      "text/plain": [
       "<Figure size 432x288 with 1 Axes>"
      ]
     },
     "metadata": {},
     "output_type": "display_data"
    }
   ],
   "source": [
    "accuracy_diagram(train_acc)"
   ]
  },
  {
   "cell_type": "markdown",
   "metadata": {},
   "source": [
    "<h3 align=\"center\">تعیین بهترین عمق درخت </h3>"
   ]
  },
  {
   "cell_type": "code",
   "execution_count": 120,
   "metadata": {},
   "outputs": [
    {
     "data": {
      "text/plain": [
       "array([0.69877382, 0.70678395, 0.69214981, 0.70189258, 0.71336799,\n",
       "       0.69055045, 0.58155405, 0.34852726])"
      ]
     },
     "execution_count": 120,
     "metadata": {},
     "output_type": "execute_result"
    }
   ],
   "source": [
    "result_kfold=np.array(Kfold_val_acc[0])+np.array(Kfold_val_acc[1])+np.array(Kfold_val_acc[2])+np.array(Kfold_val_acc[3])+np.array(Kfold_val_acc[4])\n",
    "result_kfold=result_kfold/5\n",
    "result_kfold"
   ]
  },
  {
   "cell_type": "markdown",
   "metadata": {},
   "source": [
    "<h3 align=\"center\">بنابر نتایج بدست آمده بهترین عمق درخت، عمق 5 بدست آمد </h3>"
   ]
  },
  {
   "cell_type": "markdown",
   "metadata": {},
   "source": [
    "<h3>Best Depth<h3/>"
   ]
  },
  {
   "cell_type": "markdown",
   "metadata": {},
   "source": [
    "<h3 align=\"center\">ایجاد درخت تصمیم بر روی داده های آموزش بر اساس بهترین عمق </h3>"
   ]
  },
  {
   "cell_type": "code",
   "execution_count": 121,
   "metadata": {},
   "outputs": [],
   "source": [
    "train_data = Diabetes_train[:]\n",
    "test_data=Diabetes_test[:]"
   ]
  },
  {
   "cell_type": "code",
   "execution_count": 122,
   "metadata": {},
   "outputs": [
    {
     "name": "stdout",
     "output_type": "stream",
     "text": [
      "-------------Test-Accuracy----------------\n",
      "0.7142857142857143\n",
      "-------------Train-Accuracy----------------\n",
      "0.7671009771986971\n",
      "-------------Finish----------------\n"
     ]
    }
   ],
   "source": [
    "test_acc=[]\n",
    "train_acc=[]\n",
    "dt = DecisionTree()\n",
    "dt.__init__(max_depth=5)\n",
    "dt.train(train_data)\n",
    "print(\"-------------Test-Accuracy----------------\")\n",
    "temp_test=Calculate_Acc(test_data,dt)\n",
    "test_acc.append(temp_test)\n",
    "print(temp_test)\n",
    "print(\"-------------Train-Accuracy----------------\")\n",
    "temp_train=Calculate_Acc(train_data,dt)\n",
    "train_acc.append(temp_train)\n",
    "print(temp_train)\n",
    "print(\"-------------Finish----------------\")"
   ]
  },
  {
   "cell_type": "markdown",
   "metadata": {},
   "source": [
    "<h3>Confusion Matrix<h3/>"
   ]
  },
  {
   "cell_type": "markdown",
   "metadata": {},
   "source": [
    "<h3 align=\"center\">پیش بینی بر روری داده های تست </h3>"
   ]
  },
  {
   "cell_type": "code",
   "execution_count": 123,
   "metadata": {},
   "outputs": [],
   "source": [
    "y_pred = []\n",
    "for ix in range(test_data.shape[0]):\n",
    "    y_pred.append(dt.predict(test_data.loc[ix]))\n",
    "for i in range(len(y_pred)):\n",
    "    if y_pred[i] == \"Negative\":\n",
    "        y_pred[i] = 0\n",
    "    else:\n",
    "        y_pred[i] = 1\n",
    "accuracy=np.mean(y_pred == test_data['Outcome'])"
   ]
  },
  {
   "cell_type": "code",
   "execution_count": 124,
   "metadata": {},
   "outputs": [],
   "source": [
    "y_true=[]\n",
    "for i in range(len(test_data['Outcome'])):\n",
    "    y_true.append(test_data['Outcome'][i])"
   ]
  },
  {
   "cell_type": "code",
   "execution_count": 125,
   "metadata": {},
   "outputs": [],
   "source": [
    "data = {'y_Actual':y_true,\n",
    "        'y_Predicted':y_pred}"
   ]
  },
  {
   "cell_type": "code",
   "execution_count": 126,
   "metadata": {},
   "outputs": [
    {
     "data": {
      "image/png": "[encoded data removed]",
      "text/plain": [
       "<Figure size 432x288 with 2 Axes>"
      ]
     },
     "metadata": {},
     "output_type": "display_data"
    }
   ],
   "source": [
    "df = pd.DataFrame(data, columns=['y_Actual','y_Predicted'])\n",
    "confusion_matrix = pd.crosstab(df['y_Actual'], df['y_Predicted'], rownames=['Actual'], colnames=['Predicted'])\n",
    "\n",
    "sns.heatmap(confusion_matrix, annot=True)\n",
    "plt.show()"
   ]
  },
  {
   "cell_type": "markdown",
   "metadata": {},
   "source": [
    "<h3 align=\"center\">Sensitivity</h3>"
   ]
  },
  {
   "cell_type": "code",
   "execution_count": 127,
   "metadata": {},
   "outputs": [
    {
     "data": {
      "text/plain": [
       "0.5740740740740741"
      ]
     },
     "execution_count": 127,
     "metadata": {},
     "output_type": "execute_result"
    }
   ],
   "source": [
    "Sen=(31)/(31+23)\n",
    "Sen"
   ]
  },
  {
   "cell_type": "markdown",
   "metadata": {},
   "source": [
    "<h3 align=\"center\">f-score</h3>"
   ]
  },
  {
   "cell_type": "code",
   "execution_count": 128,
   "metadata": {},
   "outputs": [
    {
     "data": {
      "text/plain": [
       "0.5849056603773585"
      ]
     },
     "execution_count": 128,
     "metadata": {},
     "output_type": "execute_result"
    }
   ],
   "source": [
    "fs=(2*31)/(2*31+23+21)\n",
    "fs"
   ]
  },
  {
   "cell_type": "markdown",
   "metadata": {},
   "source": [
    "<h3 align=\"center\">Specificity</h3>"
   ]
  },
  {
   "cell_type": "code",
   "execution_count": 129,
   "metadata": {},
   "outputs": [
    {
     "data": {
      "text/plain": [
       "0.79"
      ]
     },
     "execution_count": 129,
     "metadata": {},
     "output_type": "execute_result"
    }
   ],
   "source": [
    "Sp=(79)/(79+21)\n",
    "Sp"
   ]
  },
  {
   "cell_type": "markdown",
   "metadata": {},
   "source": [
    "<h3 align=\"center\">(Accurcy)توصیف</h3>"
   ]
  },
  {
   "cell_type": "markdown",
   "metadata": {},
   "source": [
    "<h3 align=\"center\">به طور کلی، دقت به این معناست که مدل تا چه اندازه خروجی را درست پیش بینی می کند. با نگاه کردن به دقت بلافاصله می توان دریافت که آیا مدل درست آموزش دیده است یا خیر و کارآیی آن به طور کلی چگونه است. اما این معیار اطلاعات جزئی در مورد کارآیی مدل ارائه نمی دهد بنابریان برای ارزیابی دقیق تر مدل آموزش دیده به ازای هر پارمتر نیاز به معیارهای دیگری داریم. بنابراین در انتخاب معیارهای ارزیابی کارایی می بایست دلایل قانع کننده وجود داشته باشد چرا که چگونگی اندازه گیری ئ مقایسه کارآیی الگوریتم ها کاملا به معیارهایی که انتخاب می کنیم وابسته است.همچنین چگونگی وزن دادن به به اهمیت ویژگی های مختلف در نتایج، کاملا تجت تاثیر معیارهایی است که انتخاب می کنیم </h3>"
   ]
  },
  {
   "cell_type": "markdown",
   "metadata": {},
   "source": [
    "<h3 align=\"center\">(Sensitivity(حساسیت)،Specificity(صحت)،f-score)توصیف</h3>"
   ]
  },
  {
   "cell_type": "markdown",
   "metadata": {},
   "source": [
    "<h3 align=\"center\">گاهی ممکن است دقت تشخیص کلاس منفی حائز اهمیت باشد. از متداول ترین پارامترها که معمولا در کنار حساسیت بررسی می شود، پارامتر صحت است که به آن نرخ پاسخ های منفی درست نیز می گویند. این معیار برای ارزیابی نمونه های منفی است که مدل آنها را به درستی به عنوان نمونه منفی تشخیص داده است. معیار حساسیت زمانی اهمیت پیدا می کند که ما می خواهیم ارزیابی کنیم که مدل ما تا چه اندازه به اشتباه نمونه ها را منفی پیش بینی کرده است. مثلا اگر مدل ما افرادی که سرطان دارند را سالم در نظر بگیرد می تواند عواقب جبران ناپذیری داشته باشد. پریسیژن معیاری است که تعیین می کند که وقتی مدل یک نمونه را درست پیش بینی می کند تا چه حد درست است. فرض کنید مدلی برای تشخیص سرطان داشته باشیم و این مدل بیماری بسیاری از نمونه ها به اشتباه سرطان تشخیص می دهد و این مسئله می تواند عواقب بدی داشته باشد   </h3>"
   ]
  },
  {
   "cell_type": "markdown",
   "metadata": {},
   "source": [
    "<h3 align=\"center\"> معیار اف اسکور زمانی اهمیت پیدا می کند که ما می خواهیم مدل را به صورت میانگینی از معیارهای سنسیویتی و پریسیژن ارزیابی کنیم. اف اسکور یک میانگین هارمونیک از این دو معیار است  </h3>"
   ]
  },
  {
   "cell_type": "code",
   "execution_count": null,
   "metadata": {},
   "outputs": [],
   "source": []
  }
 ],
 "metadata": {
  "kernelspec": {
   "display_name": "Python 3",
   "language": "python",
   "name": "python3"
  },
  "language_info": {
   "codemirror_mode": {
    "name": "ipython",
    "version": 3
   },
   "file_extension": ".py",
   "mimetype": "text/x-python",
   "name": "python",
   "nbconvert_exporter": "python",
   "pygments_lexer": "ipython3",
   "version": "3.8.5"
  }
 },
 "nbformat": 4,
 "nbformat_minor": 4
}
